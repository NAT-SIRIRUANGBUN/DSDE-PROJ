{
 "cells": [
  {
   "cell_type": "code",
   "execution_count": 3,
   "metadata": {},
   "outputs": [],
   "source": [
    "import numpy as np\n",
    "import pandas as pd\n",
    "import json\n",
    "import os\n"
   ]
  },
  {
   "cell_type": "code",
   "execution_count": 4,
   "metadata": {},
   "outputs": [],
   "source": [
    "data = []"
   ]
  },
  {
   "cell_type": "code",
   "execution_count": 5,
   "metadata": {},
   "outputs": [],
   "source": [
    "year = [2018, 2019, 2020, 2021, 2022, 2023]\n",
    "for i in year:\n",
    "    path = ('./DATA/JSON/' + str(i))\n",
    "    file_in_that_year = (os.listdir(path=path))\n",
    "    for j in file_in_that_year:\n",
    "        with open(path + '/' + j) as fd:\n",
    "            try :\n",
    "                js = json.load(fd)\n",
    "                data.append(js)\n",
    "            except:\n",
    "                pass\n",
    "            \n"
   ]
  },
  {
   "cell_type": "code",
   "execution_count": 6,
   "metadata": {},
   "outputs": [],
   "source": [
    "all_data_dump = json.dumps(data)\n",
    "partial_data_dump = json.dumps(data[:100])\n",
    "\n",
    "with open(\"./DATA/all_data.json\", \"w\") as outfile:\n",
    "    outfile.write(all_data_dump)\n",
    "\n",
    "with open(\"./DATA/partial_data.json\", \"w\") as outfile:\n",
    "    outfile.write(partial_data_dump)\n"
   ]
  }
 ],
 "metadata": {
  "kernelspec": {
   "display_name": "base",
   "language": "python",
   "name": "python3"
  },
  "language_info": {
   "codemirror_mode": {
    "name": "ipython",
    "version": 3
   },
   "file_extension": ".py",
   "mimetype": "text/x-python",
   "name": "python",
   "nbconvert_exporter": "python",
   "pygments_lexer": "ipython3",
   "version": "3.12.4"
  },
  "orig_nbformat": 4
 },
 "nbformat": 4,
 "nbformat_minor": 2
}
