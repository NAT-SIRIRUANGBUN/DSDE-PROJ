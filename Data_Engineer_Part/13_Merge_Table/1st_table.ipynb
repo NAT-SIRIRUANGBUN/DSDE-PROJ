{
 "cells": [
  {
   "cell_type": "code",
   "execution_count": null,
   "metadata": {},
   "outputs": [],
   "source": [
    "import pandas as pd\n",
    "import numpy as np"
   ]
  },
  {
   "cell_type": "code",
   "execution_count": null,
   "metadata": {},
   "outputs": [],
   "source": [
    "funding_interest_aj = pd.read_csv('../06_Funding_Table_And_Geo_Code/funding_organization_interest.csv')\n",
    "funding_interest_aj"
   ]
  },
  {
   "cell_type": "code",
   "execution_count": null,
   "metadata": {},
   "outputs": [],
   "source": [
    "update_cite = pd.read_csv('../05_API_Correct_Cite_By_Data/UPDATE_CITE_TITLE.csv').drop(columns=\"Unnamed: 0\")\n",
    "update_cite"
   ]
  },
  {
   "cell_type": "code",
   "execution_count": null,
   "metadata": {},
   "outputs": [],
   "source": [
    "edit_sub_type = pd.read_csv('../01_Combine_Data/eid&subtype.csv')\n",
    "edit_sub_type"
   ]
  },
  {
   "cell_type": "code",
   "execution_count": null,
   "metadata": {},
   "outputs": [],
   "source": [
    "funding_interest_aj = funding_interest_aj.merge(edit_sub_type, how='left', on='Eid')\n",
    "funding_interest_aj"
   ]
  },
  {
   "cell_type": "code",
   "execution_count": null,
   "metadata": {},
   "outputs": [],
   "source": [
    "funding_interest_aj.isna().sum()"
   ]
  },
  {
   "cell_type": "code",
   "execution_count": null,
   "metadata": {},
   "outputs": [],
   "source": [
    "funding_interest_aj = funding_interest_aj[funding_interest_aj['Subtype'] == 'Article']\n",
    "funding_interest_aj"
   ]
  },
  {
   "cell_type": "code",
   "execution_count": null,
   "metadata": {},
   "outputs": [],
   "source": [
    "funding_interest_aj = funding_interest_aj.merge(update_cite, how='left', on='Eid')\n",
    "funding_interest_aj"
   ]
  },
  {
   "cell_type": "code",
   "execution_count": null,
   "metadata": {},
   "outputs": [],
   "source": [
    "funding_interest_aj['Subject_Field'] = funding_interest_aj['Subject_Field'].apply(lambda x : str(x)[0:2])\n",
    "funding_interest_aj = funding_interest_aj.drop_duplicates()\n",
    "funding_interest_aj"
   ]
  },
  {
   "cell_type": "code",
   "execution_count": null,
   "metadata": {},
   "outputs": [],
   "source": [
    "interest_scrape = pd.read_csv('../10_API_Get_2017_Subject_Area/api_subject_field.csv').drop(columns=['Unnamed: 0'])\n",
    "interest_scrape"
   ]
  },
  {
   "cell_type": "code",
   "execution_count": null,
   "metadata": {},
   "outputs": [],
   "source": [
    "interest_scrape[interest_scrape['Eid'] == '2-s2.0-85118788235']"
   ]
  },
  {
   "cell_type": "code",
   "execution_count": null,
   "metadata": {},
   "outputs": [],
   "source": [
    "funding_name_list_scrape = pd.read_csv('../09_Table_From_Scraping_Data/funding_list_by_eid_scrape.csv')\n",
    "funding_name_list_scrape"
   ]
  },
  {
   "cell_type": "code",
   "execution_count": null,
   "metadata": {},
   "outputs": [],
   "source": [
    "interest_scrape = interest_scrape.merge(funding_name_list_scrape, how='left', on='Eid')\n",
    "interest_scrape"
   ]
  },
  {
   "cell_type": "code",
   "execution_count": null,
   "metadata": {},
   "outputs": [],
   "source": [
    "funding_name_to_country = pd.read_csv('../11_ChatGPT_Funding_Agency_Name_Country/Funding_Name_To_Country_Chat_Clean.csv').drop(columns=\"Unnamed: 0\").rename(columns={\"funding_agency_name\" : \"Agency_Name\", \"Country\" : \"Merge_Country\"})\n",
    "funding_name_to_country"
   ]
  },
  {
   "cell_type": "code",
   "execution_count": null,
   "metadata": {},
   "outputs": [],
   "source": [
    "interest_scrape = interest_scrape.merge(funding_name_to_country, how='left', on='Agency_Name')"
   ]
  },
  {
   "cell_type": "code",
   "execution_count": null,
   "metadata": {},
   "outputs": [],
   "source": [
    "interest_scrape['Country'] = np.where(\n",
    "    interest_scrape['Agency_Country'].notna(), \n",
    "    interest_scrape['Agency_Country'], \n",
    "    interest_scrape['Merge_Country']\n",
    ")"
   ]
  },
  {
   "cell_type": "code",
   "execution_count": null,
   "metadata": {},
   "outputs": [],
   "source": [
    "interest_scrape = interest_scrape[~interest_scrape['Country'].isna() & ~interest_scrape['Agency_Name'].isna()][['Eid', 'Agency_Name', 'Subject_Field', 'Country']]\n",
    "interest_scrape['Year'] = '2017'"
   ]
  },
  {
   "cell_type": "code",
   "execution_count": null,
   "metadata": {},
   "outputs": [],
   "source": [
    "interest_scrape"
   ]
  },
  {
   "cell_type": "code",
   "execution_count": null,
   "metadata": {},
   "outputs": [],
   "source": [
    "funding_interest_scrape = interest_scrape"
   ]
  },
  {
   "cell_type": "code",
   "execution_count": null,
   "metadata": {},
   "outputs": [],
   "source": [
    "update_cite"
   ]
  },
  {
   "cell_type": "code",
   "execution_count": null,
   "metadata": {},
   "outputs": [],
   "source": [
    "funding_interest_scrape = funding_interest_scrape.merge(update_cite, how='left', on='Eid')"
   ]
  },
  {
   "cell_type": "code",
   "execution_count": null,
   "metadata": {},
   "outputs": [],
   "source": [
    "funding_interest_scrape"
   ]
  },
  {
   "cell_type": "code",
   "execution_count": null,
   "metadata": {},
   "outputs": [],
   "source": [
    "funding_interest_aj = funding_interest_aj.rename(columns={\"Funding_Agency_Name\" : \"Agency_Name\"})\n",
    "funding_interest_aj"
   ]
  },
  {
   "cell_type": "code",
   "execution_count": null,
   "metadata": {},
   "outputs": [],
   "source": [
    "country_code_to_name = pd.read_csv('../07_Scrape_Funding_Agency_From_Geo_Link/country_code_name.csv')\n",
    "country_code_to_name"
   ]
  },
  {
   "cell_type": "code",
   "execution_count": null,
   "metadata": {},
   "outputs": [],
   "source": [
    "funding_interest_aj = funding_interest_aj.merge(country_code_to_name, how='left', on='Funding_Agency_Country_Code')\n",
    "funding_interest_aj"
   ]
  },
  {
   "cell_type": "code",
   "execution_count": null,
   "metadata": {},
   "outputs": [],
   "source": [
    "funding_interest_aj.isna().sum()"
   ]
  },
  {
   "cell_type": "code",
   "execution_count": null,
   "metadata": {},
   "outputs": [],
   "source": [
    "funding_interest_aj = funding_interest_aj.merge(funding_name_to_country, how='left', on='Agency_Name')"
   ]
  },
  {
   "cell_type": "code",
   "execution_count": null,
   "metadata": {},
   "outputs": [],
   "source": [
    "funding_interest_aj"
   ]
  },
  {
   "cell_type": "code",
   "execution_count": null,
   "metadata": {},
   "outputs": [],
   "source": [
    "funding_interest_aj['Country'] = funding_interest_aj['Country'] = np.where(\n",
    "    funding_interest_aj['Funding_Agency_Country_Name'].notna(), \n",
    "    funding_interest_aj['Funding_Agency_Country_Name'], \n",
    "    funding_interest_aj['Merge_Country']\n",
    ")"
   ]
  },
  {
   "cell_type": "code",
   "execution_count": null,
   "metadata": {},
   "outputs": [],
   "source": [
    "funding_interest_aj = funding_interest_aj[['Eid', 'Agency_Name', 'Subject_Field', 'Publish_month', 'Year', 'Country', 'Title']]\n",
    "funding_interest_aj"
   ]
  },
  {
   "cell_type": "code",
   "execution_count": null,
   "metadata": {},
   "outputs": [],
   "source": [
    "subject_area_lookup = {\n",
    "    \"10\": \"Multidisciplinary\",\n",
    "    \"11\": \"Agricultural and Biological Sciences\",\n",
    "    \"12\": \"Arts and Humanities\",\n",
    "    \"13\": \"Biochemistry, Genetics and Molecular Biology\",\n",
    "    \"14\": \"Business, Management and Accounting\",\n",
    "    \"15\": \"Chemical Engineering\",\n",
    "    \"16\": \"Chemistry\",\n",
    "    \"17\": \"Computer Science\",\n",
    "    \"18\": \"Decision Sciences\",\n",
    "    \"19\": \"Earth and Planetary Sciences\",\n",
    "    \"20\": \"Economics, Econometrics and Finance\",\n",
    "    \"21\": \"Energy\",\n",
    "    \"22\": \"Engineering\",\n",
    "    \"23\": \"Environmental Science\",\n",
    "    \"24\": \"Immunology and Microbiology\",\n",
    "    \"25\": \"Materials Science\",\n",
    "    \"26\": \"Mathematics\",\n",
    "    \"27\": \"Medicine\",\n",
    "    \"28\": \"Neuroscience\",\n",
    "    \"29\": \"Nursing\",\n",
    "    \"30\": \"Pharmacology, Toxicology and Pharmaceutics\",\n",
    "    \"31\": \"Physics and Astronomy\",\n",
    "    \"32\": \"Psychology\",\n",
    "    \"33\": \"Social Sciences\",\n",
    "    \"34\": \"Veterinary\",\n",
    "    \"35\": \"Dentistry\",\n",
    "    \"36\": \"Health Professions\",\n",
    "}\n"
   ]
  },
  {
   "cell_type": "code",
   "execution_count": null,
   "metadata": {},
   "outputs": [],
   "source": [
    "funding_interest_aj['Subject_Field'] = funding_interest_aj['Subject_Field'].apply(lambda x : subject_area_lookup[str(x)])"
   ]
  },
  {
   "cell_type": "code",
   "execution_count": null,
   "metadata": {},
   "outputs": [],
   "source": [
    "funding_interest_aj"
   ]
  },
  {
   "cell_type": "code",
   "execution_count": null,
   "metadata": {},
   "outputs": [],
   "source": [
    "funding_interest_aj.isna().sum()"
   ]
  },
  {
   "cell_type": "code",
   "execution_count": null,
   "metadata": {},
   "outputs": [],
   "source": [
    "funding_interest_aj = funding_interest_aj.dropna().drop_duplicates()"
   ]
  },
  {
   "cell_type": "code",
   "execution_count": null,
   "metadata": {},
   "outputs": [],
   "source": [
    "funding_interest_aj"
   ]
  },
  {
   "cell_type": "code",
   "execution_count": null,
   "metadata": {},
   "outputs": [],
   "source": [
    "funding_interest_scrape = funding_interest_scrape[['Eid', 'Agency_Name', 'Subject_Field', 'Country', 'Title']]"
   ]
  },
  {
   "cell_type": "code",
   "execution_count": null,
   "metadata": {},
   "outputs": [],
   "source": [
    "funding_interest_scrape"
   ]
  },
  {
   "cell_type": "code",
   "execution_count": null,
   "metadata": {},
   "outputs": [],
   "source": [
    "scrape_data_pub_date = pd.read_csv('../12_Scrape_Publish_Date_2017_ChatGPT/Scrape_Data_Pub_Date.csv').rename(columns={'Public_Month' : 'Publish_month', 'Public_Year' : 'Year'})\n",
    "scrape_data_pub_date.pop('Unnamed: 0')\n",
    "scrape_data_pub_date"
   ]
  },
  {
   "cell_type": "code",
   "execution_count": null,
   "metadata": {},
   "outputs": [],
   "source": [
    "funding_interest_scrape = funding_interest_scrape.merge(scrape_data_pub_date, how='left', on='Eid')\n",
    "funding_interest_scrape"
   ]
  },
  {
   "cell_type": "code",
   "execution_count": null,
   "metadata": {},
   "outputs": [],
   "source": [
    "funding_interest_scrape.isna().sum()"
   ]
  },
  {
   "cell_type": "code",
   "execution_count": null,
   "metadata": {},
   "outputs": [],
   "source": [
    "funding_interest_scrape = funding_interest_scrape[funding_interest_scrape['Publish_month'] != 0]"
   ]
  },
  {
   "cell_type": "code",
   "execution_count": null,
   "metadata": {},
   "outputs": [],
   "source": [
    "all_funding_interest = pd.concat([funding_interest_aj, funding_interest_scrape])"
   ]
  },
  {
   "cell_type": "code",
   "execution_count": null,
   "metadata": {},
   "outputs": [],
   "source": [
    "all_funding_interest"
   ]
  },
  {
   "cell_type": "code",
   "execution_count": null,
   "metadata": {},
   "outputs": [],
   "source": [
    "all_funding_interest.isna().sum()"
   ]
  },
  {
   "cell_type": "code",
   "execution_count": null,
   "metadata": {},
   "outputs": [],
   "source": [
    "# all_funding_interest[all_funding_interest['Year'] == '2017']['Eid'].drop_duplicates().to_csv('Pub_Date_2017_Scrape_List.csv')"
   ]
  },
  {
   "cell_type": "code",
   "execution_count": null,
   "metadata": {},
   "outputs": [],
   "source": [
    "funding_country = all_funding_interest['Country'].drop_duplicates().to_list()\n",
    "for i in funding_country:\n",
    "    print(i)"
   ]
  },
  {
   "cell_type": "code",
   "execution_count": null,
   "metadata": {},
   "outputs": [],
   "source": [
    "all_funding_interest.isna().sum()"
   ]
  },
  {
   "cell_type": "code",
   "execution_count": null,
   "metadata": {},
   "outputs": [],
   "source": [
    "all_funding_interest.to_csv('TABLE1.csv', index=False)"
   ]
  }
 ],
 "metadata": {
  "kernelspec": {
   "display_name": "base",
   "language": "python",
   "name": "python3"
  },
  "language_info": {
   "codemirror_mode": {
    "name": "ipython",
    "version": 3
   },
   "file_extension": ".py",
   "mimetype": "text/x-python",
   "name": "python",
   "nbconvert_exporter": "python",
   "pygments_lexer": "ipython3",
   "version": "3.12.4"
  },
  "orig_nbformat": 4
 },
 "nbformat": 4,
 "nbformat_minor": 2
}
