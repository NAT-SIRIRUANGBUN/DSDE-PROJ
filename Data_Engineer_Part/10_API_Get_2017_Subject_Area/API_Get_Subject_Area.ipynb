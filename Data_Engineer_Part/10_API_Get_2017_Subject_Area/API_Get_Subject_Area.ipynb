{
 "cells": [
  {
   "cell_type": "code",
   "execution_count": null,
   "metadata": {},
   "outputs": [],
   "source": [
    "import requests\n",
    "import pandas as pd\n",
    "import json"
   ]
  },
  {
   "cell_type": "code",
   "execution_count": null,
   "metadata": {},
   "outputs": [],
   "source": [
    "url = \"https://api.elsevier.com/content/search/scopus/\""
   ]
  },
  {
   "cell_type": "code",
   "execution_count": null,
   "metadata": {},
   "outputs": [],
   "source": [
    "field_table = pd.read_csv('./Abbreviation.csv')"
   ]
  },
  {
   "cell_type": "code",
   "execution_count": null,
   "metadata": {},
   "outputs": [],
   "source": [
    "field_list = field_table['ชื่อย่อ'].to_list()"
   ]
  },
  {
   "cell_type": "code",
   "execution_count": null,
   "metadata": {},
   "outputs": [],
   "source": [
    "eid_field_list = []\n",
    "sum = 0"
   ]
  },
  {
   "cell_type": "code",
   "execution_count": null,
   "metadata": {},
   "outputs": [],
   "source": [
    "for i in field_list:\n",
    "    #First Check For Amount\n",
    "    params = {\n",
    "        \"query\": \"AFFILORG(Chulalongkorn University) AND PUBYEAR = 2017 AND SUBJAREA ( +\" + i.lower() + \" )\",\n",
    "        \"field\": \"eid\",\n",
    "        \"start\": 0\n",
    "    }\n",
    "    headers = {\n",
    "        \"Accept\": \"application/json\",\n",
    "        \"X-ELS-APIKey\": \"fdfa191b9599a981a891f1f6d55bdc95\",\n",
    "    }\n",
    "\n",
    "    document_count = 0\n",
    "\n",
    "    response = requests.get(url, headers=headers, params=params)\n",
    "\n",
    "    if(response.status_code == 200):\n",
    "        document_count = int(response.json()['search-results']['opensearch:totalResults'])\n",
    "\n",
    "    sum += document_count\n",
    "\n",
    "    start_index = 0\n",
    "    while (start_index < document_count):\n",
    "        params = {\n",
    "        \"query\": \"AFFILORG(Chulalongkorn University) AND PUBYEAR = 2017 AND SUBJAREA ( +\" + i.lower() + \" )\",\n",
    "        \"field\": \"eid\",\n",
    "        \"start\": start_index\n",
    "        }\n",
    "\n",
    "        headers = {\n",
    "            \"Accept\": \"application/json\",\n",
    "            \"X-ELS-APIKey\": \"fdfa191b9599a981a891f1f6d55bdc95\",\n",
    "        }\n",
    "\n",
    "        response = requests.get(url, headers=headers, params=params)\n",
    "        \n",
    "        if(response.status_code == 200):\n",
    "            res_json = response.json()\n",
    "            documents = res_json['search-results']['entry']\n",
    "            for document in documents:\n",
    "                print(document['eid'], i)\n",
    "                eid_field_list.append([document['eid'], i])\n",
    "    \n",
    "        start_index += 25\n",
    "                \n",
    "\n",
    "\n"
   ]
  },
  {
   "cell_type": "code",
   "execution_count": null,
   "metadata": {},
   "outputs": [],
   "source": [
    "eid_field_list_df = pd.DataFrame(eid_field_list, columns=['Eid', 'Field'])"
   ]
  },
  {
   "cell_type": "code",
   "execution_count": null,
   "metadata": {},
   "outputs": [],
   "source": []
  },
  {
   "cell_type": "code",
   "execution_count": null,
   "metadata": {},
   "outputs": [],
   "source": [
    "with open('./PAPAER_SCRAPING.json') as d:\n",
    "    data = json.load(d)"
   ]
  },
  {
   "cell_type": "code",
   "execution_count": null,
   "metadata": {},
   "outputs": [],
   "source": []
  },
  {
   "cell_type": "code",
   "execution_count": null,
   "metadata": {},
   "outputs": [],
   "source": [
    "scrape_eid_list = []\n",
    "\n",
    "for i in data:\n",
    "    scrape_eid_list.append(i['data']['Eid'])"
   ]
  },
  {
   "cell_type": "code",
   "execution_count": null,
   "metadata": {},
   "outputs": [],
   "source": [
    "eid_field_list_df = pd.DataFrame(eid_field_list, columns=['Eid', 'Field_Abbv'])"
   ]
  },
  {
   "cell_type": "code",
   "execution_count": null,
   "metadata": {},
   "outputs": [],
   "source": [
    "eid_field_list_df = eid_field_list_df[eid_field_list_df['Eid'].isin(scrape_eid_list)]"
   ]
  },
  {
   "cell_type": "code",
   "execution_count": null,
   "metadata": {},
   "outputs": [],
   "source": [
    "field_table = field_table.rename(columns={'ชื่อย่อ' : \"Field_Abbv\", \"ชื่อเต็ม\" : \"Subject_Field\"})"
   ]
  },
  {
   "cell_type": "code",
   "execution_count": null,
   "metadata": {},
   "outputs": [],
   "source": [
    "eid_field_list_df = eid_field_list_df.merge(field_table, how='inner', on='Field_Abbv')"
   ]
  },
  {
   "cell_type": "code",
   "execution_count": null,
   "metadata": {},
   "outputs": [],
   "source": [
    "eid_field_list_df = eid_field_list_df.drop(columns='Field_Abbv')"
   ]
  },
  {
   "cell_type": "code",
   "execution_count": null,
   "metadata": {},
   "outputs": [],
   "source": [
    "eid_field_list_df.to_csv('scrabe_subject_field.csv')"
   ]
  }
 ],
 "metadata": {
  "kernelspec": {
   "display_name": "base",
   "language": "python",
   "name": "python3"
  },
  "language_info": {
   "codemirror_mode": {
    "name": "ipython",
    "version": 3
   },
   "file_extension": ".py",
   "mimetype": "text/x-python",
   "name": "python",
   "nbconvert_exporter": "python",
   "pygments_lexer": "ipython3",
   "version": "3.12.4"
  },
  "orig_nbformat": 4
 },
 "nbformat": 4,
 "nbformat_minor": 2
}
