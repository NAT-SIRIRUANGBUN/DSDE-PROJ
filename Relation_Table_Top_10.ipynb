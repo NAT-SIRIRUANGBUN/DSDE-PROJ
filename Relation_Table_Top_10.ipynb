{
 "cells": [
  {
   "cell_type": "code",
   "execution_count": null,
   "metadata": {},
   "outputs": [],
   "source": [
    "import pandas as pd\n",
    "import json\n",
    "\n",
    "\n"
   ]
  },
  {
   "cell_type": "code",
   "execution_count": null,
   "metadata": {},
   "outputs": [],
   "source": [
    "target_source = './DATA/All_data.json'\n",
    "data = []\n",
    "\n",
    "with open(target_source) as d:\n",
    "    data = json.load(d)"
   ]
  },
  {
   "cell_type": "code",
   "execution_count": null,
   "metadata": {},
   "outputs": [],
   "source": [
    "author = []\n",
    "relation = {}\n",
    "all_affid_list = set()\n",
    "invalid_data = []\n",
    "error_list = []\n",
    "\n",
    "\n"
   ]
  },
  {
   "cell_type": "code",
   "execution_count": null,
   "metadata": {},
   "outputs": [],
   "source": [
    "paper_affiliation_10_seq = []"
   ]
  },
  {
   "cell_type": "code",
   "execution_count": null,
   "metadata": {},
   "outputs": [],
   "source": [
    "first_seq_chula = []"
   ]
  },
  {
   "cell_type": "code",
   "execution_count": null,
   "metadata": {},
   "outputs": [],
   "source": [
    "len(data)"
   ]
  },
  {
   "cell_type": "code",
   "execution_count": null,
   "metadata": {},
   "outputs": [],
   "source": [
    "for i in data:\n",
    "    a = 0\n",
    "    eid = i['abstracts-retrieval-response']['coredata']['eid']\n",
    "    author_groups = i['abstracts-retrieval-response']['item']['bibrecord']['head']['author-group']\n",
    "    author_group_list = []\n",
    "    \n",
    "    if (type(author_groups) == type({})):\n",
    "        author_group_list.append(author_groups)\n",
    "    else:\n",
    "        author_group_list = author_groups\n",
    "\n",
    "    \n",
    "\n",
    "    for author_group in author_group_list:\n",
    "\n",
    "        try:\n",
    "            authors = author_group['author']\n",
    "            author_list = []\n",
    "        except:\n",
    "            continue\n",
    "\n",
    "        if (type(authors) == type({})):\n",
    "            author_list.append(authors)\n",
    "        else:\n",
    "            author_list = authors\n",
    "\n",
    "        min_seq = 11\n",
    "\n",
    "        for author in author_list:\n",
    "            seq = author[\"@seq\"]\n",
    "            min_seq = min(min_seq, int(seq))\n",
    "\n",
    "        if (min_seq <= 10):\n",
    "            try:\n",
    "                affiliation = author_group['affiliation']\n",
    "                affiliation_id = affiliation['@afid']\n",
    "                paper_affiliation_10_seq.append([eid, affiliation_id])\n",
    "                if (min_seq == 1 and affiliation_id == '60028190'):\n",
    "                    first_seq_chula.append(eid)\n",
    "            except:\n",
    "                continue\n",
    "        \n",
    "    \n",
    "\n"
   ]
  },
  {
   "cell_type": "code",
   "execution_count": null,
   "metadata": {},
   "outputs": [],
   "source": [
    "ddd = pd.DataFrame(first_seq_chula)"
   ]
  },
  {
   "cell_type": "code",
   "execution_count": null,
   "metadata": {},
   "outputs": [],
   "source": [
    "ddd.drop_duplicates()"
   ]
  },
  {
   "cell_type": "code",
   "execution_count": null,
   "metadata": {},
   "outputs": [],
   "source": [
    "len(paper_affiliation_10_seq)"
   ]
  },
  {
   "cell_type": "code",
   "execution_count": null,
   "metadata": {},
   "outputs": [],
   "source": [
    "paper_affiliation_10_seq_df = pd.DataFrame(paper_affiliation_10_seq, columns=['Eid', 'Affiliation']).drop_duplicates()"
   ]
  },
  {
   "cell_type": "code",
   "execution_count": null,
   "metadata": {},
   "outputs": [],
   "source": [
    "# paper_affiliation_10_seq_df.to_csv('./DATA/paper_affiliation_10_seq.csv', index=False)"
   ]
  },
  {
   "cell_type": "code",
   "execution_count": null,
   "metadata": {},
   "outputs": [],
   "source": [
    "# cnt = 0\n",
    "\n",
    "# for i in data:\n",
    "#     eid = i['abstracts-retrieval-response']['coredata']['eid']\n",
    "#     this_affiliation = i['abstracts-retrieval-response']['affiliation']\n",
    "#     affiliation_list = []\n",
    "#     if (type(this_affiliation) == type({})):\n",
    "#         affiliation_list.append(this_affiliation)\n",
    "#     elif (type(this_affiliation) == type([])):\n",
    "#         affiliation_list = this_affiliation\n",
    "    \n",
    "#     affid_in_this_round = []\n",
    "\n",
    "#     for j in affiliation_list:\n",
    "#         this_affid = str(j['@id'])\n",
    "#         all_affid_list.add(this_affid)\n",
    "#         affid_in_this_round.append(this_affid)\n",
    "\n",
    "#     paper_affiliation.append([eid, affid_in_this_round])\n",
    "\n",
    "#     for j in range(0, len(affid_in_this_round)):\n",
    "#         for k in range(j + 1, len(affid_in_this_round)):\n",
    "#             jj = affid_in_this_round[j]\n",
    "#             kk = affid_in_this_round[k]\n",
    "            \n",
    "#             if jj not in relation:\n",
    "#                 relation[jj] = dict()\n",
    "#             if kk not in relation:\n",
    "#                 relation[kk] = dict()\n",
    "#             if kk not in relation[jj]:\n",
    "#                 relation[jj][kk] = 0\n",
    "#             if jj not in relation[kk]:\n",
    "#                 relation[kk][jj] = 0\n",
    "\n",
    "#             relation[jj][kk] += 1\n",
    "#             relation[kk][jj] += 1"
   ]
  },
  {
   "cell_type": "code",
   "execution_count": null,
   "metadata": {},
   "outputs": [],
   "source": [
    "# paper_affiliation"
   ]
  },
  {
   "cell_type": "code",
   "execution_count": null,
   "metadata": {},
   "outputs": [],
   "source": [
    "# paper_affiliation_list = []\n",
    "\n",
    "# for i in paper_affiliation:\n",
    "#     for j in i[1]:\n",
    "#         paper_affiliation_list.append([i[0], j])\n",
    "\n",
    "\n"
   ]
  },
  {
   "cell_type": "code",
   "execution_count": null,
   "metadata": {},
   "outputs": [],
   "source": [
    "# paper_affiliation_df = pd.DataFrame(paper_affiliation_list, columns=['EID', 'Affiliation'])\n",
    "# paper_affiliation_df = paper_affiliation_df.drop_duplicates()\n",
    "# paper_affiliation_df = paper_affiliation_df.sort_values(['EID', 'Affiliation'], ascending=[True, True]).reset_index().drop(columns=['index'])\n",
    "# # paper_affiliation_df.to_csv('paper_affiliation.csv')"
   ]
  },
  {
   "cell_type": "code",
   "execution_count": null,
   "metadata": {},
   "outputs": [],
   "source": [
    "# paper_affiliation_df['Affiliation']"
   ]
  },
  {
   "cell_type": "code",
   "execution_count": null,
   "metadata": {},
   "outputs": [],
   "source": [
    "# list = pd.DataFrame(all_affid_list, columns=['affid'])\n",
    "# list = list.sort_values(['affid'], ascending=False)\n",
    "# list = list.reset_index()\n",
    "# list = list.drop(columns='index', axis=1)\n",
    "# # list\n",
    "\n",
    "# # list.head(200)"
   ]
  },
  {
   "cell_type": "code",
   "execution_count": null,
   "metadata": {},
   "outputs": [],
   "source": [
    "# relation"
   ]
  },
  {
   "cell_type": "code",
   "execution_count": null,
   "metadata": {},
   "outputs": [],
   "source": [
    "# list.to_csv('affid_data.csv', index=False)"
   ]
  },
  {
   "cell_type": "code",
   "execution_count": null,
   "metadata": {},
   "outputs": [],
   "source": [
    "# list.iloc[1704]"
   ]
  },
  {
   "cell_type": "code",
   "execution_count": null,
   "metadata": {},
   "outputs": [],
   "source": [
    "# list[list['affid'] == '60104797']"
   ]
  },
  {
   "cell_type": "code",
   "execution_count": null,
   "metadata": {},
   "outputs": [],
   "source": [
    "# relation_df_col =['aff1', 'aff2', 'count']\n",
    "\n",
    "# relation_list = []\n",
    "\n",
    "\n",
    "\n",
    "# for i in relation.keys():\n",
    "#     this_affiliation = i\n",
    "#     for j in relation[this_affiliation].keys():\n",
    "#         relation_list.append([i, j, relation[i][j]])\n",
    "        \n",
    "\n"
   ]
  },
  {
   "cell_type": "code",
   "execution_count": null,
   "metadata": {},
   "outputs": [],
   "source": [
    "# relation_df = pd.DataFrame(relation_list, columns=relation_df_col)\n"
   ]
  },
  {
   "cell_type": "code",
   "execution_count": null,
   "metadata": {},
   "outputs": [],
   "source": [
    "# relation_df.drop_duplicates(inplace=True)\n",
    "\n",
    "# relation_df.to_csv('relation_new_top_10.csv', index=False)"
   ]
  },
  {
   "cell_type": "code",
   "execution_count": null,
   "metadata": {},
   "outputs": [],
   "source": [
    "# relation_df\n"
   ]
  },
  {
   "cell_type": "code",
   "execution_count": null,
   "metadata": {},
   "outputs": [],
   "source": [
    "# df = df.drop_duplicates()\n",
    "\n",
    "# df.shape"
   ]
  },
  {
   "cell_type": "code",
   "execution_count": null,
   "metadata": {},
   "outputs": [],
   "source": [
    "# cnt = 0\n",
    "\n",
    "# for i in relation.keys():\n",
    "#     this_affiliation = relation[i]\n",
    "#     if (len(this_affiliation.keys())) >= 1000:\n",
    "#         cnt += 1\n",
    "\n",
    "# cnt"
   ]
  }
 ],
 "metadata": {
  "kernelspec": {
   "display_name": "base",
   "language": "python",
   "name": "python3"
  },
  "language_info": {
   "codemirror_mode": {
    "name": "ipython",
    "version": 3
   },
   "file_extension": ".py",
   "mimetype": "text/x-python",
   "name": "python",
   "nbconvert_exporter": "python",
   "pygments_lexer": "ipython3",
   "version": "3.12.4"
  },
  "orig_nbformat": 4
 },
 "nbformat": 4,
 "nbformat_minor": 2
}
