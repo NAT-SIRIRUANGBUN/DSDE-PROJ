{
 "cells": [
  {
   "cell_type": "code",
   "execution_count": null,
   "metadata": {},
   "outputs": [],
   "source": [
    "import requests\n",
    "import pandas as pd"
   ]
  },
  {
   "cell_type": "code",
   "execution_count": null,
   "metadata": {},
   "outputs": [],
   "source": [
    "year = [2017, 2018, 2018, 2019, 2020, 2021, 2022, 2023]\n",
    "url = \"https://api.elsevier.com/content/search/scopus/\""
   ]
  },
  {
   "cell_type": "code",
   "execution_count": null,
   "metadata": {},
   "outputs": [],
   "source": [
    "eid_title_cite_list = []\n",
    "error_list = []\n",
    "\n",
    "for i in year:\n",
    "    #First Check For Amount\n",
    "    params = {\n",
    "        \"query\": (\"AFFILORG(Chulalongkorn University) AND PUBYEAR = \" + str(i)),\n",
    "        \"field\": \"eid\",\n",
    "        \"start\": 0\n",
    "    }\n",
    "    headers = {\n",
    "        \"Accept\": \"application/json\",\n",
    "        \"X-ELS-APIKey\": \"fdfa191b9599a981a891f1f6d55bdc95\",\n",
    "    }\n",
    "\n",
    "    document_count = 0\n",
    "\n",
    "    response = requests.get(url, headers=headers, params=params)\n",
    "\n",
    "    if(response.status_code == 200):\n",
    "        document_count = int(response.json()['search-results']['opensearch:totalResults'])\n",
    "\n",
    "    start_index = 0\n",
    "    while (start_index < document_count):\n",
    "        try:\n",
    "            params = {\n",
    "                \"query\": (\"AFFILORG(Chulalongkorn University) AND PUBYEAR = \" + str(i)),\n",
    "                \"field\": \"eid,title,citedby-count\",\n",
    "                \"start\": start_index\n",
    "            }\n",
    "\n",
    "            headers = {\n",
    "                \"Accept\": \"application/json\",\n",
    "                \"X-ELS-APIKey\": \"fdfa191b9599a981a891f1f6d55bdc95\",\n",
    "            }\n",
    "\n",
    "            response = requests.get(url, headers=headers, params=params, timeout=30)\n",
    "            \n",
    "            if(response.status_code == 200):\n",
    "                res_json = response.json()\n",
    "                documents = res_json['search-results']['entry']\n",
    "                for document in documents:\n",
    "                    print(i, start_index, document['eid'], document['citedby-count'], document['dc:title'])\n",
    "                    eid_title_cite_list.append([document['eid'], document['citedby-count'], document['dc:title']])\n",
    "        except:\n",
    "            error_list.append([i, start_index])\n",
    "        start_index += 25\n",
    "\n",
    "\n",
    "\n"
   ]
  },
  {
   "cell_type": "code",
   "execution_count": null,
   "metadata": {},
   "outputs": [],
   "source": [
    "error_list # <- This Should be length 1 [Record that doesn't have title]"
   ]
  },
  {
   "cell_type": "code",
   "execution_count": null,
   "metadata": {},
   "outputs": [],
   "source": [
    "params = {\n",
    "    \"query\": (\"AFFILORG(Chulalongkorn University) AND PUBYEAR = 2019\"),\n",
    "    \"field\": \"eid,title,citedby-count\",\n",
    "    \"start\": 2375\n",
    "}\n",
    "\n",
    "headers = {\n",
    "    \"Accept\": \"application/json\",\n",
    "    \"X-ELS-APIKey\": \"fdfa191b9599a981a891f1f6d55bdc95\",\n",
    "}\n",
    "\n",
    "response = requests.get(url, headers=headers, params=params, timeout=30)\n",
    "\n",
    "if(response.status_code == 200):\n",
    "    res_json = response.json()\n",
    "    documents = res_json['search-results']['entry']\n",
    "    for document in documents:\n",
    "        try:\n",
    "        # print(i, start_index, document['eid'], document['citedby-count'], document['dc:title'])\n",
    "            eid_title_cite_list.append([document['eid'], document['citedby-count'], document['dc:title']])\n",
    "        except:\n",
    "            pass\n"
   ]
  },
  {
   "cell_type": "code",
   "execution_count": null,
   "metadata": {},
   "outputs": [],
   "source": [
    "eid_title_cite_df = pd.DataFrame(eid_title_cite_list, columns=['Eid', 'Cite-By_Count', 'Title'])"
   ]
  },
  {
   "cell_type": "code",
   "execution_count": null,
   "metadata": {},
   "outputs": [],
   "source": [
    "eid_title_cite_df.to_csv(\"UPDATE_CITE_TITLE.csv\", index=False)"
   ]
  }
 ],
 "metadata": {
  "kernelspec": {
   "display_name": "base",
   "language": "python",
   "name": "python3"
  },
  "language_info": {
   "codemirror_mode": {
    "name": "ipython",
    "version": 3
   },
   "file_extension": ".py",
   "mimetype": "text/x-python",
   "name": "python",
   "nbconvert_exporter": "python",
   "pygments_lexer": "ipython3",
   "version": "3.12.4"
  },
  "orig_nbformat": 4
 },
 "nbformat": 4,
 "nbformat_minor": 2
}
