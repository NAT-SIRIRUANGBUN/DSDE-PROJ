{
 "cells": [
  {
   "cell_type": "code",
   "execution_count": 1,
   "metadata": {},
   "outputs": [],
   "source": [
    "import pandas as pd\n",
    "import json\n"
   ]
  },
  {
   "cell_type": "code",
   "execution_count": 2,
   "metadata": {},
   "outputs": [],
   "source": [
    "target_source = '../../DATA/JSON/all_data.json'\n",
    "data = []\n",
    "\n",
    "with open(target_source) as d:\n",
    "    data = json.load(d)"
   ]
  },
  {
   "cell_type": "code",
   "execution_count": 3,
   "metadata": {},
   "outputs": [],
   "source": [
    "author = []\n",
    "relation = {}\n",
    "all_affid_list = set()\n",
    "invalid_data = []\n",
    "error_list = []\n",
    "\n",
    "\n"
   ]
  },
  {
   "cell_type": "code",
   "execution_count": 4,
   "metadata": {},
   "outputs": [],
   "source": [
    "paper_affiliation_10_seq = []"
   ]
  },
  {
   "cell_type": "code",
   "execution_count": 5,
   "metadata": {},
   "outputs": [],
   "source": [
    "for i in data:\n",
    "    a = 0\n",
    "    eid = i['abstracts-retrieval-response']['coredata']['eid']\n",
    "    author_groups = i['abstracts-retrieval-response']['item']['bibrecord']['head']['author-group']\n",
    "    author_group_list = []\n",
    "    \n",
    "    if (type(author_groups) == type({})):\n",
    "        author_group_list.append(author_groups)\n",
    "    else:\n",
    "        author_group_list = author_groups\n",
    "\n",
    "    \n",
    "\n",
    "    for author_group in author_group_list:\n",
    "\n",
    "        try:\n",
    "            authors = author_group['author']\n",
    "            author_list = []\n",
    "        except:\n",
    "            continue\n",
    "\n",
    "        if (type(authors) == type({})):\n",
    "            author_list.append(authors)\n",
    "        else:\n",
    "            author_list = authors\n",
    "\n",
    "        min_seq = 11\n",
    "\n",
    "        for author in author_list:\n",
    "            seq = author[\"@seq\"]\n",
    "            min_seq = min(min_seq, int(seq))\n",
    "\n",
    "        if (min_seq <= 10):\n",
    "            try:\n",
    "                affiliation = author_group['affiliation']\n",
    "                affiliation_id = affiliation['@afid']\n",
    "                paper_affiliation_10_seq.append([eid, affiliation_id])\n",
    "            except:\n",
    "                continue\n"
   ]
  },
  {
   "cell_type": "code",
   "execution_count": 6,
   "metadata": {},
   "outputs": [
    {
     "data": {
      "text/plain": [
       "77745"
      ]
     },
     "execution_count": 6,
     "metadata": {},
     "output_type": "execute_result"
    }
   ],
   "source": [
    "len(paper_affiliation_10_seq)"
   ]
  },
  {
   "cell_type": "code",
   "execution_count": 7,
   "metadata": {},
   "outputs": [],
   "source": [
    "paper_affiliation_10_seq_df = pd.DataFrame(paper_affiliation_10_seq, columns=['Eid', 'Affiliation']).drop_duplicates()"
   ]
  },
  {
   "cell_type": "code",
   "execution_count": 8,
   "metadata": {},
   "outputs": [],
   "source": [
    "paper_affiliation_10_seq_df.to_csv('paper_affiliation_10_seq.csv', index=False)"
   ]
  }
 ],
 "metadata": {
  "kernelspec": {
   "display_name": "base",
   "language": "python",
   "name": "python3"
  },
  "language_info": {
   "codemirror_mode": {
    "name": "ipython",
    "version": 3
   },
   "file_extension": ".py",
   "mimetype": "text/x-python",
   "name": "python",
   "nbconvert_exporter": "python",
   "pygments_lexer": "ipython3",
   "version": "3.12.4"
  },
  "orig_nbformat": 4
 },
 "nbformat": 4,
 "nbformat_minor": 2
}
