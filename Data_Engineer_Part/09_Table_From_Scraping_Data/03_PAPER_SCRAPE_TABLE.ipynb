{
 "cells": [
  {
   "cell_type": "code",
   "execution_count": null,
   "metadata": {},
   "outputs": [],
   "source": [
    "import pandas as pd\n",
    "import numpy as np\n",
    "import json"
   ]
  },
  {
   "cell_type": "code",
   "execution_count": null,
   "metadata": {},
   "outputs": [],
   "source": [
    "pd.options.display.max_columns = None"
   ]
  },
  {
   "cell_type": "code",
   "execution_count": null,
   "metadata": {},
   "outputs": [],
   "source": [
    "target_source = '../../DATA/JSON/PAPAER_SCRAPING.json'\n",
    "data = []\n",
    "\n",
    "with open(target_source) as d:\n",
    "    data = json.load(d)"
   ]
  },
  {
   "cell_type": "code",
   "execution_count": null,
   "metadata": {},
   "outputs": [],
   "source": [
    "len(data)"
   ]
  },
  {
   "cell_type": "code",
   "execution_count": null,
   "metadata": {},
   "outputs": [],
   "source": [
    "data[0]"
   ]
  },
  {
   "cell_type": "code",
   "execution_count": null,
   "metadata": {},
   "outputs": [],
   "source": [
    "idx_terms_list = []\n",
    "bucket1 = []\n",
    "bucket2 = []\n",
    "valid_data = []"
   ]
  },
  {
   "cell_type": "code",
   "execution_count": null,
   "metadata": {},
   "outputs": [],
   "source": [
    "for i in data:\n",
    "    if (i['data']['Document_type'][-1] == '•'):\n",
    "        i['data']['Document_type'] = i['data']['Document_type'][:-1]\n",
    "    \n",
    "    if (i['data']['Document_type'] == 'Article'):\n",
    "        bucket1.append(i)"
   ]
  },
  {
   "cell_type": "code",
   "execution_count": null,
   "metadata": {},
   "outputs": [],
   "source": [
    "len(bucket1)"
   ]
  },
  {
   "cell_type": "code",
   "execution_count": null,
   "metadata": {},
   "outputs": [],
   "source": [
    "for i in bucket1:\n",
    "    if (len(i['data']['idxterms']) == 0 or (len(i['data']['idxterms']) != 0 and i['data']['idxterms'][0] != '')):\n",
    "        bucket2.append(i)"
   ]
  },
  {
   "cell_type": "code",
   "execution_count": null,
   "metadata": {},
   "outputs": [],
   "source": [
    "len(bucket2)"
   ]
  },
  {
   "cell_type": "code",
   "execution_count": null,
   "metadata": {},
   "outputs": [],
   "source": [
    "for i in bucket2:\n",
    "    if (len(i['data']['authkeyword']) == 0 or (len(i['data']['authkeyword']) != 0 and i['data']['authkeyword'][0] != '')):\n",
    "        valid_data.append(i)"
   ]
  },
  {
   "cell_type": "code",
   "execution_count": null,
   "metadata": {},
   "outputs": [],
   "source": [
    "len(valid_data)"
   ]
  },
  {
   "cell_type": "code",
   "execution_count": null,
   "metadata": {},
   "outputs": [],
   "source": [
    "authkeyword_list = []\n",
    "idxterms_list = []\n",
    "agency_list = []\n",
    "funding_status_cite_list = []"
   ]
  },
  {
   "cell_type": "code",
   "execution_count": null,
   "metadata": {},
   "outputs": [],
   "source": [
    "for i in valid_data:\n",
    "    eid = i['data']['Eid']\n",
    "    authkeyword = i['data']['authkeyword']\n",
    "    idxterms = i['data']['idxterms']\n",
    "    cite_count = i['data']['Cited_Count']\n",
    "    funding_agency = i['data']['Funding_Agency']\n",
    "\n",
    "    for i in authkeyword:\n",
    "        authkeyword_list.append([eid, i])\n",
    "\n",
    "    for i in idxterms:\n",
    "        idxterms_list.append([eid, i])\n",
    "\n",
    "    for i in funding_agency:\n",
    "        agency_id = None\n",
    "        if (i['link'] != None):\n",
    "            agency_id = i['link'].split('/')[-1]\n",
    "        if (agency_id != None):\n",
    "            agency_id = str(agency_id)\n",
    "        agency_list.append([eid, i['name'], agency_id])\n",
    "\n",
    "    funding_status_cite_list.append([eid, len(funding_agency), cite_count, (0 if len(funding_agency) == 0 else 1), (0 if cite_count == 0 else 1) ])"
   ]
  },
  {
   "cell_type": "code",
   "execution_count": null,
   "metadata": {},
   "outputs": [],
   "source": [
    "authkeyword_df = pd.DataFrame(authkeyword_list, columns=['Eid', 'Auth_Keyword']).drop_duplicates().dropna()"
   ]
  },
  {
   "cell_type": "code",
   "execution_count": null,
   "metadata": {},
   "outputs": [],
   "source": [
    "idxterms_df = pd.DataFrame(idxterms_list, columns=['Eid', 'Index_Terms']).dropna() #ยังไม่ได้ drop duplicate\n",
    "idxterms_df"
   ]
  },
  {
   "cell_type": "code",
   "execution_count": null,
   "metadata": {},
   "outputs": [],
   "source": [
    "funding_status_cite_df = pd.DataFrame(funding_status_cite_list, columns=['Eid', 'Funding_Count', 'Cite-By_Count', 'Has_Funding', 'Has_Cite-By']).drop_duplicates().dropna()\n",
    "funding_status_cite_df"
   ]
  },
  {
   "cell_type": "code",
   "execution_count": null,
   "metadata": {},
   "outputs": [],
   "source": [
    "funding_status_cite_df.to_csv('scrape_funding_cite.csv', index=False)"
   ]
  },
  {
   "cell_type": "code",
   "execution_count": null,
   "metadata": {},
   "outputs": [],
   "source": [
    "agency_list"
   ]
  },
  {
   "cell_type": "code",
   "execution_count": null,
   "metadata": {},
   "outputs": [],
   "source": [
    "agency_df = pd.DataFrame(agency_list, columns=['Eid', 'Agency_Name', 'Agency_ID'])\n",
    "agency_df"
   ]
  },
  {
   "cell_type": "code",
   "execution_count": null,
   "metadata": {},
   "outputs": [],
   "source": [
    "agency_country_data = pd.read_csv('agency_data.csv').drop(columns='Unnamed: 0')\n",
    "agency_country_data = agency_country_data.rename(columns={'Agency_Name' : 'Agency_Name_From_Data'})\n",
    "agency_country_data['Agency_ID'] = agency_country_data['Agency_ID'].apply(lambda x : str(x))"
   ]
  },
  {
   "cell_type": "code",
   "execution_count": null,
   "metadata": {},
   "outputs": [],
   "source": [
    "agency_df = agency_df.merge(agency_country_data, how='left', on='Agency_ID')\n",
    "agency_df = agency_df.drop(columns='Agency_Name_From_Data')\n",
    "\n",
    "agency_df"
   ]
  },
  {
   "cell_type": "code",
   "execution_count": null,
   "metadata": {},
   "outputs": [],
   "source": [
    "agency_df[agency_df['Agency_ID'].isna()]['Agency_Name'].drop_duplicates().to_csv('funding_name_list_scrape.csv', index=False)"
   ]
  },
  {
   "cell_type": "code",
   "execution_count": null,
   "metadata": {},
   "outputs": [],
   "source": [
    "agency_df.to_csv('funding_list_by_eid_scrape.csv', index=False)"
   ]
  }
 ],
 "metadata": {
  "kernelspec": {
   "display_name": "base",
   "language": "python",
   "name": "python3"
  },
  "language_info": {
   "codemirror_mode": {
    "name": "ipython",
    "version": 3
   },
   "file_extension": ".py",
   "mimetype": "text/x-python",
   "name": "python",
   "nbconvert_exporter": "python",
   "pygments_lexer": "ipython3",
   "version": "3.12.4"
  },
  "orig_nbformat": 4
 },
 "nbformat": 4,
 "nbformat_minor": 2
}
