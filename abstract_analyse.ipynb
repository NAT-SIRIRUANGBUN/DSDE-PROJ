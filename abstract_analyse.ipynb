{
 "cells": [
  {
   "cell_type": "code",
   "execution_count": null,
   "metadata": {},
   "outputs": [],
   "source": [
    "import pandas as pd"
   ]
  },
  {
   "cell_type": "code",
   "execution_count": null,
   "metadata": {},
   "outputs": [],
   "source": [
    "abstract = pd.read_csv('./DATA/abstract_table.csv')\n",
    "subject = pd.read_csv('./DATA/subject.csv')\n",
    "\n"
   ]
  },
  {
   "cell_type": "code",
   "execution_count": null,
   "metadata": {},
   "outputs": [],
   "source": [
    "abstract.isna().sum()"
   ]
  },
  {
   "cell_type": "code",
   "execution_count": null,
   "metadata": {},
   "outputs": [],
   "source": [
    "get_topic = lambda code: {\n",
    "    \"10\": \"Multidisciplinary\",\n",
    "    \"11\": \"Agricultural and Biological Sciences\",\n",
    "    \"12\": \"Arts and Humanities\",\n",
    "    \"13\": \"Biochemistry, Genetics and Molecular Biology\",\n",
    "    \"14\": \"Business, Management and Accounting\",\n",
    "    \"15\": \"Chemical Engineering\",\n",
    "    \"16\": \"Chemistry\",\n",
    "    \"17\": \"Computer Science\",\n",
    "    \"18\": \"Decision Sciences\",\n",
    "    \"19\": \"Earth and Planetary Sciences\",\n",
    "    \"20\": \"Economics, Econometrics and Finance\",\n",
    "    \"21\": \"Energy\",\n",
    "    \"22\": \"Engineering\",\n",
    "    \"23\": \"Environmental Science\",\n",
    "    \"24\": \"Immunology and Microbiology\",\n",
    "    \"25\": \"Materials Science\",\n",
    "    \"26\": \"Mathematics\",\n",
    "    \"27\": \"Medicine\",\n",
    "    \"28\": \"Neuroscience\",\n",
    "    \"29\": \"Nursing\",\n",
    "    \"30\": \"Pharmacology, Toxicology and Pharmaceutics\",\n",
    "    \"31\": \"Physics and Astronomy\",\n",
    "    \"32\": \"Psychology\",\n",
    "    \"33\": \"Social Sciences\",\n",
    "    \"34\": \"Veterinary\",\n",
    "    \"35\": \"Dentistry\",\n",
    "    \"36\": \"Health Professions\",\n",
    "}.get(code, \"Unknown Topic\")"
   ]
  },
  {
   "cell_type": "code",
   "execution_count": null,
   "metadata": {},
   "outputs": [],
   "source": [
    "subject['Subject Area Group'] = subject['Subject_Code'].apply(lambda x : str(x)[0:2])\n",
    "\n",
    "abstract_and_subject = abstract.merge(subject, how='left')\n",
    "\n",
    "\n",
    "# subject['Subject Area Group Name'] = subject['Subject Area Group'].apply(lambda x : get_topic(x))\n",
    "\n",
    "# subject.groupby('Subject Area Group').apply(lambda x : x)\n",
    "\n",
    "# srg_list = subject['Subject Area Group'].value_counts().keys().to_list()\n",
    "# abstract_and_subject['Abstract'].isna().sum()\n",
    "abstract_and_subject = abstract_and_subject.drop_duplicates().dropna().reset_index().drop(columns='index', axis=1)\n",
    "abstract_and_subject"
   ]
  }
 ],
 "metadata": {
  "kernelspec": {
   "display_name": "base",
   "language": "python",
   "name": "python3"
  },
  "language_info": {
   "codemirror_mode": {
    "name": "ipython",
    "version": 3
   },
   "file_extension": ".py",
   "mimetype": "text/x-python",
   "name": "python",
   "nbconvert_exporter": "python",
   "pygments_lexer": "ipython3",
   "version": "3.12.4"
  },
  "orig_nbformat": 4
 },
 "nbformat": 4,
 "nbformat_minor": 2
}
