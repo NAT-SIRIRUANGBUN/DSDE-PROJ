{
 "cells": [
  {
   "cell_type": "code",
   "execution_count": 1,
   "metadata": {},
   "outputs": [],
   "source": [
    "import pandas as pd\n",
    "import requests\n",
    "from selenium import webdriver\n",
    "from selenium.webdriver.common.by import By\n",
    "from pymongo import MongoClient\n",
    "from pymongo.mongo_client import MongoClient\n",
    "import time"
   ]
  },
  {
   "cell_type": "code",
   "execution_count": 2,
   "metadata": {},
   "outputs": [],
   "source": [
    "agency_id_list = pd.read_csv('agency_id_list.csv')['Agency_ID'].to_list()"
   ]
  },
  {
   "cell_type": "code",
   "execution_count": 3,
   "metadata": {},
   "outputs": [],
   "source": [
    "driver = webdriver.Chrome()\n"
   ]
  },
  {
   "cell_type": "code",
   "execution_count": 4,
   "metadata": {},
   "outputs": [],
   "source": [
    "agency_data = []\n",
    "driver.implicitly_wait(50)"
   ]
  },
  {
   "cell_type": "code",
   "execution_count": 5,
   "metadata": {},
   "outputs": [
    {
     "ename": "NoSuchWindowException",
     "evalue": "Message: no such window: target window already closed\nfrom unknown error: web view not found\n  (Session info: chrome=131.0.6778.109)\nStacktrace:\n0   chromedriver                        0x0000000102e37b08 cxxbridge1$str$ptr + 3651580\n1   chromedriver                        0x0000000102e30358 cxxbridge1$str$ptr + 3620940\n2   chromedriver                        0x00000001028984b4 cxxbridge1$string$len + 89224\n3   chromedriver                        0x0000000102873994 core::str::slice_error_fail::ha0e52dbcb60e6bae + 3780\n4   chromedriver                        0x0000000102902890 cxxbridge1$string$len + 524388\n5   chromedriver                        0x000000010291576c cxxbridge1$string$len + 601920\n6   chromedriver                        0x00000001028d10b0 cxxbridge1$string$len + 321668\n7   chromedriver                        0x00000001028d1d00 cxxbridge1$string$len + 324820\n8   chromedriver                        0x0000000102e02e4c cxxbridge1$str$ptr + 3435328\n9   chromedriver                        0x0000000102e06164 cxxbridge1$str$ptr + 3448408\n10  chromedriver                        0x0000000102dea1c0 cxxbridge1$str$ptr + 3333812\n11  chromedriver                        0x0000000102e06a24 cxxbridge1$str$ptr + 3450648\n12  chromedriver                        0x0000000102ddb9cc cxxbridge1$str$ptr + 3274432\n13  chromedriver                        0x0000000102e21138 cxxbridge1$str$ptr + 3558956\n14  chromedriver                        0x0000000102e212b4 cxxbridge1$str$ptr + 3559336\n15  chromedriver                        0x0000000102e2ffcc cxxbridge1$str$ptr + 3620032\n16  libsystem_pthread.dylib             0x0000000187a2a034 _pthread_start + 136\n17  libsystem_pthread.dylib             0x0000000187a24e3c thread_start + 8\n",
     "output_type": "error",
     "traceback": [
      "\u001b[0;31m---------------------------------------------------------------------------\u001b[0m",
      "\u001b[0;31mNoSuchWindowException\u001b[0m                     Traceback (most recent call last)",
      "Cell \u001b[0;32mIn[5], line 6\u001b[0m\n\u001b[1;32m      3\u001b[0m url \u001b[39m=\u001b[39m \u001b[39m'\u001b[39m\u001b[39mhttps://www.fundinginstitutional.com/funders/\u001b[39m\u001b[39m'\u001b[39m \u001b[39m+\u001b[39m agency_id \u001b[39m+\u001b[39m \u001b[39m'\u001b[39m\u001b[39m/details\u001b[39m\u001b[39m'\u001b[39m\n\u001b[1;32m      4\u001b[0m driver\u001b[39m.\u001b[39mget(url)\n\u001b[0;32m----> 6\u001b[0m agenct_name \u001b[39m=\u001b[39m driver\u001b[39m.\u001b[39mfind_element(By\u001b[39m.\u001b[39mTAG_NAME, \u001b[39m'\u001b[39m\u001b[39mh1\u001b[39m\u001b[39m'\u001b[39m)\u001b[39m.\u001b[39mtext\n\u001b[1;32m      8\u001b[0m country_class \u001b[39m=\u001b[39m driver\u001b[39m.\u001b[39mfind_element(By\u001b[39m.\u001b[39mCLASS_NAME, \u001b[39m'\u001b[39m\u001b[39mcountry\u001b[39m\u001b[39m'\u001b[39m)\n\u001b[1;32m     10\u001b[0m country_name \u001b[39m=\u001b[39m country_class\u001b[39m.\u001b[39mfind_element(By\u001b[39m.\u001b[39mTAG_NAME, \u001b[39m'\u001b[39m\u001b[39mimg\u001b[39m\u001b[39m'\u001b[39m)\u001b[39m.\u001b[39mget_attribute(\u001b[39m'\u001b[39m\u001b[39malt\u001b[39m\u001b[39m'\u001b[39m)\n",
      "File \u001b[0;32m/opt/anaconda3/lib/python3.12/site-packages/selenium/webdriver/remote/webdriver.py:770\u001b[0m, in \u001b[0;36mWebDriver.find_element\u001b[0;34m(self, by, value)\u001b[0m\n\u001b[1;32m    767\u001b[0m         \u001b[39mraise\u001b[39;00m NoSuchElementException(\u001b[39mf\u001b[39m\u001b[39m\"\u001b[39m\u001b[39mCannot locate relative element with: \u001b[39m\u001b[39m{\u001b[39;00mby\u001b[39m.\u001b[39mroot\u001b[39m}\u001b[39;00m\u001b[39m\"\u001b[39m)\n\u001b[1;32m    768\u001b[0m     \u001b[39mreturn\u001b[39;00m elements[\u001b[39m0\u001b[39m]\n\u001b[0;32m--> 770\u001b[0m \u001b[39mreturn\u001b[39;00m \u001b[39mself\u001b[39m\u001b[39m.\u001b[39mexecute(Command\u001b[39m.\u001b[39mFIND_ELEMENT, {\u001b[39m\"\u001b[39m\u001b[39musing\u001b[39m\u001b[39m\"\u001b[39m: by, \u001b[39m\"\u001b[39m\u001b[39mvalue\u001b[39m\u001b[39m\"\u001b[39m: value})[\u001b[39m\"\u001b[39m\u001b[39mvalue\u001b[39m\u001b[39m\"\u001b[39m]\n",
      "File \u001b[0;32m/opt/anaconda3/lib/python3.12/site-packages/selenium/webdriver/remote/webdriver.py:384\u001b[0m, in \u001b[0;36mWebDriver.execute\u001b[0;34m(self, driver_command, params)\u001b[0m\n\u001b[1;32m    382\u001b[0m response \u001b[39m=\u001b[39m \u001b[39mself\u001b[39m\u001b[39m.\u001b[39mcommand_executor\u001b[39m.\u001b[39mexecute(driver_command, params)\n\u001b[1;32m    383\u001b[0m \u001b[39mif\u001b[39;00m response:\n\u001b[0;32m--> 384\u001b[0m     \u001b[39mself\u001b[39m\u001b[39m.\u001b[39merror_handler\u001b[39m.\u001b[39mcheck_response(response)\n\u001b[1;32m    385\u001b[0m     response[\u001b[39m\"\u001b[39m\u001b[39mvalue\u001b[39m\u001b[39m\"\u001b[39m] \u001b[39m=\u001b[39m \u001b[39mself\u001b[39m\u001b[39m.\u001b[39m_unwrap_value(response\u001b[39m.\u001b[39mget(\u001b[39m\"\u001b[39m\u001b[39mvalue\u001b[39m\u001b[39m\"\u001b[39m, \u001b[39mNone\u001b[39;00m))\n\u001b[1;32m    386\u001b[0m     \u001b[39mreturn\u001b[39;00m response\n",
      "File \u001b[0;32m/opt/anaconda3/lib/python3.12/site-packages/selenium/webdriver/remote/errorhandler.py:232\u001b[0m, in \u001b[0;36mErrorHandler.check_response\u001b[0;34m(self, response)\u001b[0m\n\u001b[1;32m    230\u001b[0m         alert_text \u001b[39m=\u001b[39m value[\u001b[39m\"\u001b[39m\u001b[39malert\u001b[39m\u001b[39m\"\u001b[39m]\u001b[39m.\u001b[39mget(\u001b[39m\"\u001b[39m\u001b[39mtext\u001b[39m\u001b[39m\"\u001b[39m)\n\u001b[1;32m    231\u001b[0m     \u001b[39mraise\u001b[39;00m exception_class(message, screen, stacktrace, alert_text)  \u001b[39m# type: ignore[call-arg]  # mypy is not smart enough here\u001b[39;00m\n\u001b[0;32m--> 232\u001b[0m \u001b[39mraise\u001b[39;00m exception_class(message, screen, stacktrace)\n",
      "\u001b[0;31mNoSuchWindowException\u001b[0m: Message: no such window: target window already closed\nfrom unknown error: web view not found\n  (Session info: chrome=131.0.6778.109)\nStacktrace:\n0   chromedriver                        0x0000000102e37b08 cxxbridge1$str$ptr + 3651580\n1   chromedriver                        0x0000000102e30358 cxxbridge1$str$ptr + 3620940\n2   chromedriver                        0x00000001028984b4 cxxbridge1$string$len + 89224\n3   chromedriver                        0x0000000102873994 core::str::slice_error_fail::ha0e52dbcb60e6bae + 3780\n4   chromedriver                        0x0000000102902890 cxxbridge1$string$len + 524388\n5   chromedriver                        0x000000010291576c cxxbridge1$string$len + 601920\n6   chromedriver                        0x00000001028d10b0 cxxbridge1$string$len + 321668\n7   chromedriver                        0x00000001028d1d00 cxxbridge1$string$len + 324820\n8   chromedriver                        0x0000000102e02e4c cxxbridge1$str$ptr + 3435328\n9   chromedriver                        0x0000000102e06164 cxxbridge1$str$ptr + 3448408\n10  chromedriver                        0x0000000102dea1c0 cxxbridge1$str$ptr + 3333812\n11  chromedriver                        0x0000000102e06a24 cxxbridge1$str$ptr + 3450648\n12  chromedriver                        0x0000000102ddb9cc cxxbridge1$str$ptr + 3274432\n13  chromedriver                        0x0000000102e21138 cxxbridge1$str$ptr + 3558956\n14  chromedriver                        0x0000000102e212b4 cxxbridge1$str$ptr + 3559336\n15  chromedriver                        0x0000000102e2ffcc cxxbridge1$str$ptr + 3620032\n16  libsystem_pthread.dylib             0x0000000187a2a034 _pthread_start + 136\n17  libsystem_pthread.dylib             0x0000000187a24e3c thread_start + 8\n"
     ]
    }
   ],
   "source": [
    "for i in range(len(agency_id_list)):\n",
    "    agency_id = str(agency_id_list[i])\n",
    "    url = 'https://www.fundinginstitutional.com/funders/' + agency_id + '/details'\n",
    "    driver.get(url)\n",
    "\n",
    "    agenct_name = driver.find_element(By.TAG_NAME, 'h1').text\n",
    "\n",
    "    country_class = driver.find_element(By.CLASS_NAME, 'country')\n",
    "\n",
    "    country_name = country_class.find_element(By.TAG_NAME, 'img').get_attribute('alt')\n",
    "    print(agency_id, agenct_name, country_name)\n",
    "    agency_data.append([agency_id, agenct_name, country_name])"
   ]
  },
  {
   "cell_type": "code",
   "execution_count": null,
   "metadata": {},
   "outputs": [
    {
     "ename": "NameError",
     "evalue": "name 'pd' is not defined",
     "output_type": "error",
     "traceback": [
      "\u001b[0;31m---------------------------------------------------------------------------\u001b[0m",
      "\u001b[0;31mNameError\u001b[0m                                 Traceback (most recent call last)",
      "Cell \u001b[0;32mIn[1], line 1\u001b[0m\n\u001b[0;32m----> 1\u001b[0m agency_data_df \u001b[39m=\u001b[39m pd\u001b[39m.\u001b[39mDataFrame(agency_data, columns\u001b[39m=\u001b[39m[\u001b[39m'\u001b[39m\u001b[39mAgency_ID\u001b[39m\u001b[39m'\u001b[39m, \u001b[39m'\u001b[39m\u001b[39mAgency_Name\u001b[39m\u001b[39m'\u001b[39m, \u001b[39m'\u001b[39m\u001b[39mAgency_Country\u001b[39m\u001b[39m'\u001b[39m])\n",
      "\u001b[0;31mNameError\u001b[0m: name 'pd' is not defined"
     ]
    }
   ],
   "source": [
    "agency_data_df = pd.DataFrame(agency_data, columns=['Agency_ID', 'Agency_Name', 'Agency_Country'])"
   ]
  },
  {
   "cell_type": "code",
   "execution_count": null,
   "metadata": {},
   "outputs": [],
   "source": [
    "agency_data_df.to_csv('agency_data.csv')"
   ]
  }
 ],
 "metadata": {
  "kernelspec": {
   "display_name": "base",
   "language": "python",
   "name": "python3"
  },
  "language_info": {
   "codemirror_mode": {
    "name": "ipython",
    "version": 3
   },
   "file_extension": ".py",
   "mimetype": "text/x-python",
   "name": "python",
   "nbconvert_exporter": "python",
   "pygments_lexer": "ipython3",
   "version": "3.12.4"
  },
  "orig_nbformat": 4
 },
 "nbformat": 4,
 "nbformat_minor": 2
}
