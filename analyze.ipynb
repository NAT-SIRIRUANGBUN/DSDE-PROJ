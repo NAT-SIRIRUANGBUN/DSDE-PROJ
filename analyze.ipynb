{
 "cells": [
  {
   "cell_type": "code",
   "execution_count": 1,
   "metadata": {},
   "outputs": [],
   "source": [
    "import numpy as np\n",
    "import pandas as pd\n",
    "\n",
    "pd.set_option('display.max_rows', None)\n",
    "# pd.set_option('display.max_columns', None)"
   ]
  },
  {
   "cell_type": "code",
   "execution_count": null,
   "metadata": {},
   "outputs": [],
   "source": [
    "general_info_table = pd.read_csv('DATA/general_info.csv')\n",
    "keyword_table = pd.read_csv('DATA/keyword.csv')\n",
    "subject_table = pd.read_csv('DATA/subject.csv')\n",
    "main_table = pd.read_csv('DATA/main.csv')\n",
    "abstract_table = pd.read_csv('DATA/abstract_table.csv')"
   ]
  },
  {
   "cell_type": "code",
   "execution_count": null,
   "metadata": {},
   "outputs": [],
   "source": [
    "abs_list = abstract_table['Abstract'].dropna().to_list()\n",
    "\n",
    "for i in range(len(abs_list)):\n",
    "    abs_list[i] = abs_list[i].split(' ')\n",
    "\n",
    "word_count = {}\n",
    "\n",
    "for i in range(len(abs_list)):\n",
    "    this_abstract = abs_list[i]\n",
    "    for j in this_abstract:\n",
    "        this_word = \"\".join(c for c in j.lower() if c.isalpha())\n",
    "        if (this_word == \"\"):\n",
    "            continue\n",
    "        if this_word in word_count.keys():\n",
    "            word_count[this_word] += 1\n",
    "        else:\n",
    "            word_count[this_word] = 1\n",
    "\n",
    "keys = word_count.keys()\n",
    "vals = word_count.values()\n",
    "\n",
    "word_count_fields = {\n",
    "    'Word' : keys,\n",
    "    'Count' : vals\n",
    "}\n",
    "\n",
    "word_count_df = pd.DataFrame(word_count_fields).sort_values('Count', ascending=False).reset_index().drop(columns='index', axis=1)\n",
    "\n",
    "word_count_df = word_count_df[~word_count_df['Word'].apply(lambda x : x.isnumeric())]"
   ]
  },
  {
   "cell_type": "code",
   "execution_count": null,
   "metadata": {},
   "outputs": [],
   "source": [
    "word_count_df_tmp = word_count_df\n",
    "sum = word_count_df_tmp['Count'].sum()\n",
    "\n",
    "word_count_df_tmp['Count'] /= (sum / 100)\n",
    "\n",
    "word_count_df_tmp.head(100)\n",
    "\n"
   ]
  },
  {
   "cell_type": "code",
   "execution_count": null,
   "metadata": {},
   "outputs": [],
   "source": [
    "# word_list = ['covid', 'thailand', '']\n",
    "# word_count_df[word_count_df['Word'].apply(lambda x : x.lower()).isin(word_list)]"
   ]
  },
  {
   "cell_type": "code",
   "execution_count": null,
   "metadata": {},
   "outputs": [],
   "source": []
  }
 ],
 "metadata": {
  "kernelspec": {
   "display_name": "base",
   "language": "python",
   "name": "python3"
  },
  "language_info": {
   "codemirror_mode": {
    "name": "ipython",
    "version": 3
   },
   "file_extension": ".py",
   "mimetype": "text/x-python",
   "name": "python",
   "nbconvert_exporter": "python",
   "pygments_lexer": "ipython3",
   "version": "3.12.4"
  },
  "orig_nbformat": 4
 },
 "nbformat": 4,
 "nbformat_minor": 2
}
