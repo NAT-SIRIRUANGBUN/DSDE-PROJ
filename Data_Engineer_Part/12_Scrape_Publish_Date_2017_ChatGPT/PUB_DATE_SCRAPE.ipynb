{
 "cells": [
  {
   "cell_type": "code",
   "execution_count": null,
   "metadata": {},
   "outputs": [],
   "source": [
    "from openai import OpenAI\n",
    "from selenium import webdriver\n",
    "from selenium.webdriver.common.by import By\n",
    "from selenium.webdriver.common.keys import Keys\n",
    "import pandas as pd\n",
    "from pymongo import MongoClient\n",
    "from pymongo.mongo_client import MongoClient\n",
    "import os\n",
    "\n",
    "#API KEY\n",
    "# client = OpenAI()"
   ]
  },
  {
   "cell_type": "code",
   "execution_count": null,
   "metadata": {},
   "outputs": [],
   "source": [
    "CUNET_EMAIL = \"student.chula.ac.th\"\n",
    "CUNET_PASSWORD = \"\""
   ]
  },
  {
   "cell_type": "code",
   "execution_count": null,
   "metadata": {},
   "outputs": [],
   "source": [
    "driver = webdriver.Chrome()\n",
    "driver.get('https://www.scopus.com/')\n",
    "\n",
    "driver.implicitly_wait(3)\n",
    "\n",
    "sign_up_button = driver.find_element(By.ID, value=\"signin_link_move\")\n",
    "sign_up_button.click()\n",
    "\n",
    "email_box = driver.find_element(By.ID, value=\"bdd-email\")\n",
    "email_box.send_keys(CUNET_EMAIL)\n",
    "\n",
    "driver.implicitly_wait(3)\n",
    "\n",
    "cookie_button = driver.find_element(By.ID, value=\"onetrust-accept-btn-handler\")\n",
    "cookie_button.click()\n",
    "\n",
    "driver.implicitly_wait(3)\n",
    "\n",
    "continue_button = driver.find_element(By.ID, value=\"bdd-elsPrimaryBtn\")\n",
    "continue_button.click()\n",
    "\n",
    "driver.implicitly_wait(3)\n",
    "\n",
    "\n",
    "password_box = driver.find_element(By.ID, value=\"bdd-password\")\n",
    "password_box.send_keys(CUNET_PASSWORD)\n",
    "\n",
    "driver.implicitly_wait(3)\n",
    "\n",
    "sign_in_button = driver.find_element(By.ID, value=\"bdd-elsPrimaryBtn\")\n",
    "sign_in_button.click()\n",
    "\n",
    "driver.implicitly_wait(20)"
   ]
  },
  {
   "cell_type": "code",
   "execution_count": null,
   "metadata": {},
   "outputs": [],
   "source": [
    "pub_date_scrape_list = pd.read_csv('Pub_Date_2017_Scrape_List.csv')['Eid'].to_list()"
   ]
  },
  {
   "cell_type": "code",
   "execution_count": null,
   "metadata": {},
   "outputs": [],
   "source": [
    "len(pub_date_scrape_list)"
   ]
  },
  {
   "cell_type": "code",
   "execution_count": null,
   "metadata": {},
   "outputs": [],
   "source": [
    "month_year_list = []\n",
    "error_list = []\n",
    "index = 0\n",
    "\n",
    "for eid in pub_date_scrape_list:\n",
    "    try:\n",
    "        url = 'https://www.scopus.com/record/display.uri?eid=' + eid + '&origin=resultslist&sort=plf-f&src=s&sid=4070e132d327bfd204e04a25e45084e4&sot=a&sdt=a&s=AFFILORG(Chulalongkorn+University)+AND+PUBYEAR+%3D+2017&sl=53&sessionSearchId=4070e132d327bfd204e04a25e45084e4&relpos=3'\n",
    "\n",
    "        driver.get(url)\n",
    "\n",
    "        element = driver.find_element(By.CSS_SELECTOR, \"[class^='PublicationInformationBar-module']\")\n",
    "        send_text = element.text\n",
    "\n",
    "        completion = client.chat.completions.create(\n",
    "            model=\"gpt-4o-mini\",\n",
    "            messages=[\n",
    "                {\"role\": \"system\", \"content\": \"I will give you string of text of the article detail you must exact the last publication month and year from the string and return it in format MM-YYYY if it don't have date or month just return 00 for missing field and JUST RETURN ONLY THE DATE STRING\"},\n",
    "                {\n",
    "                    \"role\": \"user\",\n",
    "                    \"content\": send_text\n",
    "                }\n",
    "            ]\n",
    "        )\n",
    "        month_year = completion.choices[0].message.content\n",
    "        month = month_year.split('-')[0]\n",
    "        year = month_year.split('-')[1]\n",
    "        print(index, eid, month, year)\n",
    "        month_year_list.append([eid, month, year])\n",
    "        index += 1\n",
    "    except:\n",
    "        error_list.append(eid)\n"
   ]
  },
  {
   "cell_type": "code",
   "execution_count": null,
   "metadata": {},
   "outputs": [],
   "source": [
    "month_year_df = pd.DataFrame(month_year_list, columns=['Eid', 'Public_Month', 'Public_Year'])"
   ]
  },
  {
   "cell_type": "code",
   "execution_count": null,
   "metadata": {},
   "outputs": [],
   "source": [
    "month_year_df.to_csv('Scrape_Data_Pub_Date.csv',index=False)"
   ]
  },
  {
   "cell_type": "code",
   "execution_count": null,
   "metadata": {},
   "outputs": [],
   "source": [
    "print(error_list)"
   ]
  }
 ],
 "metadata": {
  "kernelspec": {
   "display_name": "base",
   "language": "python",
   "name": "python3"
  },
  "language_info": {
   "codemirror_mode": {
    "name": "ipython",
    "version": 3
   },
   "file_extension": ".py",
   "mimetype": "text/x-python",
   "name": "python",
   "nbconvert_exporter": "python",
   "pygments_lexer": "ipython3",
   "version": "3.12.4"
  },
  "orig_nbformat": 4
 },
 "nbformat": 4,
 "nbformat_minor": 2
}
