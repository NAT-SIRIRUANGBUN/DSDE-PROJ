{
 "cells": [
  {
   "cell_type": "code",
   "execution_count": 74,
   "metadata": {},
   "outputs": [],
   "source": [
    "import json\n",
    "import pandas as pd\n",
    "\n",
    "with open('./DATA/random_data.json') as file:\n",
    "    data = json.load(file)"
   ]
  },
  {
   "cell_type": "code",
   "execution_count": 75,
   "metadata": {},
   "outputs": [],
   "source": [
    "core_rows = []\n",
    "\n",
    "for record in data:\n",
    "    try:\n",
    "        core = record['abstracts-retrieval-response']['coredata']\n",
    "        core_rows.append({\n",
    "            'Eid': core['eid'],\n",
    "            'Title': core.get('dc:title', None),\n",
    "            'Publish_year': core.get('prism:coverDate', '').split('-')[0],\n",
    "            'Language': record['abstracts-retrieval-response'].get('language', {}).get('@xml:lang', None),\n",
    "            'Cited_by_count': core.get('citedby-count', 0)\n",
    "        })\n",
    "    except Exception as e:\n",
    "        pass\n",
    "    \n",
    "core_df = pd.DataFrame(core_rows)\n"
   ]
  },
  {
   "cell_type": "code",
   "execution_count": 76,
   "metadata": {},
   "outputs": [],
   "source": [
    "author_rows = []\n",
    "\n",
    "for record in data:\n",
    "    try:\n",
    "        eid = record['abstracts-retrieval-response']['coredata']['eid']\n",
    "        authors = record['abstracts-retrieval-response']['authors']['author']\n",
    "        for author in authors:\n",
    "            author_rows.append({\n",
    "                'Eid': eid,\n",
    "                'Author_name': author.get('preferred-name', {}).get('ce:indexed-name', None),\n",
    "                'Affiliations': author.get('affiliation', {}).get('affilname', None)\n",
    "            })\n",
    "    except Exception as e:\n",
    "        pass\n",
    "\n",
    "authors_df = pd.DataFrame(author_rows)\n"
   ]
  },
  {
   "cell_type": "code",
   "execution_count": 77,
   "metadata": {},
   "outputs": [],
   "source": [
    "subject_rows = []\n",
    "\n",
    "for record in data:\n",
    "    try:\n",
    "        eid = record['abstracts-retrieval-response']['coredata']['eid']\n",
    "        subjects = record['abstracts-retrieval-response']['subject-areas']['subject-area']\n",
    "        for subject in subjects:\n",
    "            subject_rows.append({\n",
    "                'Eid': eid,\n",
    "                'Subject_areas': subject.get('$', None),\n",
    "                'Subject_codes': subject.get('@code', None)\n",
    "            })\n",
    "    except Exception as e:\n",
    "        pass\n",
    "\n",
    "subjects_df = pd.DataFrame(subject_rows)\n"
   ]
  },
  {
   "cell_type": "code",
   "execution_count": 78,
   "metadata": {},
   "outputs": [],
   "source": [
    "keyword_rows = []\n",
    "\n",
    "for record in data:\n",
    "    try:\n",
    "        eid = record['abstracts-retrieval-response']['coredata']['eid']\n",
    "        keywords = record['abstracts-retrieval-response']['item']['bibrecord']['head']['citation-info']['author-keywords']['author-keyword']\n",
    "        for keyword in keywords:\n",
    "            keyword_rows.append({\n",
    "                'Eid': eid,\n",
    "                'Keywords': keyword.get('$', None),\n",
    "                'Keyword_language': keyword.get('@xml:lang', None)\n",
    "            })\n",
    "    except Exception as e:\n",
    "        pass\n",
    "\n",
    "keywords_df = pd.DataFrame(keyword_rows)\n"
   ]
  },
  {
   "cell_type": "code",
   "execution_count": 79,
   "metadata": {},
   "outputs": [
    {
     "data": {
      "text/html": [
       "<div>\n",
       "<style scoped>\n",
       "    .dataframe tbody tr th:only-of-type {\n",
       "        vertical-align: middle;\n",
       "    }\n",
       "\n",
       "    .dataframe tbody tr th {\n",
       "        vertical-align: top;\n",
       "    }\n",
       "\n",
       "    .dataframe thead th {\n",
       "        text-align: right;\n",
       "    }\n",
       "</style>\n",
       "<table border=\"1\" class=\"dataframe\">\n",
       "  <thead>\n",
       "    <tr style=\"text-align: right;\">\n",
       "      <th></th>\n",
       "      <th>Eid</th>\n",
       "      <th>Title</th>\n",
       "      <th>Publish_year</th>\n",
       "      <th>Language</th>\n",
       "      <th>Cited_by_count</th>\n",
       "    </tr>\n",
       "  </thead>\n",
       "  <tbody>\n",
       "    <tr>\n",
       "      <th>0</th>\n",
       "      <td>2-s2.0-85048179306</td>\n",
       "      <td>Penicillium Imranianum, a new species from the...</td>\n",
       "      <td>2018</td>\n",
       "      <td>eng</td>\n",
       "      <td>8</td>\n",
       "    </tr>\n",
       "    <tr>\n",
       "      <th>1</th>\n",
       "      <td>2-s2.0-85051180271</td>\n",
       "      <td>Nephrology nurses' perceptions of discussing s...</td>\n",
       "      <td>2018</td>\n",
       "      <td>eng</td>\n",
       "      <td>8</td>\n",
       "    </tr>\n",
       "    <tr>\n",
       "      <th>2</th>\n",
       "      <td>2-s2.0-85056255685</td>\n",
       "      <td>Tire-suspension-steering hardware-in-the-loop ...</td>\n",
       "      <td>2018</td>\n",
       "      <td>eng</td>\n",
       "      <td>2</td>\n",
       "    </tr>\n",
       "    <tr>\n",
       "      <th>3</th>\n",
       "      <td>2-s2.0-85042708303</td>\n",
       "      <td>Elevated HPV16 E1 Expression Is Associated wit...</td>\n",
       "      <td>2018</td>\n",
       "      <td>eng</td>\n",
       "      <td>14</td>\n",
       "    </tr>\n",
       "    <tr>\n",
       "      <th>4</th>\n",
       "      <td>2-s2.0-85040707959</td>\n",
       "      <td>Characteristics of pericytes in diethylstilbes...</td>\n",
       "      <td>2018</td>\n",
       "      <td>eng</td>\n",
       "      <td>8</td>\n",
       "    </tr>\n",
       "  </tbody>\n",
       "</table>\n",
       "</div>"
      ],
      "text/plain": [
       "                  Eid                                              Title  \\\n",
       "0  2-s2.0-85048179306  Penicillium Imranianum, a new species from the...   \n",
       "1  2-s2.0-85051180271  Nephrology nurses' perceptions of discussing s...   \n",
       "2  2-s2.0-85056255685  Tire-suspension-steering hardware-in-the-loop ...   \n",
       "3  2-s2.0-85042708303  Elevated HPV16 E1 Expression Is Associated wit...   \n",
       "4  2-s2.0-85040707959  Characteristics of pericytes in diethylstilbes...   \n",
       "\n",
       "  Publish_year Language Cited_by_count  \n",
       "0         2018      eng              8  \n",
       "1         2018      eng              8  \n",
       "2         2018      eng              2  \n",
       "3         2018      eng             14  \n",
       "4         2018      eng              8  "
      ]
     },
     "execution_count": 79,
     "metadata": {},
     "output_type": "execute_result"
    }
   ],
   "source": [
    "core_df.head()"
   ]
  },
  {
   "cell_type": "code",
   "execution_count": 80,
   "metadata": {},
   "outputs": [
    {
     "data": {
      "text/html": [
       "<div>\n",
       "<style scoped>\n",
       "    .dataframe tbody tr th:only-of-type {\n",
       "        vertical-align: middle;\n",
       "    }\n",
       "\n",
       "    .dataframe tbody tr th {\n",
       "        vertical-align: top;\n",
       "    }\n",
       "\n",
       "    .dataframe thead th {\n",
       "        text-align: right;\n",
       "    }\n",
       "</style>\n",
       "<table border=\"1\" class=\"dataframe\">\n",
       "  <thead>\n",
       "    <tr style=\"text-align: right;\">\n",
       "      <th></th>\n",
       "      <th>Eid</th>\n",
       "      <th>Author_name</th>\n",
       "      <th>Affiliations</th>\n",
       "    </tr>\n",
       "  </thead>\n",
       "  <tbody>\n",
       "    <tr>\n",
       "      <th>0</th>\n",
       "      <td>2-s2.0-85048179306</td>\n",
       "      <td>Ali F.</td>\n",
       "      <td>None</td>\n",
       "    </tr>\n",
       "    <tr>\n",
       "      <th>1</th>\n",
       "      <td>2-s2.0-85048179306</td>\n",
       "      <td>Akbar A.</td>\n",
       "      <td>None</td>\n",
       "    </tr>\n",
       "    <tr>\n",
       "      <th>2</th>\n",
       "      <td>2-s2.0-85048179306</td>\n",
       "      <td>Prasongsuk S.</td>\n",
       "      <td>None</td>\n",
       "    </tr>\n",
       "    <tr>\n",
       "      <th>3</th>\n",
       "      <td>2-s2.0-85048179306</td>\n",
       "      <td>Permpornsakul P.</td>\n",
       "      <td>None</td>\n",
       "    </tr>\n",
       "    <tr>\n",
       "      <th>4</th>\n",
       "      <td>2-s2.0-85048179306</td>\n",
       "      <td>Yanwisetpakdee B.</td>\n",
       "      <td>None</td>\n",
       "    </tr>\n",
       "  </tbody>\n",
       "</table>\n",
       "</div>"
      ],
      "text/plain": [
       "                  Eid        Author_name Affiliations\n",
       "0  2-s2.0-85048179306             Ali F.         None\n",
       "1  2-s2.0-85048179306           Akbar A.         None\n",
       "2  2-s2.0-85048179306      Prasongsuk S.         None\n",
       "3  2-s2.0-85048179306   Permpornsakul P.         None\n",
       "4  2-s2.0-85048179306  Yanwisetpakdee B.         None"
      ]
     },
     "execution_count": 80,
     "metadata": {},
     "output_type": "execute_result"
    }
   ],
   "source": [
    "authors_df.head()"
   ]
  },
  {
   "cell_type": "code",
   "execution_count": 81,
   "metadata": {},
   "outputs": [
    {
     "data": {
      "text/html": [
       "<div>\n",
       "<style scoped>\n",
       "    .dataframe tbody tr th:only-of-type {\n",
       "        vertical-align: middle;\n",
       "    }\n",
       "\n",
       "    .dataframe tbody tr th {\n",
       "        vertical-align: top;\n",
       "    }\n",
       "\n",
       "    .dataframe thead th {\n",
       "        text-align: right;\n",
       "    }\n",
       "</style>\n",
       "<table border=\"1\" class=\"dataframe\">\n",
       "  <thead>\n",
       "    <tr style=\"text-align: right;\">\n",
       "      <th></th>\n",
       "      <th>Eid</th>\n",
       "      <th>Subject_areas</th>\n",
       "      <th>Subject_codes</th>\n",
       "    </tr>\n",
       "  </thead>\n",
       "  <tbody>\n",
       "    <tr>\n",
       "      <th>0</th>\n",
       "      <td>2-s2.0-85048179306</td>\n",
       "      <td>Plant Science</td>\n",
       "      <td>1110</td>\n",
       "    </tr>\n",
       "    <tr>\n",
       "      <th>1</th>\n",
       "      <td>2-s2.0-85051180271</td>\n",
       "      <td>Nephrology</td>\n",
       "      <td>2727</td>\n",
       "    </tr>\n",
       "    <tr>\n",
       "      <th>2</th>\n",
       "      <td>2-s2.0-85051180271</td>\n",
       "      <td>Advanced and Specialized Nursing</td>\n",
       "      <td>2902</td>\n",
       "    </tr>\n",
       "    <tr>\n",
       "      <th>3</th>\n",
       "      <td>2-s2.0-85056255685</td>\n",
       "      <td>Engineering (all)</td>\n",
       "      <td>2200</td>\n",
       "    </tr>\n",
       "    <tr>\n",
       "      <th>4</th>\n",
       "      <td>2-s2.0-85042708303</td>\n",
       "      <td>Virology</td>\n",
       "      <td>2406</td>\n",
       "    </tr>\n",
       "  </tbody>\n",
       "</table>\n",
       "</div>"
      ],
      "text/plain": [
       "                  Eid                     Subject_areas Subject_codes\n",
       "0  2-s2.0-85048179306                     Plant Science          1110\n",
       "1  2-s2.0-85051180271                        Nephrology          2727\n",
       "2  2-s2.0-85051180271  Advanced and Specialized Nursing          2902\n",
       "3  2-s2.0-85056255685                 Engineering (all)          2200\n",
       "4  2-s2.0-85042708303                          Virology          2406"
      ]
     },
     "execution_count": 81,
     "metadata": {},
     "output_type": "execute_result"
    }
   ],
   "source": [
    "subjects_df.head()"
   ]
  },
  {
   "cell_type": "code",
   "execution_count": 82,
   "metadata": {},
   "outputs": [
    {
     "data": {
      "text/html": [
       "<div>\n",
       "<style scoped>\n",
       "    .dataframe tbody tr th:only-of-type {\n",
       "        vertical-align: middle;\n",
       "    }\n",
       "\n",
       "    .dataframe tbody tr th {\n",
       "        vertical-align: top;\n",
       "    }\n",
       "\n",
       "    .dataframe thead th {\n",
       "        text-align: right;\n",
       "    }\n",
       "</style>\n",
       "<table border=\"1\" class=\"dataframe\">\n",
       "  <thead>\n",
       "    <tr style=\"text-align: right;\">\n",
       "      <th></th>\n",
       "      <th>Eid</th>\n",
       "      <th>Keywords</th>\n",
       "      <th>Keyword_language</th>\n",
       "    </tr>\n",
       "  </thead>\n",
       "  <tbody>\n",
       "    <tr>\n",
       "      <th>0</th>\n",
       "      <td>2-s2.0-85048179306</td>\n",
       "      <td>Extremophiles</td>\n",
       "      <td>eng</td>\n",
       "    </tr>\n",
       "    <tr>\n",
       "      <th>1</th>\n",
       "      <td>2-s2.0-85048179306</td>\n",
       "      <td>Halophilic Fungi</td>\n",
       "      <td>eng</td>\n",
       "    </tr>\n",
       "    <tr>\n",
       "      <th>2</th>\n",
       "      <td>2-s2.0-85048179306</td>\n",
       "      <td>Hypersaline habitats</td>\n",
       "      <td>eng</td>\n",
       "    </tr>\n",
       "    <tr>\n",
       "      <th>3</th>\n",
       "      <td>2-s2.0-85048179306</td>\n",
       "      <td>Penicillium imranianum</td>\n",
       "      <td>eng</td>\n",
       "    </tr>\n",
       "    <tr>\n",
       "      <th>4</th>\n",
       "      <td>2-s2.0-85051180271</td>\n",
       "      <td>End stage kidney disease</td>\n",
       "      <td>eng</td>\n",
       "    </tr>\n",
       "  </tbody>\n",
       "</table>\n",
       "</div>"
      ],
      "text/plain": [
       "                  Eid                  Keywords Keyword_language\n",
       "0  2-s2.0-85048179306             Extremophiles              eng\n",
       "1  2-s2.0-85048179306          Halophilic Fungi              eng\n",
       "2  2-s2.0-85048179306      Hypersaline habitats              eng\n",
       "3  2-s2.0-85048179306    Penicillium imranianum              eng\n",
       "4  2-s2.0-85051180271  End stage kidney disease              eng"
      ]
     },
     "execution_count": 82,
     "metadata": {},
     "output_type": "execute_result"
    }
   ],
   "source": [
    "keywords_df.head()"
   ]
  },
  {
   "cell_type": "code",
   "execution_count": 83,
   "metadata": {},
   "outputs": [],
   "source": [
    "final_df = core_df.merge(authors_df, on='Eid', how='left') \\\n",
    "                  .merge(subjects_df, on='Eid', how='left') \\\n",
    "                  .merge(keywords_df, on='Eid', how='left')\n"
   ]
  },
  {
   "cell_type": "code",
   "execution_count": 84,
   "metadata": {},
   "outputs": [
    {
     "data": {
      "text/html": [
       "<div>\n",
       "<style scoped>\n",
       "    .dataframe tbody tr th:only-of-type {\n",
       "        vertical-align: middle;\n",
       "    }\n",
       "\n",
       "    .dataframe tbody tr th {\n",
       "        vertical-align: top;\n",
       "    }\n",
       "\n",
       "    .dataframe thead th {\n",
       "        text-align: right;\n",
       "    }\n",
       "</style>\n",
       "<table border=\"1\" class=\"dataframe\">\n",
       "  <thead>\n",
       "    <tr style=\"text-align: right;\">\n",
       "      <th></th>\n",
       "      <th>Eid</th>\n",
       "      <th>Title</th>\n",
       "      <th>Publish_year</th>\n",
       "      <th>Language</th>\n",
       "      <th>Cited_by_count</th>\n",
       "      <th>Author_name</th>\n",
       "      <th>Affiliations</th>\n",
       "      <th>Subject_areas</th>\n",
       "      <th>Subject_codes</th>\n",
       "      <th>Keywords</th>\n",
       "      <th>Keyword_language</th>\n",
       "    </tr>\n",
       "  </thead>\n",
       "  <tbody>\n",
       "    <tr>\n",
       "      <th>0</th>\n",
       "      <td>2-s2.0-85048179306</td>\n",
       "      <td>Penicillium Imranianum, a new species from the...</td>\n",
       "      <td>2018</td>\n",
       "      <td>eng</td>\n",
       "      <td>8</td>\n",
       "      <td>Ali F.</td>\n",
       "      <td>None</td>\n",
       "      <td>Plant Science</td>\n",
       "      <td>1110</td>\n",
       "      <td>Extremophiles</td>\n",
       "      <td>eng</td>\n",
       "    </tr>\n",
       "    <tr>\n",
       "      <th>1</th>\n",
       "      <td>2-s2.0-85048179306</td>\n",
       "      <td>Penicillium Imranianum, a new species from the...</td>\n",
       "      <td>2018</td>\n",
       "      <td>eng</td>\n",
       "      <td>8</td>\n",
       "      <td>Ali F.</td>\n",
       "      <td>None</td>\n",
       "      <td>Plant Science</td>\n",
       "      <td>1110</td>\n",
       "      <td>Halophilic Fungi</td>\n",
       "      <td>eng</td>\n",
       "    </tr>\n",
       "    <tr>\n",
       "      <th>2</th>\n",
       "      <td>2-s2.0-85048179306</td>\n",
       "      <td>Penicillium Imranianum, a new species from the...</td>\n",
       "      <td>2018</td>\n",
       "      <td>eng</td>\n",
       "      <td>8</td>\n",
       "      <td>Ali F.</td>\n",
       "      <td>None</td>\n",
       "      <td>Plant Science</td>\n",
       "      <td>1110</td>\n",
       "      <td>Hypersaline habitats</td>\n",
       "      <td>eng</td>\n",
       "    </tr>\n",
       "    <tr>\n",
       "      <th>3</th>\n",
       "      <td>2-s2.0-85048179306</td>\n",
       "      <td>Penicillium Imranianum, a new species from the...</td>\n",
       "      <td>2018</td>\n",
       "      <td>eng</td>\n",
       "      <td>8</td>\n",
       "      <td>Ali F.</td>\n",
       "      <td>None</td>\n",
       "      <td>Plant Science</td>\n",
       "      <td>1110</td>\n",
       "      <td>Penicillium imranianum</td>\n",
       "      <td>eng</td>\n",
       "    </tr>\n",
       "    <tr>\n",
       "      <th>4</th>\n",
       "      <td>2-s2.0-85048179306</td>\n",
       "      <td>Penicillium Imranianum, a new species from the...</td>\n",
       "      <td>2018</td>\n",
       "      <td>eng</td>\n",
       "      <td>8</td>\n",
       "      <td>Akbar A.</td>\n",
       "      <td>None</td>\n",
       "      <td>Plant Science</td>\n",
       "      <td>1110</td>\n",
       "      <td>Extremophiles</td>\n",
       "      <td>eng</td>\n",
       "    </tr>\n",
       "  </tbody>\n",
       "</table>\n",
       "</div>"
      ],
      "text/plain": [
       "                  Eid                                              Title  \\\n",
       "0  2-s2.0-85048179306  Penicillium Imranianum, a new species from the...   \n",
       "1  2-s2.0-85048179306  Penicillium Imranianum, a new species from the...   \n",
       "2  2-s2.0-85048179306  Penicillium Imranianum, a new species from the...   \n",
       "3  2-s2.0-85048179306  Penicillium Imranianum, a new species from the...   \n",
       "4  2-s2.0-85048179306  Penicillium Imranianum, a new species from the...   \n",
       "\n",
       "  Publish_year Language Cited_by_count Author_name Affiliations  \\\n",
       "0         2018      eng              8      Ali F.         None   \n",
       "1         2018      eng              8      Ali F.         None   \n",
       "2         2018      eng              8      Ali F.         None   \n",
       "3         2018      eng              8      Ali F.         None   \n",
       "4         2018      eng              8    Akbar A.         None   \n",
       "\n",
       "   Subject_areas Subject_codes                Keywords Keyword_language  \n",
       "0  Plant Science          1110           Extremophiles              eng  \n",
       "1  Plant Science          1110        Halophilic Fungi              eng  \n",
       "2  Plant Science          1110    Hypersaline habitats              eng  \n",
       "3  Plant Science          1110  Penicillium imranianum              eng  \n",
       "4  Plant Science          1110           Extremophiles              eng  "
      ]
     },
     "execution_count": 84,
     "metadata": {},
     "output_type": "execute_result"
    }
   ],
   "source": [
    "final_df.head()"
   ]
  },
  {
   "cell_type": "code",
   "execution_count": 85,
   "metadata": {},
   "outputs": [],
   "source": [
    "final_df.to_csv('scopus_data.csv', index=False)"
   ]
  },
  {
   "cell_type": "code",
   "execution_count": 86,
   "metadata": {},
   "outputs": [
    {
     "name": "stdout",
     "output_type": "stream",
     "text": [
      "จำนวนรายการในแต่ละ DataFrame:\n",
      "Core Data: 200\n",
      "Authors Data: 1360\n",
      "Subjects Data: 476\n",
      "Keywords Data: 804\n"
     ]
    }
   ],
   "source": [
    "print(\"จำนวนรายการในแต่ละ DataFrame:\")\n",
    "print(f\"Core Data: {len(core_df)}\")\n",
    "print(f\"Authors Data: {len(authors_df)}\")\n",
    "print(f\"Subjects Data: {len(subjects_df)}\")\n",
    "print(f\"Keywords Data: {len(keywords_df)}\")"
   ]
  },
  {
   "cell_type": "code",
   "execution_count": 87,
   "metadata": {},
   "outputs": [
    {
     "name": "stdout",
     "output_type": "stream",
     "text": [
      "\n",
      "ตรวจสอบข้อมูลว่างในแต่ละ DataFrame:\n",
      "Missing values in core_df:\n",
      " Eid               0\n",
      "Title             0\n",
      "Publish_year      0\n",
      "Language          0\n",
      "Cited_by_count    0\n",
      "dtype: int64\n",
      "Missing values in authors_df:\n",
      " Eid                0\n",
      "Author_name        0\n",
      "Affiliations    1360\n",
      "dtype: int64\n",
      "Missing values in subjects_df:\n",
      " Eid              0\n",
      "Subject_areas    0\n",
      "Subject_codes    0\n",
      "dtype: int64\n",
      "Missing values in keywords_df:\n",
      " Eid                 0\n",
      "Keywords            0\n",
      "Keyword_language    0\n",
      "dtype: int64\n"
     ]
    }
   ],
   "source": [
    "print(\"\\nตรวจสอบข้อมูลว่างในแต่ละ DataFrame:\")\n",
    "print(\"Missing values in core_df:\\n\", core_df.isnull().sum())\n",
    "print(\"Missing values in authors_df:\\n\", authors_df.isnull().sum())\n",
    "print(\"Missing values in subjects_df:\\n\", subjects_df.isnull().sum())\n",
    "print(\"Missing values in keywords_df:\\n\", keywords_df.isnull().sum())"
   ]
  },
  {
   "cell_type": "code",
   "execution_count": 88,
   "metadata": {},
   "outputs": [
    {
     "name": "stdout",
     "output_type": "stream",
     "text": [
      "\n",
      "การกระจายตัวของปีที่ตีพิมพ์:\n",
      "Publish_year\n",
      "2018    34\n",
      "2019    27\n",
      "2020    39\n",
      "2021    29\n",
      "2022    48\n",
      "2023    23\n",
      "Name: count, dtype: int64\n"
     ]
    }
   ],
   "source": [
    "print(\"\\nการกระจายตัวของปีที่ตีพิมพ์:\")\n",
    "publish_year_distribution = core_df['Publish_year'].value_counts().sort_index()\n",
    "print(publish_year_distribution)"
   ]
  },
  {
   "cell_type": "code",
   "execution_count": 89,
   "metadata": {},
   "outputs": [
    {
     "name": "stdout",
     "output_type": "stream",
     "text": [
      "\n",
      "ข้อมูลการถูกอ้างอิง:\n",
      "count     200\n",
      "unique     36\n",
      "top         0\n",
      "freq       46\n",
      "Name: Cited_by_count, dtype: object\n"
     ]
    }
   ],
   "source": [
    "print(\"\\nข้อมูลการถูกอ้างอิง:\")\n",
    "cited_by_summary = core_df['Cited_by_count'].describe()\n",
    "print(cited_by_summary)"
   ]
  },
  {
   "cell_type": "code",
   "execution_count": 90,
   "metadata": {},
   "outputs": [
    {
     "name": "stdout",
     "output_type": "stream",
     "text": [
      "\n",
      "จำนวนผู้แต่งที่ไม่ซ้ำกัน:\n",
      "มีผู้แต่งที่ไม่ซ้ำกันทั้งหมด: 1296\n"
     ]
    }
   ],
   "source": [
    "print(\"\\nจำนวนผู้แต่งที่ไม่ซ้ำกัน:\")\n",
    "unique_authors = authors_df['Author_name'].nunique()\n",
    "print(f\"มีผู้แต่งที่ไม่ซ้ำกันทั้งหมด: {unique_authors}\")"
   ]
  },
  {
   "cell_type": "code",
   "execution_count": 91,
   "metadata": {},
   "outputs": [
    {
     "name": "stdout",
     "output_type": "stream",
     "text": [
      "\n",
      "การวิเคราะห์คีย์เวิร์ด:\n",
      "Top 10 คีย์เวิร์ดที่พบบ่อย:\n",
      "Keywords\n",
      "Thailand                  7\n",
      "HIV                       3\n",
      "Mechanism                 2\n",
      "antiretroviral therapy    2\n",
      "Wound dressing            2\n",
      "Bangkok                   2\n",
      "Inflammation              2\n",
      "Hydrogel                  2\n",
      "COVID-19                  2\n",
      "Oxidative stress          2\n",
      "Name: count, dtype: int64\n"
     ]
    }
   ],
   "source": [
    "print(\"\\nการวิเคราะห์คีย์เวิร์ด:\")\n",
    "keyword_counts = keywords_df['Keywords'].value_counts().head(10)\n",
    "print(\"Top 10 คีย์เวิร์ดที่พบบ่อย:\")\n",
    "print(keyword_counts)"
   ]
  },
  {
   "cell_type": "code",
   "execution_count": 92,
   "metadata": {},
   "outputs": [
    {
     "name": "stdout",
     "output_type": "stream",
     "text": [
      "\n",
      "ความหลากหลายของภาษาใน Keywords:\n",
      "Keyword_language\n",
      "eng    804\n",
      "Name: count, dtype: int64\n"
     ]
    }
   ],
   "source": [
    "print(\"\\nความหลากหลายของภาษาใน Keywords:\")\n",
    "keyword_language_counts = keywords_df['Keyword_language'].value_counts()\n",
    "print(keyword_language_counts)"
   ]
  },
  {
   "cell_type": "code",
   "execution_count": 93,
   "metadata": {},
   "outputs": [
    {
     "name": "stdout",
     "output_type": "stream",
     "text": [
      "\n",
      "การวิเคราะห์สาขาวิชา:\n",
      "Top สาขาวิชาที่พบบ่อย:\n",
      "Subject_areas\n",
      "Computer Science Applications           13\n",
      "Chemistry (all)                         11\n",
      "Multidisciplinary                       11\n",
      "Engineering (all)                       10\n",
      "Medicine (all)                           9\n",
      "Chemical Engineering (all)               9\n",
      "Polymers and Plastics                    8\n",
      "Condensed Matter Physics                 8\n",
      "Materials Science (all)                  8\n",
      "Computer Networks and Communications     8\n",
      "Name: count, dtype: int64\n"
     ]
    }
   ],
   "source": [
    "print(\"\\nการวิเคราะห์สาขาวิชา:\")\n",
    "subject_areas_counts = subjects_df['Subject_areas'].value_counts()\n",
    "print(\"Top สาขาวิชาที่พบบ่อย:\")\n",
    "print(subject_areas_counts.head(10))"
   ]
  }
 ],
 "metadata": {
  "kernelspec": {
   "display_name": "base",
   "language": "python",
   "name": "python3"
  },
  "language_info": {
   "codemirror_mode": {
    "name": "ipython",
    "version": 3
   },
   "file_extension": ".py",
   "mimetype": "text/x-python",
   "name": "python",
   "nbconvert_exporter": "python",
   "pygments_lexer": "ipython3",
   "version": "3.12.4"
  },
  "orig_nbformat": 4
 },
 "nbformat": 4,
 "nbformat_minor": 2
}
