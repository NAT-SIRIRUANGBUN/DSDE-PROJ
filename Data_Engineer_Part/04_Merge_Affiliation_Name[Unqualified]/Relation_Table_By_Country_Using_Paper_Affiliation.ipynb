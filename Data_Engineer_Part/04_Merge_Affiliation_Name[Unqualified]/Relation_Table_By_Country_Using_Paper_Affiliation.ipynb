{
 "cells": [
  {
   "cell_type": "code",
   "execution_count": null,
   "metadata": {},
   "outputs": [],
   "source": [
    "import pandas as pd"
   ]
  },
  {
   "cell_type": "code",
   "execution_count": null,
   "metadata": {},
   "outputs": [],
   "source": [
    "paper_affiliation = pd.read_csv('../02_Relation_Table/paper_affiliation_10_seq.csv')\n",
    "affiliation_country = pd.read_csv('../03_Scrape_Affiliation_Name_And_Country/affiliation_name.csv').drop(columns='Unnamed: 0', axis=1).rename(columns={\"affid\" : \"Affiliation\"})"
   ]
  },
  {
   "cell_type": "code",
   "execution_count": null,
   "metadata": {},
   "outputs": [],
   "source": [
    "paper_affiliation = paper_affiliation.merge(affiliation_country, how='inner', on='Affiliation')"
   ]
  },
  {
   "cell_type": "code",
   "execution_count": null,
   "metadata": {},
   "outputs": [],
   "source": [
    "paper_affiliation = paper_affiliation.groupby(['Eid','Country'])['_id'].count().reset_index().drop(columns='_id')"
   ]
  },
  {
   "cell_type": "code",
   "execution_count": null,
   "metadata": {},
   "outputs": [],
   "source": [
    "eid_list = paper_affiliation['Eid'].drop_duplicates().to_list()"
   ]
  },
  {
   "cell_type": "code",
   "execution_count": null,
   "metadata": {},
   "outputs": [],
   "source": [
    "relation = []"
   ]
  },
  {
   "cell_type": "code",
   "execution_count": null,
   "metadata": {},
   "outputs": [],
   "source": [
    "for i in eid_list:\n",
    "    this_country = paper_affiliation[paper_affiliation['Eid'] == i]['Country'].to_list()\n",
    "    for j in range(0, len(this_country)):\n",
    "        for k in range(j + 1, len(this_country)):\n",
    "            relation.append([min(this_country[j], this_country[k]), max(this_country[j], this_country[k]), 1])"
   ]
  },
  {
   "cell_type": "code",
   "execution_count": null,
   "metadata": {},
   "outputs": [],
   "source": [
    "relation"
   ]
  },
  {
   "cell_type": "code",
   "execution_count": null,
   "metadata": {},
   "outputs": [],
   "source": [
    "relation_df = pd.DataFrame(relation, columns=['source', 'target', 'weight'])\n",
    "\n",
    "relation_df"
   ]
  },
  {
   "cell_type": "code",
   "execution_count": null,
   "metadata": {},
   "outputs": [],
   "source": [
    "relation_df = relation_df.groupby(['source', 'target'])['weight'].sum().reset_index()"
   ]
  },
  {
   "cell_type": "code",
   "execution_count": null,
   "metadata": {},
   "outputs": [],
   "source": [
    "relation_df.sort_values('weight', ascending=False)"
   ]
  },
  {
   "cell_type": "code",
   "execution_count": null,
   "metadata": {},
   "outputs": [],
   "source": [
    "relation_df.to_csv('country_relation_from_top_10_seq.csv', index=False)"
   ]
  }
 ],
 "metadata": {
  "kernelspec": {
   "display_name": "base",
   "language": "python",
   "name": "python3"
  },
  "language_info": {
   "codemirror_mode": {
    "name": "ipython",
    "version": 3
   },
   "file_extension": ".py",
   "mimetype": "text/x-python",
   "name": "python",
   "nbconvert_exporter": "python",
   "pygments_lexer": "ipython3",
   "version": "3.12.4"
  },
  "orig_nbformat": 4
 },
 "nbformat": 4,
 "nbformat_minor": 2
}
