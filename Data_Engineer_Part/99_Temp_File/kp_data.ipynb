{
 "cells": [
  {
   "cell_type": "code",
   "execution_count": null,
   "metadata": {},
   "outputs": [],
   "source": [
    "import json\n",
    "import pandas as pd\n",
    "\n",
    "with open('./DATA/all_data.json') as file:\n",
    "    data = json.load(file)"
   ]
  },
  {
   "cell_type": "code",
   "execution_count": null,
   "metadata": {},
   "outputs": [],
   "source": [
    "core_rows = []\n",
    "\n",
    "for record in data:\n",
    "    try:\n",
    "        core = record['abstracts-retrieval-response']['coredata']\n",
    "        core_rows.append({\n",
    "            'Eid': core['eid'],\n",
    "            'Title': core.get('dc:title', None),\n",
    "            'Publish_year': core.get('prism:coverDate', '').split('-')[0],\n",
    "            'Language': record['abstracts-retrieval-response'].get('language', {}).get('@xml:lang', None),\n",
    "            'Cited_by_count': core.get('citedby-count', 0)\n",
    "        })\n",
    "    except Exception as e:\n",
    "        pass\n",
    "    \n",
    "core_df = pd.DataFrame(core_rows)\n"
   ]
  },
  {
   "cell_type": "code",
   "execution_count": null,
   "metadata": {},
   "outputs": [],
   "source": [
    "author_rows = []\n",
    "\n",
    "for record in data:\n",
    "    try:\n",
    "        eid = record['abstracts-retrieval-response']['coredata']['eid']\n",
    "        authors = record['abstracts-retrieval-response']['authors']['author']\n",
    "        for author in authors:\n",
    "            author_rows.append({\n",
    "                'Eid': eid,\n",
    "                'Author_name': author.get('preferred-name', {}).get('ce:indexed-name', None),\n",
    "                'Affiliations': author.get('affiliation', {}).get('affilname', None)\n",
    "            })\n",
    "    except Exception as e:\n",
    "        pass\n",
    "\n",
    "authors_df = pd.DataFrame(author_rows)\n"
   ]
  },
  {
   "cell_type": "code",
   "execution_count": null,
   "metadata": {},
   "outputs": [],
   "source": [
    "subject_rows = []\n",
    "\n",
    "for record in data:\n",
    "    try:\n",
    "        eid = record['abstracts-retrieval-response']['coredata']['eid']\n",
    "        subjects = record['abstracts-retrieval-response']['subject-areas']['subject-area']\n",
    "        for subject in subjects:\n",
    "            subject_rows.append({\n",
    "                'Eid': eid,\n",
    "                'Subject_areas': subject.get('$', None),\n",
    "                'Subject_codes': subject.get('@code', None)\n",
    "            })\n",
    "    except Exception as e:\n",
    "        pass\n",
    "\n",
    "subjects_df = pd.DataFrame(subject_rows)\n"
   ]
  },
  {
   "cell_type": "code",
   "execution_count": null,
   "metadata": {},
   "outputs": [],
   "source": [
    "keyword_rows = []\n",
    "\n",
    "for record in data:\n",
    "    try:\n",
    "        eid = record['abstracts-retrieval-response']['coredata']['eid']\n",
    "        keywords = record['abstracts-retrieval-response']['item']['bibrecord']['head']['citation-info']['author-keywords']['author-keyword']\n",
    "        for keyword in keywords:\n",
    "            keyword_rows.append({\n",
    "                'Eid': eid,\n",
    "                'Keywords': keyword.get('$', None),\n",
    "                'Keyword_language': keyword.get('@xml:lang', None)\n",
    "            })\n",
    "    except Exception as e:\n",
    "        pass\n",
    "\n",
    "keywords_df = pd.DataFrame(keyword_rows)\n"
   ]
  },
  {
   "cell_type": "code",
   "execution_count": null,
   "metadata": {},
   "outputs": [],
   "source": [
    "core_df.head()"
   ]
  },
  {
   "cell_type": "code",
   "execution_count": null,
   "metadata": {},
   "outputs": [],
   "source": [
    "authors_df.head()"
   ]
  },
  {
   "cell_type": "code",
   "execution_count": null,
   "metadata": {},
   "outputs": [],
   "source": [
    "subjects_df.head()"
   ]
  },
  {
   "cell_type": "code",
   "execution_count": null,
   "metadata": {},
   "outputs": [],
   "source": [
    "keywords_df.head()"
   ]
  },
  {
   "cell_type": "code",
   "execution_count": null,
   "metadata": {},
   "outputs": [],
   "source": [
    "final_df = core_df.merge(authors_df, on='Eid', how='left') \\\n",
    "                  .merge(subjects_df, on='Eid', how='left') \\\n",
    "                  .merge(keywords_df, on='Eid', how='left')\n"
   ]
  },
  {
   "cell_type": "code",
   "execution_count": null,
   "metadata": {},
   "outputs": [],
   "source": [
    "final_df.head()"
   ]
  },
  {
   "cell_type": "code",
   "execution_count": null,
   "metadata": {},
   "outputs": [],
   "source": [
    "final_df.to_csv('scopus_data.csv', index=False)"
   ]
  },
  {
   "cell_type": "code",
   "execution_count": null,
   "metadata": {},
   "outputs": [],
   "source": [
    "print(\"จำนวนรายการในแต่ละ DataFrame:\")\n",
    "print(f\"Core Data: {len(core_df)}\")\n",
    "print(f\"Authors Data: {len(authors_df)}\")\n",
    "print(f\"Subjects Data: {len(subjects_df)}\")\n",
    "print(f\"Keywords Data: {len(keywords_df)}\")"
   ]
  },
  {
   "cell_type": "code",
   "execution_count": null,
   "metadata": {},
   "outputs": [],
   "source": [
    "print(\"\\nตรวจสอบข้อมูลว่างในแต่ละ DataFrame:\")\n",
    "print(\"Missing values in core_df:\\n\", core_df.isnull().sum())\n",
    "print(\"Missing values in authors_df:\\n\", authors_df.isnull().sum())\n",
    "print(\"Missing values in subjects_df:\\n\", subjects_df.isnull().sum())\n",
    "print(\"Missing values in keywords_df:\\n\", keywords_df.isnull().sum())"
   ]
  },
  {
   "cell_type": "code",
   "execution_count": null,
   "metadata": {},
   "outputs": [],
   "source": [
    "print(\"\\nการกระจายตัวของปีที่ตีพิมพ์:\")\n",
    "publish_year_distribution = core_df['Publish_year'].value_counts().sort_index()\n",
    "print(publish_year_distribution)"
   ]
  },
  {
   "cell_type": "code",
   "execution_count": null,
   "metadata": {},
   "outputs": [],
   "source": [
    "print(\"\\nข้อมูลการถูกอ้างอิง:\")\n",
    "cited_by_summary = core_df['Cited_by_count'].describe()\n",
    "print(cited_by_summary)"
   ]
  },
  {
   "cell_type": "code",
   "execution_count": null,
   "metadata": {},
   "outputs": [],
   "source": [
    "print(\"\\nจำนวนผู้แต่งที่ไม่ซ้ำกัน:\")\n",
    "unique_authors = authors_df['Author_name'].nunique()\n",
    "print(f\"มีผู้แต่งที่ไม่ซ้ำกันทั้งหมด: {unique_authors}\")"
   ]
  },
  {
   "cell_type": "code",
   "execution_count": null,
   "metadata": {},
   "outputs": [],
   "source": [
    "print(\"\\nการวิเคราะห์คีย์เวิร์ด:\")\n",
    "keyword_counts = keywords_df['Keywords'].value_counts().head(10)\n",
    "print(\"Top 10 คีย์เวิร์ดที่พบบ่อย:\")\n",
    "print(keyword_counts)"
   ]
  },
  {
   "cell_type": "code",
   "execution_count": null,
   "metadata": {},
   "outputs": [],
   "source": [
    "print(\"\\nความหลากหลายของภาษาใน Keywords:\")\n",
    "keyword_language_counts = keywords_df['Keyword_language'].value_counts()\n",
    "print(keyword_language_counts)"
   ]
  },
  {
   "cell_type": "code",
   "execution_count": null,
   "metadata": {},
   "outputs": [],
   "source": [
    "print(\"\\nการวิเคราะห์สาขาวิชา:\")\n",
    "subject_areas_counts = subjects_df['Subject_areas'].value_counts()\n",
    "print(\"Top สาขาวิชาที่พบบ่อย:\")\n",
    "print(subject_areas_counts.head(10))"
   ]
  }
 ],
 "metadata": {
  "kernelspec": {
   "display_name": "base",
   "language": "python",
   "name": "python3"
  },
  "language_info": {
   "codemirror_mode": {
    "name": "ipython",
    "version": 3
   },
   "file_extension": ".py",
   "mimetype": "text/x-python",
   "name": "python",
   "nbconvert_exporter": "python",
   "pygments_lexer": "ipython3",
   "version": "3.12.4"
  },
  "orig_nbformat": 4
 },
 "nbformat": 4,
 "nbformat_minor": 2
}
