{
 "cells": [
  {
   "cell_type": "code",
   "execution_count": null,
   "metadata": {},
   "outputs": [],
   "source": [
    "import pandas as pd\n"
   ]
  },
  {
   "cell_type": "code",
   "execution_count": null,
   "metadata": {},
   "outputs": [],
   "source": [
    "pd.set_option('display.max_columns', 100)\n",
    "pd.set_option('display.max_rows', 100)"
   ]
  },
  {
   "cell_type": "code",
   "execution_count": null,
   "metadata": {},
   "outputs": [],
   "source": [
    "paper_affiliation = pd.read_csv('./DATA/paper_affiliation_10_seq.csv')\n"
   ]
  },
  {
   "cell_type": "code",
   "execution_count": null,
   "metadata": {},
   "outputs": [],
   "source": [
    "relation = pd.read_csv('./DATA/relation.csv')\n",
    "affiliation_country_for_aff1 = pd.read_csv('./DATA/affiliation_name.csv')\n",
    "affiliation_country_for_aff1 = affiliation_country_for_aff1.drop(columns=['Unnamed: 0', '_id'], axis=1)\n",
    "affiliation_country_for_aff2 = affiliation_country_for_aff1.copy()\n",
    "\n",
    "relation = relation.rename(columns={'Unnamed: 0' : 'Index'})"
   ]
  },
  {
   "cell_type": "code",
   "execution_count": null,
   "metadata": {},
   "outputs": [],
   "source": [
    "relation"
   ]
  },
  {
   "cell_type": "code",
   "execution_count": null,
   "metadata": {},
   "outputs": [],
   "source": [
    "relation_aff1 = relation[['Index', 'aff1']]\n",
    "relation_aff2 = relation[['Index', 'aff2', 'count']]"
   ]
  },
  {
   "cell_type": "code",
   "execution_count": null,
   "metadata": {},
   "outputs": [],
   "source": [
    "affiliation_country_for_aff1"
   ]
  },
  {
   "cell_type": "code",
   "execution_count": null,
   "metadata": {},
   "outputs": [],
   "source": [
    "affiliation_country_for_aff1 = affiliation_country_for_aff1.rename(columns={\"affid\" : \"aff1\"})\n",
    "affiliation_country_for_aff1 = affiliation_country_for_aff1.rename(columns={\"affname\" : \"aff1_name\"})\n",
    "affiliation_country_for_aff1 = affiliation_country_for_aff1.rename(columns={\"location\" : \"aff1_location\"})\n",
    "affiliation_country_for_aff1 = affiliation_country_for_aff1.rename(columns={\"Country\" : \"aff1_country\"})\n",
    "\n",
    "relation_aff1 = relation_aff1.merge(affiliation_country_for_aff1, how='left')\n"
   ]
  },
  {
   "cell_type": "code",
   "execution_count": null,
   "metadata": {},
   "outputs": [],
   "source": [
    "affiliation_country_for_aff2 = affiliation_country_for_aff2.rename(columns={\"affid\" : \"aff2\"})\n",
    "affiliation_country_for_aff2 = affiliation_country_for_aff2.rename(columns={\"affname\" : \"aff2_name\"})\n",
    "affiliation_country_for_aff2 = affiliation_country_for_aff2.rename(columns={\"location\" : \"aff2_location\"})\n",
    "affiliation_country_for_aff2 = affiliation_country_for_aff2.rename(columns={\"Country\" : \"aff2_country\"})\n",
    "\n",
    "relation_aff2 = relation_aff2.merge(affiliation_country_for_aff2, how='left')\n"
   ]
  },
  {
   "cell_type": "code",
   "execution_count": null,
   "metadata": {},
   "outputs": [],
   "source": [
    "relation_aff1"
   ]
  },
  {
   "cell_type": "code",
   "execution_count": null,
   "metadata": {},
   "outputs": [],
   "source": [
    "relation_aff2"
   ]
  },
  {
   "cell_type": "code",
   "execution_count": null,
   "metadata": {},
   "outputs": [],
   "source": [
    "relation_with_country = relation_aff1.merge(relation_aff2, how='inner', on='Index')"
   ]
  },
  {
   "cell_type": "code",
   "execution_count": null,
   "metadata": {},
   "outputs": [],
   "source": [
    "relation_with_country"
   ]
  },
  {
   "cell_type": "code",
   "execution_count": null,
   "metadata": {},
   "outputs": [],
   "source": [
    "# pd.set_option('display.max_columns', None)\n",
    "# pd.set_option('display.max_rows', None)"
   ]
  },
  {
   "cell_type": "code",
   "execution_count": null,
   "metadata": {},
   "outputs": [],
   "source": []
  },
  {
   "cell_type": "code",
   "execution_count": null,
   "metadata": {},
   "outputs": [],
   "source": [
    "df_group = relation_with_country.groupby(['aff1_country', 'aff2_country'])['count'].sum().reset_index().sort_values('count', ascending=False).reset_index().drop(columns='index')\n"
   ]
  },
  {
   "cell_type": "code",
   "execution_count": null,
   "metadata": {},
   "outputs": [],
   "source": []
  },
  {
   "cell_type": "code",
   "execution_count": null,
   "metadata": {},
   "outputs": [],
   "source": [
    "df_group['min_aff'] = df_group[['aff1_country', 'aff2_country']].min(axis=1)\n",
    "df_group['max_aff'] = df_group[['aff1_country', 'aff2_country']].max(axis=1)\n",
    "\n",
    "df_group.head(100)\n",
    "\n",
    "df_group = df_group.groupby(['min_aff', 'max_aff'])['count'].max().reset_index().sort_values('count', ascending=False).reset_index().drop(columns='index')\n",
    "\n",
    "df_group = df_group.rename(columns={\"min_aff\" : \"aff1\", \"max_aff\" : \"aff2\"})"
   ]
  },
  {
   "cell_type": "code",
   "execution_count": null,
   "metadata": {},
   "outputs": [],
   "source": [
    "df_group"
   ]
  },
  {
   "cell_type": "code",
   "execution_count": null,
   "metadata": {},
   "outputs": [],
   "source": [
    "# df_group[(df_group['aff1'] == 'Thailand') | (df_group['aff2'] == 'Thailand')]\n",
    "df_group['aff1'].value_counts()"
   ]
  },
  {
   "cell_type": "code",
   "execution_count": null,
   "metadata": {},
   "outputs": [],
   "source": [
    "df_group = df_group.rename(columns={\"aff1\" : \"source\", \"aff2\" : \"target\",  \"count\" : \"weight\"})"
   ]
  },
  {
   "cell_type": "code",
   "execution_count": null,
   "metadata": {},
   "outputs": [],
   "source": [
    "df_group.to_csv('relation_by_country_10_seq.csv', index=False)"
   ]
  },
  {
   "cell_type": "code",
   "execution_count": null,
   "metadata": {},
   "outputs": [],
   "source": []
  },
  {
   "cell_type": "code",
   "execution_count": null,
   "metadata": {},
   "outputs": [],
   "source": [
    "pd.set_option('display.max_rows', None)"
   ]
  },
  {
   "cell_type": "code",
   "execution_count": null,
   "metadata": {},
   "outputs": [],
   "source": [
    "pd.read_csv('relation_by_country_10_seq.csv')"
   ]
  }
 ],
 "metadata": {
  "kernelspec": {
   "display_name": "base",
   "language": "python",
   "name": "python3"
  },
  "language_info": {
   "codemirror_mode": {
    "name": "ipython",
    "version": 3
   },
   "file_extension": ".py",
   "mimetype": "text/x-python",
   "name": "python",
   "nbconvert_exporter": "python",
   "pygments_lexer": "ipython3",
   "version": "3.12.4"
  },
  "orig_nbformat": 4
 },
 "nbformat": 4,
 "nbformat_minor": 2
}
