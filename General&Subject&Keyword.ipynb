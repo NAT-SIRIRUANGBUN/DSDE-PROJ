{
 "cells": [
  {
   "cell_type": "code",
   "execution_count": 83,
   "metadata": {},
   "outputs": [],
   "source": [
    "import numpy as np\n",
    "import pandas as pd\n",
    "import json\n",
    "\n",
    "from pathlib import Path  \n"
   ]
  },
  {
   "cell_type": "code",
   "execution_count": 84,
   "metadata": {},
   "outputs": [],
   "source": [
    "data = []"
   ]
  },
  {
   "cell_type": "code",
   "execution_count": null,
   "metadata": {},
   "outputs": [],
   "source": [
    "with open('./DATA/all_data.json') as d:\n",
    "    data = json.load(d)\n",
    "    \n",
    "rows = []\n",
    "subj = []\n",
    "keywords = []\n",
    "affiliations = []\n",
    "funds = []\n",
    "\n",
    "for record in data:\n",
    "    try:\n",
    "        title = record['abstracts-retrieval-response']['coredata']['dc:title']\n",
    "        publish_year = record['abstracts-retrieval-response']['item']['ait:process-info']['ait:date-sort']['@year']\n",
    "        eid = record['abstracts-retrieval-response']['coredata']['eid']\n",
    "        aggregation_type = record['abstracts-retrieval-response']['coredata']['prism:aggregationType']\n",
    "        authors = record['abstracts-retrieval-response']['authors']['author']\n",
    "        author_count = len(authors)\n",
    "        if record['abstracts-retrieval-response']['language']:\n",
    "            language = record['abstracts-retrieval-response']['language']['@xml:lang']\n",
    "        else: language = None\n",
    "        \n",
    "        rows.append({\n",
    "            'Title': title,\n",
    "            'Publish_year': publish_year,\n",
    "            'Eid': eid,\n",
    "            'Aggregation_type': aggregation_type,\n",
    "            'Author_Count': author_count,\n",
    "            'Language' : language\n",
    "        })\n",
    "        if \"subject-areas\" in record['abstracts-retrieval-response']:\n",
    "            areas = record['abstracts-retrieval-response']['subject-areas']['subject-area']\n",
    "            for area in areas:\n",
    "                subj.append({\n",
    "                    'Eid': eid,\n",
    "                    'Subject_Area': area[\"$\"] if \"$\" in area else None,\n",
    "                    'Subject_Code': area[\"@code\"] if \"@code\" in area else None,\n",
    "                })\n",
    "        \n",
    "        if \"author-keywords\" in record['abstracts-retrieval-response']['item']['bibrecord']['head']['citation-info']:\n",
    "            keyword = record['abstracts-retrieval-response']['item']['bibrecord']['head']['citation-info']['author-keywords']['author-keyword']\n",
    "            for key in keyword:\n",
    "                keywords.append({\n",
    "                    'Eid':eid,\n",
    "                    'Keyword': key[\"$\"] if \"$\" in key else None,\n",
    "                    'Language':key[\"@xml:lang\"] if \"@xml:lang\" in key else None,\n",
    "                    'Original':key[\"@original\"] if \"@original\" in key else None\n",
    "                })\n",
    "            \n",
    "        if \"affiliation\" in record['abstracts-retrieval-response']:\n",
    "            affils = record['abstracts-retrieval-response']['affiliation']\n",
    "            for affil in affils:\n",
    "                affiliations.append({\n",
    "                    'Eid': eid,\n",
    "                    'Affil_Id':affil[\"@id\"] if \"@id\" in affil else None,\n",
    "                    'Affil_Name':affil[\"affilname\"] if \"affilname\" in affil else None,\n",
    "                    'Affil_Country':affil[\"affiliation-country\"] if \"affiliation-country\" in affil else None,\n",
    "                    'Affil_City':affil[\"affiliation-city\"] if \"affiliation-city\" in affil else None\n",
    "                })\n",
    "        \n",
    "        if \"@has-funding-info\" in record['abstracts-retrieval-response']['item']['xocs:meta']['xocs:funding-list']:\n",
    "            if \"xocs:funding\" in record['abstracts-retrieval-response']['item']['xocs:meta']['xocs:funding-list']:\n",
    "                fundings = record['abstracts-retrieval-response']['item']['xocs:meta']['xocs:funding-list']['xocs:funding']\n",
    "                for funding in fundings:\n",
    "                    funds.append({\n",
    "                        'Eid' : eid,\n",
    "                        'agency-matched-string' : funding[\"xocs:funding-agency-matched-string\"] if \"xocs:funding-agency-matched-string\" in funding else None,\n",
    "                        'agency-acronym': funding[\"xocs:funding-agency-acronym\"] if \"xocs:funding-agency-acronym\" in funding else None,\n",
    "                        'agency': funding[\"xocs:funding-agency\"] if \"xocs:funding-agency\" in funding else None,\n",
    "                        'agency-id': funding[\"xocs:funding-agency-id\"] if \"xocs:funding-agency-id\" in funding else None,\n",
    "                        'agency-country': funding[\"xocs:funding-agency-country\"] if \"xocs:funding-agency-country\" in funding else None\n",
    "                    })\n",
    "            else:\n",
    "                funds.append({\n",
    "                    'Eid' : eid,\n",
    "                    'agency-matched-string' : None,\n",
    "                    'agency-acronym': None,\n",
    "                    'agency': None,\n",
    "                    'agency-id': None,\n",
    "                    'agency-country': None\n",
    "                })\n",
    "    except:\n",
    "        pass\n",
    "\n",
    "df = pd.DataFrame(rows)\n",
    "\n",
    "subject_df = pd.DataFrame(subj)\n",
    "\n",
    "keyword_df = pd.DataFrame(keywords)\n",
    "\n",
    "affil_df = pd.DataFrame(affiliations)\n",
    "\n",
    "funds_df = pd.DataFrame(funds)"
   ]
  },
  {
   "cell_type": "code",
   "execution_count": 86,
   "metadata": {},
   "outputs": [],
   "source": [
    "df = df.drop_duplicates()\n",
    "subject_df = subject_df.drop_duplicates()\n",
    "keyword_df = keyword_df.drop_duplicates()\n",
    "affil_df = affil_df.drop_duplicates()\n",
    "funds_df = funds_df.drop_duplicates()"
   ]
  },
  {
   "cell_type": "code",
   "execution_count": 87,
   "metadata": {},
   "outputs": [
    {
     "data": {
      "text/html": [
       "<div>\n",
       "<style scoped>\n",
       "    .dataframe tbody tr th:only-of-type {\n",
       "        vertical-align: middle;\n",
       "    }\n",
       "\n",
       "    .dataframe tbody tr th {\n",
       "        vertical-align: top;\n",
       "    }\n",
       "\n",
       "    .dataframe thead th {\n",
       "        text-align: right;\n",
       "    }\n",
       "</style>\n",
       "<table border=\"1\" class=\"dataframe\">\n",
       "  <thead>\n",
       "    <tr style=\"text-align: right;\">\n",
       "      <th></th>\n",
       "      <th>Title</th>\n",
       "      <th>Publish_year</th>\n",
       "      <th>Eid</th>\n",
       "      <th>Aggregation_type</th>\n",
       "      <th>Author_Count</th>\n",
       "      <th>Language</th>\n",
       "    </tr>\n",
       "  </thead>\n",
       "  <tbody>\n",
       "    <tr>\n",
       "      <th>0</th>\n",
       "      <td>Effects of iron content on the microstructure ...</td>\n",
       "      <td>2018</td>\n",
       "      <td>2-s2.0-85053164279</td>\n",
       "      <td>Journal</td>\n",
       "      <td>7</td>\n",
       "      <td>eng</td>\n",
       "    </tr>\n",
       "    <tr>\n",
       "      <th>1</th>\n",
       "      <td>The critical factors of research and innovatio...</td>\n",
       "      <td>2018</td>\n",
       "      <td>2-s2.0-85049101440</td>\n",
       "      <td>Journal</td>\n",
       "      <td>3</td>\n",
       "      <td>eng</td>\n",
       "    </tr>\n",
       "    <tr>\n",
       "      <th>2</th>\n",
       "      <td>Is the occiput-wall distance valid and reliabl...</td>\n",
       "      <td>2018</td>\n",
       "      <td>2-s2.0-85054140369</td>\n",
       "      <td>Journal</td>\n",
       "      <td>8</td>\n",
       "      <td>eng</td>\n",
       "    </tr>\n",
       "    <tr>\n",
       "      <th>3</th>\n",
       "      <td>Comparison of soil composition between farmlan...</td>\n",
       "      <td>2018</td>\n",
       "      <td>2-s2.0-85097515350</td>\n",
       "      <td>Journal</td>\n",
       "      <td>2</td>\n",
       "      <td>eng</td>\n",
       "    </tr>\n",
       "    <tr>\n",
       "      <th>4</th>\n",
       "      <td>The impact of wire caliber on ERCP outcomes: a...</td>\n",
       "      <td>2018</td>\n",
       "      <td>2-s2.0-85041527766</td>\n",
       "      <td>Journal</td>\n",
       "      <td>13</td>\n",
       "      <td>eng</td>\n",
       "    </tr>\n",
       "    <tr>\n",
       "      <th>...</th>\n",
       "      <td>...</td>\n",
       "      <td>...</td>\n",
       "      <td>...</td>\n",
       "      <td>...</td>\n",
       "      <td>...</td>\n",
       "      <td>...</td>\n",
       "    </tr>\n",
       "    <tr>\n",
       "      <th>20211</th>\n",
       "      <td>A Techno-Economic Assessment of a Second-Life ...</td>\n",
       "      <td>2023</td>\n",
       "      <td>2-s2.0-85152540548</td>\n",
       "      <td>Journal</td>\n",
       "      <td>3</td>\n",
       "      <td>eng</td>\n",
       "    </tr>\n",
       "    <tr>\n",
       "      <th>20212</th>\n",
       "      <td>Encouraging green product purchase: Green valu...</td>\n",
       "      <td>2023</td>\n",
       "      <td>2-s2.0-85132634561</td>\n",
       "      <td>Journal</td>\n",
       "      <td>2</td>\n",
       "      <td>eng</td>\n",
       "    </tr>\n",
       "    <tr>\n",
       "      <th>20213</th>\n",
       "      <td>Does leukocytosis remain a predictive factor f...</td>\n",
       "      <td>2023</td>\n",
       "      <td>2-s2.0-85150789915</td>\n",
       "      <td>Journal</td>\n",
       "      <td>16</td>\n",
       "      <td>eng</td>\n",
       "    </tr>\n",
       "    <tr>\n",
       "      <th>20214</th>\n",
       "      <td>Administration of ketoprofen in postpartum sow...</td>\n",
       "      <td>2023</td>\n",
       "      <td>2-s2.0-85165609857</td>\n",
       "      <td>Journal</td>\n",
       "      <td>8</td>\n",
       "      <td>eng</td>\n",
       "    </tr>\n",
       "    <tr>\n",
       "      <th>20215</th>\n",
       "      <td>Role of Anxiety in Willingness to Communicate ...</td>\n",
       "      <td>2023</td>\n",
       "      <td>2-s2.0-85164405594</td>\n",
       "      <td>Journal</td>\n",
       "      <td>3</td>\n",
       "      <td>eng</td>\n",
       "    </tr>\n",
       "  </tbody>\n",
       "</table>\n",
       "<p>20216 rows × 6 columns</p>\n",
       "</div>"
      ],
      "text/plain": [
       "                                                   Title Publish_year  \\\n",
       "0      Effects of iron content on the microstructure ...         2018   \n",
       "1      The critical factors of research and innovatio...         2018   \n",
       "2      Is the occiput-wall distance valid and reliabl...         2018   \n",
       "3      Comparison of soil composition between farmlan...         2018   \n",
       "4      The impact of wire caliber on ERCP outcomes: a...         2018   \n",
       "...                                                  ...          ...   \n",
       "20211  A Techno-Economic Assessment of a Second-Life ...         2023   \n",
       "20212  Encouraging green product purchase: Green valu...         2023   \n",
       "20213  Does leukocytosis remain a predictive factor f...         2023   \n",
       "20214  Administration of ketoprofen in postpartum sow...         2023   \n",
       "20215  Role of Anxiety in Willingness to Communicate ...         2023   \n",
       "\n",
       "                      Eid Aggregation_type  Author_Count Language  \n",
       "0      2-s2.0-85053164279          Journal             7      eng  \n",
       "1      2-s2.0-85049101440          Journal             3      eng  \n",
       "2      2-s2.0-85054140369          Journal             8      eng  \n",
       "3      2-s2.0-85097515350          Journal             2      eng  \n",
       "4      2-s2.0-85041527766          Journal            13      eng  \n",
       "...                   ...              ...           ...      ...  \n",
       "20211  2-s2.0-85152540548          Journal             3      eng  \n",
       "20212  2-s2.0-85132634561          Journal             2      eng  \n",
       "20213  2-s2.0-85150789915          Journal            16      eng  \n",
       "20214  2-s2.0-85165609857          Journal             8      eng  \n",
       "20215  2-s2.0-85164405594          Journal             3      eng  \n",
       "\n",
       "[20216 rows x 6 columns]"
      ]
     },
     "execution_count": 87,
     "metadata": {},
     "output_type": "execute_result"
    }
   ],
   "source": [
    "df"
   ]
  },
  {
   "cell_type": "code",
   "execution_count": 88,
   "metadata": {},
   "outputs": [
    {
     "data": {
      "text/plain": [
       "Title                 0\n",
       "Publish_year          0\n",
       "Eid                   0\n",
       "Aggregation_type      0\n",
       "Author_Count          0\n",
       "Language            120\n",
       "dtype: int64"
      ]
     },
     "execution_count": 88,
     "metadata": {},
     "output_type": "execute_result"
    }
   ],
   "source": [
    "df.isnull().sum()"
   ]
  },
  {
   "cell_type": "code",
   "execution_count": 89,
   "metadata": {},
   "outputs": [
    {
     "data": {
      "text/html": [
       "<div>\n",
       "<style scoped>\n",
       "    .dataframe tbody tr th:only-of-type {\n",
       "        vertical-align: middle;\n",
       "    }\n",
       "\n",
       "    .dataframe tbody tr th {\n",
       "        vertical-align: top;\n",
       "    }\n",
       "\n",
       "    .dataframe thead th {\n",
       "        text-align: right;\n",
       "    }\n",
       "</style>\n",
       "<table border=\"1\" class=\"dataframe\">\n",
       "  <thead>\n",
       "    <tr style=\"text-align: right;\">\n",
       "      <th></th>\n",
       "    </tr>\n",
       "  </thead>\n",
       "  <tbody>\n",
       "  </tbody>\n",
       "</table>\n",
       "</div>"
      ],
      "text/plain": [
       "Empty DataFrame\n",
       "Columns: []\n",
       "Index: []"
      ]
     },
     "execution_count": 89,
     "metadata": {},
     "output_type": "execute_result"
    }
   ],
   "source": [
    "subject_df"
   ]
  },
  {
   "cell_type": "code",
   "execution_count": 90,
   "metadata": {},
   "outputs": [
    {
     "data": {
      "text/plain": [
       "Series([], dtype: float64)"
      ]
     },
     "execution_count": 90,
     "metadata": {},
     "output_type": "execute_result"
    }
   ],
   "source": [
    "subject_df.isnull().sum()"
   ]
  },
  {
   "cell_type": "code",
   "execution_count": 91,
   "metadata": {},
   "outputs": [
    {
     "data": {
      "text/html": [
       "<div>\n",
       "<style scoped>\n",
       "    .dataframe tbody tr th:only-of-type {\n",
       "        vertical-align: middle;\n",
       "    }\n",
       "\n",
       "    .dataframe tbody tr th {\n",
       "        vertical-align: top;\n",
       "    }\n",
       "\n",
       "    .dataframe thead th {\n",
       "        text-align: right;\n",
       "    }\n",
       "</style>\n",
       "<table border=\"1\" class=\"dataframe\">\n",
       "  <thead>\n",
       "    <tr style=\"text-align: right;\">\n",
       "      <th></th>\n",
       "    </tr>\n",
       "  </thead>\n",
       "  <tbody>\n",
       "  </tbody>\n",
       "</table>\n",
       "</div>"
      ],
      "text/plain": [
       "Empty DataFrame\n",
       "Columns: []\n",
       "Index: []"
      ]
     },
     "execution_count": 91,
     "metadata": {},
     "output_type": "execute_result"
    }
   ],
   "source": [
    "keyword_df"
   ]
  },
  {
   "cell_type": "code",
   "execution_count": 92,
   "metadata": {},
   "outputs": [
    {
     "data": {
      "text/plain": [
       "Series([], dtype: float64)"
      ]
     },
     "execution_count": 92,
     "metadata": {},
     "output_type": "execute_result"
    }
   ],
   "source": [
    "keyword_df.isnull().sum()"
   ]
  },
  {
   "cell_type": "code",
   "execution_count": 93,
   "metadata": {},
   "outputs": [
    {
     "data": {
      "text/html": [
       "<div>\n",
       "<style scoped>\n",
       "    .dataframe tbody tr th:only-of-type {\n",
       "        vertical-align: middle;\n",
       "    }\n",
       "\n",
       "    .dataframe tbody tr th {\n",
       "        vertical-align: top;\n",
       "    }\n",
       "\n",
       "    .dataframe thead th {\n",
       "        text-align: right;\n",
       "    }\n",
       "</style>\n",
       "<table border=\"1\" class=\"dataframe\">\n",
       "  <thead>\n",
       "    <tr style=\"text-align: right;\">\n",
       "      <th></th>\n",
       "    </tr>\n",
       "  </thead>\n",
       "  <tbody>\n",
       "  </tbody>\n",
       "</table>\n",
       "</div>"
      ],
      "text/plain": [
       "Empty DataFrame\n",
       "Columns: []\n",
       "Index: []"
      ]
     },
     "execution_count": 93,
     "metadata": {},
     "output_type": "execute_result"
    }
   ],
   "source": [
    "affil_df"
   ]
  },
  {
   "cell_type": "code",
   "execution_count": 94,
   "metadata": {},
   "outputs": [
    {
     "data": {
      "text/plain": [
       "Series([], dtype: float64)"
      ]
     },
     "execution_count": 94,
     "metadata": {},
     "output_type": "execute_result"
    }
   ],
   "source": [
    "affil_df.isnull().sum()"
   ]
  },
  {
   "cell_type": "code",
   "execution_count": 95,
   "metadata": {},
   "outputs": [
    {
     "data": {
      "text/html": [
       "<div>\n",
       "<style scoped>\n",
       "    .dataframe tbody tr th:only-of-type {\n",
       "        vertical-align: middle;\n",
       "    }\n",
       "\n",
       "    .dataframe tbody tr th {\n",
       "        vertical-align: top;\n",
       "    }\n",
       "\n",
       "    .dataframe thead th {\n",
       "        text-align: right;\n",
       "    }\n",
       "</style>\n",
       "<table border=\"1\" class=\"dataframe\">\n",
       "  <thead>\n",
       "    <tr style=\"text-align: right;\">\n",
       "      <th></th>\n",
       "    </tr>\n",
       "  </thead>\n",
       "  <tbody>\n",
       "  </tbody>\n",
       "</table>\n",
       "</div>"
      ],
      "text/plain": [
       "Empty DataFrame\n",
       "Columns: []\n",
       "Index: []"
      ]
     },
     "execution_count": 95,
     "metadata": {},
     "output_type": "execute_result"
    }
   ],
   "source": [
    "funds_df"
   ]
  },
  {
   "cell_type": "code",
   "execution_count": 96,
   "metadata": {},
   "outputs": [
    {
     "data": {
      "text/plain": [
       "Series([], dtype: float64)"
      ]
     },
     "execution_count": 96,
     "metadata": {},
     "output_type": "execute_result"
    }
   ],
   "source": [
    "funds_df.isnull().sum()"
   ]
  },
  {
   "cell_type": "code",
   "execution_count": 97,
   "metadata": {},
   "outputs": [
    {
     "ename": "KeyError",
     "evalue": "'agency-matched-string'",
     "output_type": "error",
     "traceback": [
      "\u001b[0;31m---------------------------------------------------------------------------\u001b[0m",
      "\u001b[0;31mKeyError\u001b[0m                                  Traceback (most recent call last)",
      "Cell \u001b[0;32mIn[97], line 1\u001b[0m\n\u001b[0;32m----> 1\u001b[0m \u001b[43mfunds_df\u001b[49m\u001b[43m[\u001b[49m\u001b[38;5;124;43m'\u001b[39;49m\u001b[38;5;124;43magency-matched-string\u001b[39;49m\u001b[38;5;124;43m'\u001b[39;49m\u001b[43m]\u001b[49m\u001b[38;5;241m.\u001b[39mvalue_counts()\n",
      "File \u001b[0;32m/Library/Frameworks/Python.framework/Versions/3.12/lib/python3.12/site-packages/pandas/core/frame.py:4102\u001b[0m, in \u001b[0;36mDataFrame.__getitem__\u001b[0;34m(self, key)\u001b[0m\n\u001b[1;32m   4100\u001b[0m \u001b[38;5;28;01mif\u001b[39;00m \u001b[38;5;28mself\u001b[39m\u001b[38;5;241m.\u001b[39mcolumns\u001b[38;5;241m.\u001b[39mnlevels \u001b[38;5;241m>\u001b[39m \u001b[38;5;241m1\u001b[39m:\n\u001b[1;32m   4101\u001b[0m     \u001b[38;5;28;01mreturn\u001b[39;00m \u001b[38;5;28mself\u001b[39m\u001b[38;5;241m.\u001b[39m_getitem_multilevel(key)\n\u001b[0;32m-> 4102\u001b[0m indexer \u001b[38;5;241m=\u001b[39m \u001b[38;5;28;43mself\u001b[39;49m\u001b[38;5;241;43m.\u001b[39;49m\u001b[43mcolumns\u001b[49m\u001b[38;5;241;43m.\u001b[39;49m\u001b[43mget_loc\u001b[49m\u001b[43m(\u001b[49m\u001b[43mkey\u001b[49m\u001b[43m)\u001b[49m\n\u001b[1;32m   4103\u001b[0m \u001b[38;5;28;01mif\u001b[39;00m is_integer(indexer):\n\u001b[1;32m   4104\u001b[0m     indexer \u001b[38;5;241m=\u001b[39m [indexer]\n",
      "File \u001b[0;32m/Library/Frameworks/Python.framework/Versions/3.12/lib/python3.12/site-packages/pandas/core/indexes/range.py:417\u001b[0m, in \u001b[0;36mRangeIndex.get_loc\u001b[0;34m(self, key)\u001b[0m\n\u001b[1;32m    415\u001b[0m         \u001b[38;5;28;01mraise\u001b[39;00m \u001b[38;5;167;01mKeyError\u001b[39;00m(key) \u001b[38;5;28;01mfrom\u001b[39;00m \u001b[38;5;21;01merr\u001b[39;00m\n\u001b[1;32m    416\u001b[0m \u001b[38;5;28;01mif\u001b[39;00m \u001b[38;5;28misinstance\u001b[39m(key, Hashable):\n\u001b[0;32m--> 417\u001b[0m     \u001b[38;5;28;01mraise\u001b[39;00m \u001b[38;5;167;01mKeyError\u001b[39;00m(key)\n\u001b[1;32m    418\u001b[0m \u001b[38;5;28mself\u001b[39m\u001b[38;5;241m.\u001b[39m_check_indexing_error(key)\n\u001b[1;32m    419\u001b[0m \u001b[38;5;28;01mraise\u001b[39;00m \u001b[38;5;167;01mKeyError\u001b[39;00m(key)\n",
      "\u001b[0;31mKeyError\u001b[0m: 'agency-matched-string'"
     ]
    }
   ],
   "source": [
    "funds_df['agency-matched-string'].value_counts()"
   ]
  },
  {
   "cell_type": "code",
   "execution_count": null,
   "metadata": {},
   "outputs": [
    {
     "data": {
      "text/plain": [
       "agency-acronym\n",
       "CU        2461\n",
       "NRCT       832\n",
       "TRF        683\n",
       "สวทช       433\n",
       "TSRI       368\n",
       "          ... \n",
       "ESTRO        1\n",
       "OUI          1\n",
       "NAWA         1\n",
       "HRBUST       1\n",
       "SNRU         1\n",
       "Name: count, Length: 1234, dtype: int64"
      ]
     },
     "execution_count": 29,
     "metadata": {},
     "output_type": "execute_result"
    }
   ],
   "source": [
    "funds_df['agency-acronym'].value_counts()"
   ]
  },
  {
   "cell_type": "code",
   "execution_count": null,
   "metadata": {},
   "outputs": [
    {
     "data": {
      "text/html": [
       "<div>\n",
       "<style scoped>\n",
       "    .dataframe tbody tr th:only-of-type {\n",
       "        vertical-align: middle;\n",
       "    }\n",
       "\n",
       "    .dataframe tbody tr th {\n",
       "        vertical-align: top;\n",
       "    }\n",
       "\n",
       "    .dataframe thead th {\n",
       "        text-align: right;\n",
       "    }\n",
       "</style>\n",
       "<table border=\"1\" class=\"dataframe\">\n",
       "  <thead>\n",
       "    <tr style=\"text-align: right;\">\n",
       "      <th></th>\n",
       "      <th>Eid</th>\n",
       "      <th>agency-matched-string</th>\n",
       "      <th>agency-acronym</th>\n",
       "      <th>agency</th>\n",
       "      <th>agency-id</th>\n",
       "      <th>agency-country</th>\n",
       "    </tr>\n",
       "  </thead>\n",
       "  <tbody>\n",
       "    <tr>\n",
       "      <th>377</th>\n",
       "      <td>2-s2.0-85064067855</td>\n",
       "      <td>None</td>\n",
       "      <td>None</td>\n",
       "      <td>None</td>\n",
       "      <td>None</td>\n",
       "      <td>None</td>\n",
       "    </tr>\n",
       "    <tr>\n",
       "      <th>391</th>\n",
       "      <td>2-s2.0-85090523272</td>\n",
       "      <td>None</td>\n",
       "      <td>None</td>\n",
       "      <td>None</td>\n",
       "      <td>None</td>\n",
       "      <td>None</td>\n",
       "    </tr>\n",
       "    <tr>\n",
       "      <th>395</th>\n",
       "      <td>2-s2.0-85086174365</td>\n",
       "      <td>None</td>\n",
       "      <td>None</td>\n",
       "      <td>None</td>\n",
       "      <td>None</td>\n",
       "      <td>None</td>\n",
       "    </tr>\n",
       "    <tr>\n",
       "      <th>500</th>\n",
       "      <td>2-s2.0-85089601418</td>\n",
       "      <td>None</td>\n",
       "      <td>None</td>\n",
       "      <td>None</td>\n",
       "      <td>None</td>\n",
       "      <td>None</td>\n",
       "    </tr>\n",
       "    <tr>\n",
       "      <th>1128</th>\n",
       "      <td>2-s2.0-85079787046</td>\n",
       "      <td>None</td>\n",
       "      <td>None</td>\n",
       "      <td>None</td>\n",
       "      <td>None</td>\n",
       "      <td>None</td>\n",
       "    </tr>\n",
       "    <tr>\n",
       "      <th>...</th>\n",
       "      <td>...</td>\n",
       "      <td>...</td>\n",
       "      <td>...</td>\n",
       "      <td>...</td>\n",
       "      <td>...</td>\n",
       "      <td>...</td>\n",
       "    </tr>\n",
       "    <tr>\n",
       "      <th>30329</th>\n",
       "      <td>2-s2.0-85167822123</td>\n",
       "      <td>None</td>\n",
       "      <td>None</td>\n",
       "      <td>None</td>\n",
       "      <td>None</td>\n",
       "      <td>None</td>\n",
       "    </tr>\n",
       "    <tr>\n",
       "      <th>30339</th>\n",
       "      <td>2-s2.0-85133588862</td>\n",
       "      <td>None</td>\n",
       "      <td>None</td>\n",
       "      <td>None</td>\n",
       "      <td>None</td>\n",
       "      <td>None</td>\n",
       "    </tr>\n",
       "    <tr>\n",
       "      <th>30394</th>\n",
       "      <td>2-s2.0-85162092675</td>\n",
       "      <td>None</td>\n",
       "      <td>None</td>\n",
       "      <td>None</td>\n",
       "      <td>None</td>\n",
       "      <td>None</td>\n",
       "    </tr>\n",
       "    <tr>\n",
       "      <th>30426</th>\n",
       "      <td>2-s2.0-85151554103</td>\n",
       "      <td>None</td>\n",
       "      <td>None</td>\n",
       "      <td>None</td>\n",
       "      <td>None</td>\n",
       "      <td>None</td>\n",
       "    </tr>\n",
       "    <tr>\n",
       "      <th>30487</th>\n",
       "      <td>2-s2.0-85152174030</td>\n",
       "      <td>None</td>\n",
       "      <td>None</td>\n",
       "      <td>None</td>\n",
       "      <td>None</td>\n",
       "      <td>None</td>\n",
       "    </tr>\n",
       "  </tbody>\n",
       "</table>\n",
       "<p>663 rows × 6 columns</p>\n",
       "</div>"
      ],
      "text/plain": [
       "                      Eid agency-matched-string agency-acronym agency  \\\n",
       "377    2-s2.0-85064067855                  None           None   None   \n",
       "391    2-s2.0-85090523272                  None           None   None   \n",
       "395    2-s2.0-85086174365                  None           None   None   \n",
       "500    2-s2.0-85089601418                  None           None   None   \n",
       "1128   2-s2.0-85079787046                  None           None   None   \n",
       "...                   ...                   ...            ...    ...   \n",
       "30329  2-s2.0-85167822123                  None           None   None   \n",
       "30339  2-s2.0-85133588862                  None           None   None   \n",
       "30394  2-s2.0-85162092675                  None           None   None   \n",
       "30426  2-s2.0-85151554103                  None           None   None   \n",
       "30487  2-s2.0-85152174030                  None           None   None   \n",
       "\n",
       "      agency-id agency-country  \n",
       "377        None           None  \n",
       "391        None           None  \n",
       "395        None           None  \n",
       "500        None           None  \n",
       "1128       None           None  \n",
       "...         ...            ...  \n",
       "30329      None           None  \n",
       "30339      None           None  \n",
       "30394      None           None  \n",
       "30426      None           None  \n",
       "30487      None           None  \n",
       "\n",
       "[663 rows x 6 columns]"
      ]
     },
     "execution_count": 30,
     "metadata": {},
     "output_type": "execute_result"
    }
   ],
   "source": [
    "# Find rows where all fields except 'Eid' are None\n",
    "filtered_df = funds_df[funds_df.drop(columns=['Eid']).isna().all(axis=1)]\n",
    "\n",
    "filtered_df\n"
   ]
  },
  {
   "cell_type": "code",
   "execution_count": null,
   "metadata": {},
   "outputs": [
    {
     "data": {
      "text/plain": [
       "Subject_Area\n",
       "Multidisciplinary             1088\n",
       "Materials Science (all)        907\n",
       "Chemistry (all)                905\n",
       "Chemical Engineering (all)     755\n",
       "Infectious Diseases            753\n",
       "                              ... \n",
       "Museology                        1\n",
       "Emergency Nursing                1\n",
       "Chiropractics                    1\n",
       "Optometry                        1\n",
       "Family Practice                  1\n",
       "Name: count, Length: 321, dtype: int64"
      ]
     },
     "execution_count": 31,
     "metadata": {},
     "output_type": "execute_result"
    }
   ],
   "source": [
    "subject_df['Subject_Area'].value_counts()"
   ]
  },
  {
   "cell_type": "code",
   "execution_count": null,
   "metadata": {},
   "outputs": [
    {
     "data": {
      "text/plain": [
       "Subject_Code\n",
       "1000    1088\n",
       "2500     907\n",
       "1600     905\n",
       "1500     755\n",
       "2725     753\n",
       "        ... \n",
       "1209       1\n",
       "2907       1\n",
       "3602       1\n",
       "3610       1\n",
       "2714       1\n",
       "Name: count, Length: 321, dtype: int64"
      ]
     },
     "execution_count": 32,
     "metadata": {},
     "output_type": "execute_result"
    }
   ],
   "source": [
    "subject_df['Subject_Code'].value_counts()"
   ]
  },
  {
   "cell_type": "code",
   "execution_count": null,
   "metadata": {},
   "outputs": [],
   "source": []
  },
  {
   "cell_type": "code",
   "execution_count": null,
   "metadata": {},
   "outputs": [
    {
     "data": {
      "text/html": [
       "<div>\n",
       "<style scoped>\n",
       "    .dataframe tbody tr th:only-of-type {\n",
       "        vertical-align: middle;\n",
       "    }\n",
       "\n",
       "    .dataframe tbody tr th {\n",
       "        vertical-align: top;\n",
       "    }\n",
       "\n",
       "    .dataframe thead th {\n",
       "        text-align: right;\n",
       "    }\n",
       "</style>\n",
       "<table border=\"1\" class=\"dataframe\">\n",
       "  <thead>\n",
       "    <tr style=\"text-align: right;\">\n",
       "      <th></th>\n",
       "      <th>Title</th>\n",
       "      <th>Publish_year</th>\n",
       "      <th>Eid</th>\n",
       "      <th>Aggregation_type</th>\n",
       "      <th>Author_Count</th>\n",
       "      <th>Language</th>\n",
       "      <th>Subject_Area</th>\n",
       "      <th>Subject_Code</th>\n",
       "    </tr>\n",
       "  </thead>\n",
       "  <tbody>\n",
       "    <tr>\n",
       "      <th>0</th>\n",
       "      <td>Effects of iron content on the microstructure ...</td>\n",
       "      <td>2018</td>\n",
       "      <td>2-s2.0-85053164279</td>\n",
       "      <td>Journal</td>\n",
       "      <td>7</td>\n",
       "      <td>eng</td>\n",
       "      <td>Materials Science (all)</td>\n",
       "      <td>2500</td>\n",
       "    </tr>\n",
       "    <tr>\n",
       "      <th>1</th>\n",
       "      <td>Effects of iron content on the microstructure ...</td>\n",
       "      <td>2018</td>\n",
       "      <td>2-s2.0-85053164279</td>\n",
       "      <td>Journal</td>\n",
       "      <td>7</td>\n",
       "      <td>eng</td>\n",
       "      <td>Condensed Matter Physics</td>\n",
       "      <td>3104</td>\n",
       "    </tr>\n",
       "    <tr>\n",
       "      <th>2</th>\n",
       "      <td>The critical factors of research and innovatio...</td>\n",
       "      <td>2018</td>\n",
       "      <td>2-s2.0-85049101440</td>\n",
       "      <td>Journal</td>\n",
       "      <td>3</td>\n",
       "      <td>eng</td>\n",
       "      <td>Business and International Management</td>\n",
       "      <td>1403</td>\n",
       "    </tr>\n",
       "    <tr>\n",
       "      <th>3</th>\n",
       "      <td>The critical factors of research and innovatio...</td>\n",
       "      <td>2018</td>\n",
       "      <td>2-s2.0-85049101440</td>\n",
       "      <td>Journal</td>\n",
       "      <td>3</td>\n",
       "      <td>eng</td>\n",
       "      <td>Economics, Econometrics and Finance (all)</td>\n",
       "      <td>2000</td>\n",
       "    </tr>\n",
       "    <tr>\n",
       "      <th>4</th>\n",
       "      <td>Is the occiput-wall distance valid and reliabl...</td>\n",
       "      <td>2018</td>\n",
       "      <td>2-s2.0-85054140369</td>\n",
       "      <td>Journal</td>\n",
       "      <td>8</td>\n",
       "      <td>eng</td>\n",
       "      <td>Physical Therapy, Sports Therapy and Rehabilit...</td>\n",
       "      <td>3612</td>\n",
       "    </tr>\n",
       "    <tr>\n",
       "      <th>...</th>\n",
       "      <td>...</td>\n",
       "      <td>...</td>\n",
       "      <td>...</td>\n",
       "      <td>...</td>\n",
       "      <td>...</td>\n",
       "      <td>...</td>\n",
       "      <td>...</td>\n",
       "      <td>...</td>\n",
       "    </tr>\n",
       "    <tr>\n",
       "      <th>50059</th>\n",
       "      <td>Administration of ketoprofen in postpartum sow...</td>\n",
       "      <td>2023</td>\n",
       "      <td>2-s2.0-85165609857</td>\n",
       "      <td>Journal</td>\n",
       "      <td>8</td>\n",
       "      <td>eng</td>\n",
       "      <td>Genetics</td>\n",
       "      <td>1311</td>\n",
       "    </tr>\n",
       "    <tr>\n",
       "      <th>50060</th>\n",
       "      <td>Administration of ketoprofen in postpartum sow...</td>\n",
       "      <td>2023</td>\n",
       "      <td>2-s2.0-85165609857</td>\n",
       "      <td>Journal</td>\n",
       "      <td>8</td>\n",
       "      <td>eng</td>\n",
       "      <td>Veterinary (all)</td>\n",
       "      <td>3400</td>\n",
       "    </tr>\n",
       "    <tr>\n",
       "      <th>50061</th>\n",
       "      <td>Role of Anxiety in Willingness to Communicate ...</td>\n",
       "      <td>2023</td>\n",
       "      <td>2-s2.0-85164405594</td>\n",
       "      <td>Journal</td>\n",
       "      <td>3</td>\n",
       "      <td>eng</td>\n",
       "      <td>Language and Linguistics</td>\n",
       "      <td>1203</td>\n",
       "    </tr>\n",
       "    <tr>\n",
       "      <th>50062</th>\n",
       "      <td>Role of Anxiety in Willingness to Communicate ...</td>\n",
       "      <td>2023</td>\n",
       "      <td>2-s2.0-85164405594</td>\n",
       "      <td>Journal</td>\n",
       "      <td>3</td>\n",
       "      <td>eng</td>\n",
       "      <td>Linguistics and Language</td>\n",
       "      <td>3310</td>\n",
       "    </tr>\n",
       "    <tr>\n",
       "      <th>50063</th>\n",
       "      <td>Role of Anxiety in Willingness to Communicate ...</td>\n",
       "      <td>2023</td>\n",
       "      <td>2-s2.0-85164405594</td>\n",
       "      <td>Journal</td>\n",
       "      <td>3</td>\n",
       "      <td>eng</td>\n",
       "      <td>Literature and Literary Theory</td>\n",
       "      <td>1208</td>\n",
       "    </tr>\n",
       "  </tbody>\n",
       "</table>\n",
       "<p>50064 rows × 8 columns</p>\n",
       "</div>"
      ],
      "text/plain": [
       "                                                   Title Publish_year  \\\n",
       "0      Effects of iron content on the microstructure ...         2018   \n",
       "1      Effects of iron content on the microstructure ...         2018   \n",
       "2      The critical factors of research and innovatio...         2018   \n",
       "3      The critical factors of research and innovatio...         2018   \n",
       "4      Is the occiput-wall distance valid and reliabl...         2018   \n",
       "...                                                  ...          ...   \n",
       "50059  Administration of ketoprofen in postpartum sow...         2023   \n",
       "50060  Administration of ketoprofen in postpartum sow...         2023   \n",
       "50061  Role of Anxiety in Willingness to Communicate ...         2023   \n",
       "50062  Role of Anxiety in Willingness to Communicate ...         2023   \n",
       "50063  Role of Anxiety in Willingness to Communicate ...         2023   \n",
       "\n",
       "                      Eid Aggregation_type  Author_Count Language  \\\n",
       "0      2-s2.0-85053164279          Journal             7      eng   \n",
       "1      2-s2.0-85053164279          Journal             7      eng   \n",
       "2      2-s2.0-85049101440          Journal             3      eng   \n",
       "3      2-s2.0-85049101440          Journal             3      eng   \n",
       "4      2-s2.0-85054140369          Journal             8      eng   \n",
       "...                   ...              ...           ...      ...   \n",
       "50059  2-s2.0-85165609857          Journal             8      eng   \n",
       "50060  2-s2.0-85165609857          Journal             8      eng   \n",
       "50061  2-s2.0-85164405594          Journal             3      eng   \n",
       "50062  2-s2.0-85164405594          Journal             3      eng   \n",
       "50063  2-s2.0-85164405594          Journal             3      eng   \n",
       "\n",
       "                                            Subject_Area Subject_Code  \n",
       "0                                Materials Science (all)         2500  \n",
       "1                               Condensed Matter Physics         3104  \n",
       "2                  Business and International Management         1403  \n",
       "3              Economics, Econometrics and Finance (all)         2000  \n",
       "4      Physical Therapy, Sports Therapy and Rehabilit...         3612  \n",
       "...                                                  ...          ...  \n",
       "50059                                           Genetics         1311  \n",
       "50060                                   Veterinary (all)         3400  \n",
       "50061                           Language and Linguistics         1203  \n",
       "50062                           Linguistics and Language         3310  \n",
       "50063                     Literature and Literary Theory         1208  \n",
       "\n",
       "[50064 rows x 8 columns]"
      ]
     },
     "execution_count": 33,
     "metadata": {},
     "output_type": "execute_result"
    }
   ],
   "source": [
    "merge_table = df.merge(subject_df,on='Eid',how='left')\n",
    "merge_table"
   ]
  },
  {
   "cell_type": "code",
   "execution_count": null,
   "metadata": {},
   "outputs": [
    {
     "data": {
      "text/plain": [
       "Title                 0\n",
       "Publish_year          0\n",
       "Eid                   0\n",
       "Aggregation_type      0\n",
       "Author_Count          0\n",
       "Language            120\n",
       "dtype: int64"
      ]
     },
     "execution_count": 34,
     "metadata": {},
     "output_type": "execute_result"
    }
   ],
   "source": [
    "df.isnull().sum()"
   ]
  },
  {
   "cell_type": "code",
   "execution_count": null,
   "metadata": {},
   "outputs": [],
   "source": [
    "filepath = Path('DATA/main.csv')  \n",
    "filepath.parent.mkdir(parents=True, exist_ok=True)  \n",
    "df.to_csv(filepath, index=False) "
   ]
  },
  {
   "cell_type": "code",
   "execution_count": null,
   "metadata": {},
   "outputs": [],
   "source": [
    "filepath = Path('DATA/subject.csv')  \n",
    "filepath.parent.mkdir(parents=True, exist_ok=True)  \n",
    "subject_df.to_csv(filepath, index=False) "
   ]
  },
  {
   "cell_type": "code",
   "execution_count": null,
   "metadata": {},
   "outputs": [],
   "source": [
    "filepath = Path('DATA/keyword.csv')  \n",
    "filepath.parent.mkdir(parents=True, exist_ok=True)  \n",
    "keyword_df.to_csv(filepath, index=False) "
   ]
  },
  {
   "cell_type": "code",
   "execution_count": null,
   "metadata": {},
   "outputs": [],
   "source": [
    "filepath = Path('DATA/funding.csv')  \n",
    "filepath.parent.mkdir(parents=True, exist_ok=True)  \n",
    "funds_df.to_csv(filepath, index=False) "
   ]
  },
  {
   "cell_type": "code",
   "execution_count": null,
   "metadata": {},
   "outputs": [],
   "source": []
  }
 ],
 "metadata": {
  "kernelspec": {
   "display_name": "Python 3",
   "language": "python",
   "name": "python3"
  },
  "language_info": {
   "codemirror_mode": {
    "name": "ipython",
    "version": 3
   },
   "file_extension": ".py",
   "mimetype": "text/x-python",
   "name": "python",
   "nbconvert_exporter": "python",
   "pygments_lexer": "ipython3",
   "version": "3.12.4"
  },
  "orig_nbformat": 4
 },
 "nbformat": 4,
 "nbformat_minor": 2
}
