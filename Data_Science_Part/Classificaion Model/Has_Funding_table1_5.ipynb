{
 "cells": [
  {
   "cell_type": "code",
   "execution_count": 21,
   "metadata": {},
   "outputs": [
    {
     "data": {
      "text/plain": [
       "0        2-s2.0-85053164279\n",
       "1        2-s2.0-85053164279\n",
       "2        2-s2.0-85054140369\n",
       "3        2-s2.0-85041527766\n",
       "4        2-s2.0-85053470598\n",
       "                ...        \n",
       "27122    2-s2.0-85015335911\n",
       "27123    2-s2.0-85014089683\n",
       "27124    2-s2.0-85013374519\n",
       "27125    2-s2.0-84995751226\n",
       "27126    2-s2.0-84995567069\n",
       "Name: Eid, Length: 27127, dtype: object"
      ]
     },
     "execution_count": 21,
     "metadata": {},
     "output_type": "execute_result"
    }
   ],
   "source": [
    "import pandas as pd\n",
    "test = pd.read_csv('./TABLE1_5.csv')\n",
    "test['Eid']"
   ]
  },
  {
   "cell_type": "code",
   "execution_count": null,
   "metadata": {},
   "outputs": [
    {
     "name": "stdout",
     "output_type": "stream",
     "text": [
      "Binary Classification (Has_Funding) Report:\n",
      "              precision    recall  f1-score   support\n",
      "\n",
      "           0       0.68      0.67      0.67      2728\n",
      "           1       0.67      0.68      0.67      2698\n",
      "\n",
      "    accuracy                           0.67      5426\n",
      "   macro avg       0.67      0.67      0.67      5426\n",
      "weighted avg       0.67      0.67      0.67      5426\n",
      "\n"
     ]
    }
   ],
   "source": [
    "import pandas as pd\n",
    "import numpy as np\n",
    "from sklearn.model_selection import train_test_split\n",
    "from sklearn.preprocessing import LabelBinarizer, MultiLabelBinarizer, OneHotEncoder, StandardScaler\n",
    "from sklearn.feature_extraction.text import TfidfVectorizer\n",
    "from sklearn.compose import ColumnTransformer\n",
    "from sklearn.pipeline import Pipeline\n",
    "from sklearn.linear_model import LogisticRegression\n",
    "from sklearn.metrics import classification_report\n",
    "from sklearn.multiclass import OneVsRestClassifier\n",
    "\n",
    "# -----------------------------------------------------------------------\n",
    "# 1. Load Data\n",
    "# -----------------------------------------------------------------------\n",
    "data = pd.read_csv('./TABLE1_5.csv')\n",
    "# ข้อมูลต้องมีคอลัมน์: Eid, Title, Subject_Field, Index_Terms, Has_Funding, Funding_Agency\n",
    "\n",
    "# แทน NaN ใน Index_Terms ด้วย \"\"\n",
    "data['Index_Terms'] = data['Index_Terms'].fillna(\"\").astype(str)\n",
    "\n",
    "# สร้างฟีเจอร์ข้อความรวม Title + Index_Terms\n",
    "data['text_all'] = data['Title'].fillna(\"\") + \" \" + data['Index_Terms'].fillna(\"\")\n",
    "\n",
    "# -----------------------------------------------------------------------\n",
    "# 2. แบ่งชุดข้อมูลสำหรับ Has_Funding (Binary Classification)\n",
    "# -----------------------------------------------------------------------\n",
    "X = data[['text_all', 'Subject_Field']]\n",
    "y = data['Has_Funding'].astype(int)  # 0 หรือ 1\n",
    "\n",
    "X_train_bin, X_test_bin, y_train_bin, y_test_bin = train_test_split(X, y, test_size=0.2, random_state=42)\n",
    "\n",
    "# Preprocessing สำหรับ Binary Classification\n",
    "text_feature = 'text_all'\n",
    "cat_features = ['Subject_Field']\n",
    "\n",
    "text_transformer = TfidfVectorizer(stop_words='english', max_features=1000)\n",
    "cat_transformer = OneHotEncoder(handle_unknown='ignore')\n",
    "\n",
    "preprocessor_bin = ColumnTransformer(\n",
    "    transformers=[\n",
    "        ('text', text_transformer, text_feature),\n",
    "        ('cat', cat_transformer, cat_features)\n",
    "    ],\n",
    "    remainder='drop'\n",
    ")\n",
    "\n",
    "model_bin = Pipeline(steps=[\n",
    "    ('preprocess', preprocessor_bin),\n",
    "    ('clf', LogisticRegression(max_iter=1000, random_state=42))\n",
    "])\n",
    "\n",
    "# Train Binary Model\n",
    "model_bin.fit(X_train_bin, y_train_bin)\n",
    "\n",
    "# Evaluate Binary Model\n",
    "y_pred_bin = model_bin.predict(X_test_bin)\n",
    "print(\"Binary Classification (Has_Funding) Report:\")\n",
    "print(classification_report(y_test_bin, y_pred_bin))\n",
    "\n",
    "\n"
   ]
  }
 ],
 "metadata": {
  "kernelspec": {
   "display_name": "base",
   "language": "python",
   "name": "python3"
  },
  "language_info": {
   "codemirror_mode": {
    "name": "ipython",
    "version": 3
   },
   "file_extension": ".py",
   "mimetype": "text/x-python",
   "name": "python",
   "nbconvert_exporter": "python",
   "pygments_lexer": "ipython3",
   "version": "3.12.4"
  }
 },
 "nbformat": 4,
 "nbformat_minor": 2
}
