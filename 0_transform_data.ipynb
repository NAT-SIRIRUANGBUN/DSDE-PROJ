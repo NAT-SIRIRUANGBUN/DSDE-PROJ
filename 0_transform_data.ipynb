{
 "cells": [
  {
   "cell_type": "code",
   "execution_count": 11,
   "metadata": {},
   "outputs": [],
   "source": [
    "import numpy as np\n",
    "import pandas as pd\n",
    "import json\n",
    "import os\n",
    "import random"
   ]
  },
  {
   "cell_type": "code",
   "execution_count": 12,
   "metadata": {},
   "outputs": [],
   "source": [
    "random.seed(0)"
   ]
  },
  {
   "cell_type": "code",
   "execution_count": 13,
   "metadata": {},
   "outputs": [],
   "source": [
    "data = []\n",
    "random_data = []"
   ]
  },
  {
   "cell_type": "code",
   "execution_count": 14,
   "metadata": {},
   "outputs": [],
   "source": [
    "year = [2018, 2019, 2020, 2021, 2022, 2023]\n",
    "for i in year:\n",
    "    path = ('./DATA/JSON/' + str(i))\n",
    "    file_in_that_year = (os.listdir(path=path))\n",
    "    for j in file_in_that_year:\n",
    "        with open(path + '/' + j) as fd:\n",
    "            try :\n",
    "                js = json.load(fd)\n",
    "                data.append(js)\n",
    "\n",
    "                # search= \"2-s2.0-85077066090\"\n",
    "                # if (js['abstracts-retrieval-response']['coredata']['eid'] == search_name):\n",
    "                #     print(j)\n",
    "\n",
    "                if (random.uniform(0, 10) <= 0.1):\n",
    "                    random_data.append(js)\n",
    "            except:\n",
    "                pass\n",
    "            \n"
   ]
  },
  {
   "cell_type": "code",
   "execution_count": null,
   "metadata": {},
   "outputs": [],
   "source": [
    "all_data_dump = json.dumps(data)\n",
    "partial_data_dump = json.dumps(data[:100])\n",
    "random_data_dump = json.dumps(random_data)\n",
    "\n",
    "with open(\"./DATA/all_data.json\", \"w\") as outfile:\n",
    "    outfile.write(all_data_dump)\n",
    "\n",
    "with open(\"./DATA/partial_data.json\", \"w\") as outfile:\n",
    "    outfile.write(partial_data_dump)\n",
    "\n",
    "with open(\"./DATA/random_data.json\", \"w\") as outfile:\n",
    "    outfile.write(random_data_dump)\n"
   ]
  }
 ],
 "metadata": {
  "kernelspec": {
   "display_name": "base",
   "language": "python",
   "name": "python3"
  },
  "language_info": {
   "codemirror_mode": {
    "name": "ipython",
    "version": 3
   },
   "file_extension": ".py",
   "mimetype": "text/x-python",
   "name": "python",
   "nbconvert_exporter": "python",
   "pygments_lexer": "ipython3",
   "version": "3.12.4"
  },
  "orig_nbformat": 4
 },
 "nbformat": 4,
 "nbformat_minor": 2
}
