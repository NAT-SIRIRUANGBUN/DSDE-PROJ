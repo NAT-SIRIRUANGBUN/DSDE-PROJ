{
 "cells": [
  {
   "cell_type": "code",
   "execution_count": null,
   "metadata": {},
   "outputs": [],
   "source": [
    "import numpy as np\n",
    "import pandas as pd\n",
    "import json\n",
    "\n",
    "from pathlib import Path  \n"
   ]
  },
  {
   "cell_type": "code",
   "execution_count": null,
   "metadata": {},
   "outputs": [],
   "source": [
    "data = []"
   ]
  },
  {
   "cell_type": "code",
   "execution_count": null,
   "metadata": {},
   "outputs": [],
   "source": [
    "with open('./DATA/all_data.json') as d:\n",
    "    data = json.load(d)\n",
    "    \n",
    "rows = []\n",
    "subj = []\n",
    "keywords = []\n",
    "affiliations = []\n",
    "\n",
    "for record in data:\n",
    "    try:\n",
    "        title = record['abstracts-retrieval-response']['coredata']['dc:title']\n",
    "        publish_year = record['abstracts-retrieval-response']['item']['ait:process-info']['ait:date-sort']['@year']\n",
    "        eid = record['abstracts-retrieval-response']['coredata']['eid']\n",
    "        aggregation_type = record['abstracts-retrieval-response']['coredata']['prism:aggregationType']\n",
    "        authors = record['abstracts-retrieval-response']['authors']['author']\n",
    "        author_count = len(authors)\n",
    "        if record['abstracts-retrieval-response']['language']:\n",
    "            language = record['abstracts-retrieval-response']['language']['@xml:lang']\n",
    "        else: language = None\n",
    "        \n",
    "        rows.append({\n",
    "            'Title': title,\n",
    "            'Publish_year': publish_year,\n",
    "            'Eid': eid,\n",
    "            'Aggregation_type': aggregation_type,\n",
    "            'Author_Count': author_count,\n",
    "            'Language' : language\n",
    "        })\n",
    "        \n",
    "        areas = record['abstracts-retrieval-response']['subject-areas']['subject-area']\n",
    "        for area in areas:\n",
    "            subj.append({\n",
    "                'Eid': eid,\n",
    "                'Subject_Area': area[\"$\"],\n",
    "                'Subject_Code': area[\"@code\"],\n",
    "            })\n",
    "            \n",
    "        keyword = record['abstracts-retrieval-response']['item']['bibrecord']['head']['citation-info']['author-keywords']['author-keyword']\n",
    "        for key in keyword:\n",
    "            keywords.append({\n",
    "                'Eid':eid,\n",
    "                'Keyword':key[\"$\"],\n",
    "                'Language':key[\"@xml:lang\"],\n",
    "                'Original':key[\"@original\"]\n",
    "            })\n",
    "            \n",
    "        affils = record['abstracts-retrieval-response']['affiliation']\n",
    "        for affil in affils:\n",
    "            affiliations.append({\n",
    "                'Eid': eid,\n",
    "                'Affil_Id':affil[\"@id\"],\n",
    "                'Affil_Name':affil[\"affilname\"],\n",
    "                'Affil_Country':affil[\"affiliation-country\"],\n",
    "                'Affil_City':affil[\"affiliation-city\"]\n",
    "            })\n",
    "        \n",
    "    except:\n",
    "        pass\n",
    "\n",
    "df = pd.DataFrame(rows)\n",
    "\n",
    "subject_df = pd.DataFrame(subj)\n",
    "\n",
    "keyword_df = pd.DataFrame(keywords)\n",
    "\n",
    "affil_df = pd.DataFrame(affiliations)"
   ]
  },
  {
   "cell_type": "code",
   "execution_count": null,
   "metadata": {},
   "outputs": [],
   "source": [
    "df"
   ]
  },
  {
   "cell_type": "code",
   "execution_count": null,
   "metadata": {},
   "outputs": [],
   "source": [
    "filepath = Path('DATA/main.csv')  \n",
    "filepath.parent.mkdir(parents=True, exist_ok=True)  \n",
    "df.to_csv(filepath, index=False) "
   ]
  },
  {
   "cell_type": "code",
   "execution_count": null,
   "metadata": {},
   "outputs": [],
   "source": [
    "subject_df"
   ]
  },
  {
   "cell_type": "code",
   "execution_count": null,
   "metadata": {},
   "outputs": [],
   "source": [
    "keyword_df"
   ]
  },
  {
   "cell_type": "code",
   "execution_count": null,
   "metadata": {},
   "outputs": [],
   "source": [
    "affil_df"
   ]
  },
  {
   "cell_type": "code",
   "execution_count": null,
   "metadata": {},
   "outputs": [],
   "source": [
    "filepath = Path('DATA/subject.csv')  \n",
    "filepath.parent.mkdir(parents=True, exist_ok=True)  \n",
    "subject_df.to_csv(filepath, index=False) "
   ]
  },
  {
   "cell_type": "code",
   "execution_count": null,
   "metadata": {},
   "outputs": [],
   "source": [
    "filepath = Path('DATA/keyword.csv')  \n",
    "filepath.parent.mkdir(parents=True, exist_ok=True)  \n",
    "keyword_df.to_csv(filepath, index=False) "
   ]
  },
  {
   "cell_type": "code",
   "execution_count": null,
   "metadata": {},
   "outputs": [],
   "source": [
    "filepath = Path('DATA/affiliate.csv')  \n",
    "filepath.parent.mkdir(parents=True, exist_ok=True)  \n",
    "affil_df.to_csv(filepath) "
   ]
  },
  {
   "cell_type": "code",
   "execution_count": null,
   "metadata": {},
   "outputs": [],
   "source": [
    "subject_df = subject_df.drop_duplicates()\n",
    "\n",
    "subject_df['Subject_Area'].value_counts()"
   ]
  },
  {
   "cell_type": "code",
   "execution_count": null,
   "metadata": {},
   "outputs": [],
   "source": [
    "subject_df['Subject_Code'].value_counts()"
   ]
  },
  {
   "cell_type": "code",
   "execution_count": null,
   "metadata": {},
   "outputs": [],
   "source": [
    "df.isnull().sum()"
   ]
  },
  {
   "cell_type": "code",
   "execution_count": null,
   "metadata": {},
   "outputs": [],
   "source": [
    "\n",
    "unique_eid_df = df.drop_duplicates(subset='Eid')\n",
    "\n",
    "unique_eid_df['Aggregation_type'].value_counts()"
   ]
  },
  {
   "cell_type": "code",
   "execution_count": null,
   "metadata": {},
   "outputs": [],
   "source": [
    "merge_table = df.merge(subject_df,on='Eid',how='left')\n",
    "merge_table"
   ]
  },
  {
   "cell_type": "code",
   "execution_count": null,
   "metadata": {},
   "outputs": [],
   "source": []
  }
 ],
 "metadata": {
  "kernelspec": {
   "display_name": "base",
   "language": "python",
   "name": "python3"
  },
  "language_info": {
   "codemirror_mode": {
    "name": "ipython",
    "version": 3
   },
   "file_extension": ".py",
   "mimetype": "text/x-python",
   "name": "python",
   "nbconvert_exporter": "python",
   "pygments_lexer": "ipython3",
   "version": "3.12.4"
  },
  "orig_nbformat": 4
 },
 "nbformat": 4,
 "nbformat_minor": 2
}
