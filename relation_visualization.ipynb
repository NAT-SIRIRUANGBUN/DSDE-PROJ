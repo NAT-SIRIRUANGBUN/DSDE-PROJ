{
 "cells": [
  {
   "cell_type": "code",
   "execution_count": null,
   "metadata": {},
   "outputs": [],
   "source": [
    "import pandas as pd\n",
    "from pyvis.network import Network\n",
    "\n",
    "# Load the CSV file with source, target, and weight\n",
    "edges_file = \"relation_by_country_10_seq.csv\"  # Your file name here\n",
    "\n",
    "# Read the CSV file\n",
    "edges_df = pd.read_csv(edges_file)\n",
    "\n",
    "# Clean node names to avoid issues with spaces or inconsistent naming\n",
    "edges_df['source'] = edges_df['source'].str.strip()\n",
    "edges_df['target'] = edges_df['target'].str.strip()\n",
    "\n",
    "# Initialize the Pyvis network\n",
    "net = Network(height=\"750px\", width=\"100%\", bgcolor=\"#ffffff\", font_color=\"black\", notebook=True)\n",
    "\n",
    "# Add nodes to the network before adding edges (to ensure all nodes exist in the graph)\n",
    "nodes = set(edges_df['source']).union(set(edges_df['target']))  # Unique nodes from both source and target columns\n",
    "\n",
    "# Add each unique node to the network\n",
    "for node in nodes:\n",
    "    net.add_node(node)\n",
    "\n",
    "# Add edges to the network (source, target, and weight)\n",
    "for _, row in edges_df.iterrows():\n",
    "    source = row[\"source\"]\n",
    "    target = row[\"target\"]\n",
    "    weight = row[\"weight\"]\n",
    "    \n",
    "    # Add the edge to the network with value as the weight\n",
    "    net.add_edge(source, target, value=weight, width=weight, color=\"gray\")\n",
    "\n",
    "# Set layout physics (optional for better automatic layout)\n",
    "net.set_edge_smooth(\"dynamic\")  # Smoother edges for better aesthetics\n",
    "net.toggle_physics(True)  # Optional: Toggle physics for better layout\n",
    "net.show_buttons(filter_=[\"physics\"])  # UI for adjusting physics settings\n",
    "\n",
    "# Save and show the network visualization\n",
    "net.show(\"network_visualization.html\")\n"
   ]
  },
  {
   "cell_type": "code",
   "execution_count": null,
   "metadata": {},
   "outputs": [],
   "source": []
  },
  {
   "cell_type": "code",
   "execution_count": null,
   "metadata": {},
   "outputs": [],
   "source": []
  }
 ],
 "metadata": {
  "kernelspec": {
   "display_name": "Python 3 (ipykernel)",
   "language": "python",
   "name": "python3"
  },
  "language_info": {
   "codemirror_mode": {
    "name": "ipython",
    "version": 3
   },
   "file_extension": ".py",
   "mimetype": "text/x-python",
   "name": "python",
   "nbconvert_exporter": "python",
   "pygments_lexer": "ipython3",
   "version": "3.12.4"
  }
 },
 "nbformat": 4,
 "nbformat_minor": 4
}
