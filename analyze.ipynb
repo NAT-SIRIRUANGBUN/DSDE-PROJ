{
 "cells": [
  {
   "cell_type": "code",
   "execution_count": 60,
   "metadata": {},
   "outputs": [],
   "source": [
    "import numpy as np\n",
    "import pandas as pd"
   ]
  },
  {
   "cell_type": "code",
   "execution_count": 61,
   "metadata": {},
   "outputs": [],
   "source": [
    "general_info_table = pd.read_csv('DATA/general_info.csv')\n",
    "keyword_table = pd.read_csv('DATA/keyword.csv')\n",
    "subject_table = pd.read_csv('DATA/subject.csv')\n",
    "main_table = pd.read_csv('DATA/main.csv')\n",
    "abstract_table = pd.read_csv('DATA/abstract_table.csv')"
   ]
  },
  {
   "cell_type": "code",
   "execution_count": 62,
   "metadata": {},
   "outputs": [
    {
     "data": {
      "text/html": [
       "<div>\n",
       "<style scoped>\n",
       "    .dataframe tbody tr th:only-of-type {\n",
       "        vertical-align: middle;\n",
       "    }\n",
       "\n",
       "    .dataframe tbody tr th {\n",
       "        vertical-align: top;\n",
       "    }\n",
       "\n",
       "    .dataframe thead th {\n",
       "        text-align: right;\n",
       "    }\n",
       "</style>\n",
       "<table border=\"1\" class=\"dataframe\">\n",
       "  <thead>\n",
       "    <tr style=\"text-align: right;\">\n",
       "      <th></th>\n",
       "      <th>Eid</th>\n",
       "      <th>Abstract</th>\n",
       "    </tr>\n",
       "  </thead>\n",
       "  <tbody>\n",
       "    <tr>\n",
       "      <th>0</th>\n",
       "      <td>2-s2.0-85053164279</td>\n",
       "      <td>© 2018The microstructure and corrosion behavio...</td>\n",
       "    </tr>\n",
       "    <tr>\n",
       "      <th>1</th>\n",
       "      <td>2-s2.0-85049101440</td>\n",
       "      <td>Copyright © 2018 Inderscience Enterprises Ltd....</td>\n",
       "    </tr>\n",
       "    <tr>\n",
       "      <th>2</th>\n",
       "      <td>2-s2.0-85054140369</td>\n",
       "      <td>© 2018Background: Hyperkyphosis may be frequen...</td>\n",
       "    </tr>\n",
       "    <tr>\n",
       "      <th>3</th>\n",
       "      <td>2-s2.0-85097515350</td>\n",
       "      <td>© 2018 Society for Innovative Research. All ri...</td>\n",
       "    </tr>\n",
       "    <tr>\n",
       "      <th>4</th>\n",
       "      <td>2-s2.0-85041527766</td>\n",
       "      <td>© 2018Background and Aims: Wire-guided biliary...</td>\n",
       "    </tr>\n",
       "    <tr>\n",
       "      <th>...</th>\n",
       "      <td>...</td>\n",
       "      <td>...</td>\n",
       "    </tr>\n",
       "    <tr>\n",
       "      <th>20211</th>\n",
       "      <td>2-s2.0-85152540548</td>\n",
       "      <td>© 2023 by the authors.This study discusses the...</td>\n",
       "    </tr>\n",
       "    <tr>\n",
       "      <th>20212</th>\n",
       "      <td>2-s2.0-85132634561</td>\n",
       "      <td>© 2022 ERP Environment and John Wiley &amp; Sons L...</td>\n",
       "    </tr>\n",
       "    <tr>\n",
       "      <th>20213</th>\n",
       "      <td>2-s2.0-85150789915</td>\n",
       "      <td>© 2023 The Author(s). Published by Informa UK ...</td>\n",
       "    </tr>\n",
       "    <tr>\n",
       "      <th>20214</th>\n",
       "      <td>2-s2.0-85165609857</td>\n",
       "      <td>© 2023 by Animal Bioscience.Objective: Inflamm...</td>\n",
       "    </tr>\n",
       "    <tr>\n",
       "      <th>20215</th>\n",
       "      <td>2-s2.0-85164405594</td>\n",
       "      <td>© 2023 Penerbit Universiti Kebangsaan Malaysia...</td>\n",
       "    </tr>\n",
       "  </tbody>\n",
       "</table>\n",
       "<p>20216 rows × 2 columns</p>\n",
       "</div>"
      ],
      "text/plain": [
       "                      Eid                                           Abstract\n",
       "0      2-s2.0-85053164279  © 2018The microstructure and corrosion behavio...\n",
       "1      2-s2.0-85049101440  Copyright © 2018 Inderscience Enterprises Ltd....\n",
       "2      2-s2.0-85054140369  © 2018Background: Hyperkyphosis may be frequen...\n",
       "3      2-s2.0-85097515350  © 2018 Society for Innovative Research. All ri...\n",
       "4      2-s2.0-85041527766  © 2018Background and Aims: Wire-guided biliary...\n",
       "...                   ...                                                ...\n",
       "20211  2-s2.0-85152540548  © 2023 by the authors.This study discusses the...\n",
       "20212  2-s2.0-85132634561  © 2022 ERP Environment and John Wiley & Sons L...\n",
       "20213  2-s2.0-85150789915  © 2023 The Author(s). Published by Informa UK ...\n",
       "20214  2-s2.0-85165609857  © 2023 by Animal Bioscience.Objective: Inflamm...\n",
       "20215  2-s2.0-85164405594  © 2023 Penerbit Universiti Kebangsaan Malaysia...\n",
       "\n",
       "[20216 rows x 2 columns]"
      ]
     },
     "execution_count": 62,
     "metadata": {},
     "output_type": "execute_result"
    }
   ],
   "source": [
    "abstract_table"
   ]
  }
 ],
 "metadata": {
  "kernelspec": {
   "display_name": "base",
   "language": "python",
   "name": "python3"
  },
  "language_info": {
   "codemirror_mode": {
    "name": "ipython",
    "version": 3
   },
   "file_extension": ".py",
   "mimetype": "text/x-python",
   "name": "python",
   "nbconvert_exporter": "python",
   "pygments_lexer": "ipython3",
   "version": "3.12.4"
  },
  "orig_nbformat": 4
 },
 "nbformat": 4,
 "nbformat_minor": 2
}
