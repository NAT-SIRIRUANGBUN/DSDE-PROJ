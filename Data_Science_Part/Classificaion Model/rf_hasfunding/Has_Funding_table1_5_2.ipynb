{
 "cells": [
  {
   "cell_type": "code",
   "execution_count": 3,
   "metadata": {},
   "outputs": [
    {
     "name": "stderr",
     "output_type": "stream",
     "text": [
      "/opt/anaconda3/lib/python3.12/site-packages/sklearn/preprocessing/_label.py:900: UserWarning: unknown class(es) ['Agricultural and Biological Sciences Chemical Engineering Engineering Materials Science', 'Agricultural and Biological Sciences Chemical Engineering Immunology and Microbiology', 'Agricultural and Biological Sciences Economics', 'Agricultural and Biological Sciences Environmental Science Economics', 'Agricultural and Biological Sciences Environmental Science Immunology and Microbiology Medicine', 'Agricultural and Biological Sciences Medicine Biochemistry', 'Arts and Humanities Environmental Science Engineering', 'Chemical Engineering Chemistry Energy Environmental Science', 'Chemical Engineering Chemistry Engineering Materials Science', 'Chemical Engineering Chemistry Engineering Materials Science Physics and Astronomy', 'Chemical Engineering Chemistry Environmental Science', 'Chemical Engineering Chemistry Environmental Science Engineering', 'Chemistry Chemical Engineering Biochemistry', 'Chemistry Mathematics Physics and Astronomy', 'Chemistry Medicine Chemical Engineering', 'Computer Science Arts and Humanities Social Sciences', 'Computer Science Materials Science Physics and Astronomy', 'Computer Science Neuroscience', 'Decision Sciences Agricultural and Biological Sciences Environmental Science', 'Econometrics and Finance Engineering', 'Engineering Environmental Science Materials Science Physics and Astronomy Chemical Engineering Earth and Planetary Sciences', 'Engineering Physics and Astronomy Business', 'Engineering Physics and Astronomy Chemical Engineering Energy', 'Engineering Social Sciences Medicine Chemical Engineering', 'Environmental Science Energy Chemical Engineering', 'Environmental Science Social Sciences Engineering', 'Genetics and Molecular Biology Agricultural and Biological Sciences Engineering Energy', 'Genetics and Molecular Biology Chemistry Environmental Science', 'Genetics and Molecular Biology Engineering Materials Science', 'Genetics and Molecular Biology Engineering Medicine Physics and Astronomy', 'Genetics and Molecular Biology Engineering Pharmacology', 'Genetics and Molecular Biology Materials Science Environmental Science', 'Genetics and Molecular Biology Materials Science Physics and Astronomy', 'Genetics and Molecular Biology Medicine Engineering', 'Health Professions Materials Science Engineering Medicine', 'Immunology and Microbiology Agricultural and Biological Sciences Pharmacology', 'Management and Accounting Arts and Humanities Social Sciences Psychology Economics', 'Management and Accounting Chemical Engineering Chemistry Materials Science', 'Management and Accounting Materials Science', 'Materials Science Biochemistry', 'Materials Science Chemistry Physics and Astronomy Computer Science', 'Materials Science Chemistry Physics and Astronomy Engineering', 'Materials Science Physics and Astronomy Energy Engineering', 'Mathematics Multidisciplinary', 'Medicine Neuroscience Nursing', 'Medicine Nursing Biochemistry', 'Neuroscience Computer Science', 'Physics and Astronomy Biochemistry', 'Physics and Astronomy Energy', 'Physics and Astronomy Engineering Computer Science Earth and Planetary Sciences', 'Physics and Astronomy Engineering Decision Sciences Business', 'Psychology Health Professions', 'Psychology Neuroscience Computer Science', 'Psychology Neuroscience Medicine', 'Psychology Nursing', 'Toxicology and Pharmaceutics Immunology and Microbiology'] will be ignored\n",
      "  warnings.warn(\n"
     ]
    },
    {
     "name": "stdout",
     "output_type": "stream",
     "text": [
      "Binary Classification (Has_Funding) Report:\n",
      "              precision    recall  f1-score   support\n",
      "\n",
      "           0       0.72      0.65      0.68      1742\n",
      "           1       0.60      0.67      0.63      1342\n",
      "\n",
      "    accuracy                           0.66      3084\n",
      "   macro avg       0.66      0.66      0.66      3084\n",
      "weighted avg       0.66      0.66      0.66      3084\n",
      "\n"
     ]
    }
   ],
   "source": [
    "import pandas as pd\n",
    "from sklearn.model_selection import train_test_split\n",
    "from sklearn.preprocessing import MultiLabelBinarizer\n",
    "from sklearn.feature_extraction.text import TfidfVectorizer\n",
    "from sklearn.metrics import classification_report\n",
    "from sklearn.ensemble import RandomForestClassifier\n",
    "from scipy.sparse import hstack\n",
    "\n",
    "data = pd.read_csv('./TABLE1_5_2.csv')\n",
    "\n",
    "data['Index_Terms'] = data['Index_Terms'].fillna(\"\").astype(str)\n",
    "data['Subject_Field'] = data['Subject_Field'].fillna(\"\").astype(str)\n",
    "\n",
    "\n",
    "data['text_all'] = data['Title'].fillna(\"\") + \" \" + data['Index_Terms'].fillna(\"\")\n",
    "\n",
    "data['Subject_Field'] = data['Subject_Field'].apply(lambda x: [field.strip() for field in x.split(',')])\n",
    "\n",
    "X_text = data['text_all']\n",
    "X_subject = data['Subject_Field']\n",
    "y = data['Has_Funding'].astype(int)  # 0 หรือ 1\n",
    "\n",
    "X_train_text, X_test_text, X_train_subject, X_test_subject, y_train, y_test = train_test_split(\n",
    "    X_text, X_subject, y, test_size=0.2, random_state=42)\n",
    "\n",
    "text_transformer = TfidfVectorizer(stop_words='english', max_features=1000)\n",
    "X_train_text_tfidf = text_transformer.fit_transform(X_train_text)\n",
    "X_test_text_tfidf = text_transformer.transform(X_test_text)\n",
    "\n",
    "mlb = MultiLabelBinarizer()\n",
    "X_train_subject_binarized = mlb.fit_transform(X_train_subject)\n",
    "X_test_subject_binarized = mlb.transform(X_test_subject)\n",
    "\n",
    "X_train_combined = hstack([X_train_text_tfidf, X_train_subject_binarized])\n",
    "X_test_combined = hstack([X_test_text_tfidf, X_test_subject_binarized])\n",
    "\n",
    "\n",
    "rf_model = RandomForestClassifier(\n",
    "    bootstrap=True,\n",
    "    max_depth=None,\n",
    "    min_samples_leaf=2,\n",
    "    min_samples_split=2,\n",
    "    n_estimators=300,\n",
    "    random_state=42\n",
    ")\n",
    "rf_model.fit(X_train_combined, y_train)\n",
    "\n",
    "# Evaluate the Model\n",
    "y_pred = rf_model.predict(X_test_combined)\n",
    "print(\"Binary Classification (Has_Funding) Report:\")\n",
    "print(classification_report(y_test, y_pred))\n",
    "\n",
    "\n"
   ]
  },
  {
   "cell_type": "code",
   "execution_count": 4,
   "metadata": {},
   "outputs": [
    {
     "name": "stdout",
     "output_type": "stream",
     "text": [
      "Prediction: [0]\n"
     ]
    }
   ],
   "source": [
    "# ข้อมูลใหม่ที่ต้องการทำนาย\n",
    "new_data = pd.DataFrame({\n",
    "    'Title': [\"Energy efficient cooling systems for households\"],\n",
    "    'Index_Terms': [\"Air conditioning, Energy saving, Household cooling\"],\n",
    "    'Subject_Field': [\"Energy, Engineering\"]\n",
    "})\n",
    "\n",
    "# Preprocess ข้อมูลใหม่\n",
    "new_data['Index_Terms'] = new_data['Index_Terms'].fillna(\"\").astype(str)\n",
    "new_data['text_all'] = new_data['Title'].fillna(\"\") + \" \" + new_data['Index_Terms']\n",
    "new_data['Subject_Field'] = new_data['Subject_Field'].apply(lambda x: [field.strip() for field in x.split(',')])\n",
    "\n",
    "# Transform text features\n",
    "new_text_tfidf = text_transformer.transform(new_data['text_all'])\n",
    "\n",
    "# Transform subject features\n",
    "new_subject_binarized = mlb.transform(new_data['Subject_Field'])\n",
    "\n",
    "# Combine features\n",
    "new_combined_features = hstack([new_text_tfidf, new_subject_binarized])\n",
    "\n",
    "# ทำนายผล\n",
    "new_predictions = rf_model.predict(new_combined_features)\n",
    "\n",
    "# แสดงผลลัพธ์\n",
    "print(\"Prediction:\", new_predictions)  # Output: [0] หรือ [1]\n"
   ]
  },
  {
   "cell_type": "code",
   "execution_count": 5,
   "metadata": {},
   "outputs": [],
   "source": [
    "import pickle\n",
    "\n",
    "# เซฟ RandomForest Model\n",
    "with open(\"rf_model.pkl\", \"wb\") as f:\n",
    "    pickle.dump(rf_model, f)\n",
    "\n",
    "# เซฟ TF-IDF Vectorizer\n",
    "with open(\"text_transformer.pkl\", \"wb\") as f:\n",
    "    pickle.dump(text_transformer, f)\n",
    "\n",
    "# เซฟ MultiLabelBinarizer\n",
    "with open(\"mlb.pkl\", \"wb\") as f:\n",
    "    pickle.dump(mlb, f)\n"
   ]
  },
  {
   "cell_type": "code",
   "execution_count": 7,
   "metadata": {},
   "outputs": [
    {
     "name": "stderr",
     "output_type": "stream",
     "text": [
      "/opt/anaconda3/lib/python3.12/site-packages/sklearn/preprocessing/_label.py:900: UserWarning: unknown class(es) ['Agricultural and Biological Sciences Chemical Engineering Engineering Materials Science', 'Agricultural and Biological Sciences Chemical Engineering Immunology and Microbiology', 'Agricultural and Biological Sciences Economics', 'Agricultural and Biological Sciences Environmental Science Economics', 'Agricultural and Biological Sciences Environmental Science Immunology and Microbiology Medicine', 'Agricultural and Biological Sciences Medicine Biochemistry', 'Arts and Humanities Environmental Science Engineering', 'Chemical Engineering Chemistry Energy Environmental Science', 'Chemical Engineering Chemistry Engineering Materials Science', 'Chemical Engineering Chemistry Engineering Materials Science Physics and Astronomy', 'Chemical Engineering Chemistry Environmental Science', 'Chemical Engineering Chemistry Environmental Science Engineering', 'Chemistry Chemical Engineering Biochemistry', 'Chemistry Mathematics Physics and Astronomy', 'Chemistry Medicine Chemical Engineering', 'Computer Science Arts and Humanities Social Sciences', 'Computer Science Materials Science Physics and Astronomy', 'Computer Science Neuroscience', 'Decision Sciences Agricultural and Biological Sciences Environmental Science', 'Econometrics and Finance Engineering', 'Engineering Environmental Science Materials Science Physics and Astronomy Chemical Engineering Earth and Planetary Sciences', 'Engineering Physics and Astronomy Business', 'Engineering Physics and Astronomy Chemical Engineering Energy', 'Engineering Social Sciences Medicine Chemical Engineering', 'Environmental Science Energy Chemical Engineering', 'Environmental Science Social Sciences Engineering', 'Genetics and Molecular Biology Agricultural and Biological Sciences Engineering Energy', 'Genetics and Molecular Biology Chemistry Environmental Science', 'Genetics and Molecular Biology Engineering Materials Science', 'Genetics and Molecular Biology Engineering Medicine Physics and Astronomy', 'Genetics and Molecular Biology Engineering Pharmacology', 'Genetics and Molecular Biology Materials Science Environmental Science', 'Genetics and Molecular Biology Materials Science Physics and Astronomy', 'Genetics and Molecular Biology Medicine Engineering', 'Health Professions Materials Science Engineering Medicine', 'Immunology and Microbiology Agricultural and Biological Sciences Pharmacology', 'Management and Accounting Arts and Humanities Social Sciences Psychology Economics', 'Management and Accounting Chemical Engineering Chemistry Materials Science', 'Management and Accounting Materials Science', 'Materials Science Biochemistry', 'Materials Science Chemistry Physics and Astronomy Computer Science', 'Materials Science Chemistry Physics and Astronomy Engineering', 'Materials Science Physics and Astronomy Energy Engineering', 'Mathematics Multidisciplinary', 'Medicine Neuroscience Nursing', 'Medicine Nursing Biochemistry', 'Neuroscience Computer Science', 'Physics and Astronomy Biochemistry', 'Physics and Astronomy Energy', 'Physics and Astronomy Engineering Computer Science Earth and Planetary Sciences', 'Physics and Astronomy Engineering Decision Sciences Business', 'Psychology Health Professions', 'Psychology Neuroscience Computer Science', 'Psychology Neuroscience Medicine', 'Psychology Nursing', 'Toxicology and Pharmaceutics Immunology and Microbiology'] will be ignored\n",
      "  warnings.warn(\n"
     ]
    },
    {
     "name": "stdout",
     "output_type": "stream",
     "text": [
      "Binary Classification (Has_Funding) Report:\n",
      "              precision    recall  f1-score   support\n",
      "\n",
      "           0       0.72      0.65      0.68      1742\n",
      "           1       0.60      0.66      0.63      1342\n",
      "\n",
      "    accuracy                           0.66      3084\n",
      "   macro avg       0.66      0.66      0.66      3084\n",
      "weighted avg       0.66      0.66      0.66      3084\n",
      "\n"
     ]
    }
   ],
   "source": [
    "import pandas as pd\n",
    "from sklearn.model_selection import train_test_split\n",
    "from sklearn.preprocessing import MultiLabelBinarizer\n",
    "from sklearn.feature_extraction.text import TfidfVectorizer\n",
    "from sklearn.metrics import classification_report\n",
    "from sklearn.ensemble import RandomForestClassifier\n",
    "from scipy.sparse import hstack\n",
    "\n",
    "data = pd.read_csv('./TABLE1_5_2.csv')\n",
    "\n",
    "data['Index_Terms'] = data['Index_Terms'].fillna(\"\").astype(str)\n",
    "data['Subject_Field'] = data['Subject_Field'].fillna(\"\").astype(str)\n",
    "\n",
    "\n",
    "data['text_all'] = data['Title'].fillna(\"\") + \" \" + data['Index_Terms'].fillna(\"\")\n",
    "\n",
    "data['Subject_Field'] = data['Subject_Field'].apply(lambda x: [field.strip() for field in x.split(',')])\n",
    "\n",
    "X_text = data['text_all']\n",
    "X_subject = data['Subject_Field']\n",
    "y = data['Has_Funding'].astype(int)  # 0 หรือ 1\n",
    "\n",
    "X_train_text, X_test_text, X_train_subject, X_test_subject, y_train, y_test = train_test_split(\n",
    "    X_text, X_subject, y, test_size=0.2, random_state=42)\n",
    "\n",
    "text_transformer = TfidfVectorizer(stop_words='english', max_features=1000)\n",
    "X_train_text_tfidf = text_transformer.fit_transform(X_train_text)\n",
    "X_test_text_tfidf = text_transformer.transform(X_test_text)\n",
    "\n",
    "mlb = MultiLabelBinarizer()\n",
    "X_train_subject_binarized = mlb.fit_transform(X_train_subject)\n",
    "X_test_subject_binarized = mlb.transform(X_test_subject)\n",
    "\n",
    "X_train_combined = hstack([X_train_text_tfidf, X_train_subject_binarized])\n",
    "X_test_combined = hstack([X_test_text_tfidf, X_test_subject_binarized])\n",
    "\n",
    "\n",
    "rf_model = RandomForestClassifier(\n",
    "    bootstrap=True,\n",
    "    max_depth=None,\n",
    "    min_samples_leaf=2,\n",
    "    min_samples_split=2,\n",
    "    n_estimators=1000,\n",
    "    random_state=42\n",
    ")\n",
    "rf_model.fit(X_train_combined, y_train)\n",
    "\n",
    "# Evaluate the Model\n",
    "y_pred = rf_model.predict(X_test_combined)\n",
    "print(\"Binary Classification (Has_Funding) Report:\")\n",
    "print(classification_report(y_test, y_pred))\n",
    "\n",
    "\n"
   ]
  },
  {
   "cell_type": "code",
   "execution_count": 13,
   "metadata": {},
   "outputs": [
    {
     "name": "stdout",
     "output_type": "stream",
     "text": [
      "                                               Title   Prediction\n",
      "0  Lower Serum Zinc and Higher CRP Strongly Predi...  Has Funding\n"
     ]
    },
    {
     "name": "stderr",
     "output_type": "stream",
     "text": [
      "/opt/anaconda3/lib/python3.12/site-packages/sklearn/preprocessing/_label.py:900: UserWarning: unknown class(es) ['Neuroscienceg'] will be ignored\n",
      "  warnings.warn(\n"
     ]
    }
   ],
   "source": [
    "import pandas as pd\n",
    "from scipy.sparse import hstack\n",
    "\n",
    "# ข้อมูลตัวอย่างของงานวิจัยที่มี Funding\n",
    "example_data = pd.DataFrame({\n",
    "    'Title': [\"Lower Serum Zinc and Higher CRP Strongly Predict Prenatal Depression and Physio-somatic Symptoms, Which All Together Predict Postnatal Depressive Symptoms\"],\n",
    "    'Index_Terms': [\"Adult Article Beck Depression Inventory Biomarkers C reactive protein C-Reactive Protein Depression, Postpartum Edinburgh Postnatal Depression Scale Fatigue Female Hamilton Depression Rating Scale Humans Inflammation Mediators Medically Unexplained Symptoms Predictive Value of Tests Pregnancy Pregnancy Complications Prenatal Care Psychiatric Status Rating Scales State Trait Anxiety Inventory Zinc adult anxiety disorder autacoid backache biological marker blood body mass constipation controlled study disease severity dyspepsia dysthymia fatigue female first trimester pregnancy haptoglobin human immune activation immune inflammatory pathophysiology immune response major clinical study major depression medically unexplained symptom metabolism myalgia pathophysiology perinatal depression postnatal depression prediction predictive value pregnancy pregnancy complication pregnant woman premenstrual syndrome prenatal care procedures protein blood level psychological rating scale puerperal depression second trimester pregnancy symptom zinc zinc blood level\"],\n",
    "    'Subject_Field': [\"Neuroscienceg\"]\n",
    "})\n",
    "\n",
    "# Preprocess ข้อมูลตัวอย่าง\n",
    "example_data['Index_Terms'] = example_data['Index_Terms'].fillna(\"\").astype(str)\n",
    "example_data['text_all'] = example_data['Title'].fillna(\"\") + \" \" + example_data['Index_Terms']\n",
    "example_data['Subject_Field'] = example_data['Subject_Field'].apply(lambda x: [field.strip() for field in x.split(',')])\n",
    "\n",
    "# Transform text features (assuming text_transformer และ mlb ถูกเทรนไว้แล้ว)\n",
    "example_text_tfidf = text_transformer.transform(example_data['text_all'])\n",
    "example_subject_binarized = mlb.transform(example_data['Subject_Field'])\n",
    "\n",
    "# Combine features\n",
    "example_combined_features = hstack([example_text_tfidf, example_subject_binarized])\n",
    "\n",
    "# ทำนายผลลัพธ์\n",
    "example_predictions = rf_model.predict(example_combined_features)\n",
    "\n",
    "# แสดงผลลัพธ์\n",
    "example_data['Prediction'] = [\"Has Funding\" if pred == 1 else \"No Funding\" for pred in example_predictions]\n",
    "print(example_data[['Title', 'Prediction']])\n"
   ]
  },
  {
   "cell_type": "code",
   "execution_count": 11,
   "metadata": {},
   "outputs": [
    {
     "name": "stdout",
     "output_type": "stream",
     "text": [
      "Title: Prediction of surface roughness in ball-end milling process by utilizing dynamic cutting force ratio\n",
      "Index Terms:  Average surface roughness Ball end milling Ball milling Ball-end milling process Cutting Dynamic cutting forces Exponential functions Forecasting Frequency domain analysis In-process Milling (machining) Multiple regression analysis Regression analysis Surface roughness Surface roughness profiles Trapezoidal rules\n",
      "Subject Field: ['Computer Science Engineering']\n",
      "--------------------------------------------------\n",
      "Title: Exploring the Effect of Religious Piety on Corporate Governance: Evidence from Anti-takeover Defenses and Historical Religious Identification\n",
      "Index Terms: \n",
      "Subject Field: ['Arts and Humanities Business', 'Management and Accounting Economics', 'Econometrics and Finance']\n",
      "--------------------------------------------------\n",
      "Title: Patient-based outcomes following surgical implant placements\n",
      "Index Terms:  Adult Aged Dental Implantation, Endosseous Dental Prosthesis, Implant-Supported Edema Female Humans Male Middle Aged Oral Health Pain, Postoperative Patient Outcome Assessment Postoperative Complications Quality of Life Socioeconomic Factors adult aged edema female health human implant-supported denture male middle aged outcome assessment postoperative complication postoperative pain procedures psychology quality of life socioeconomics tooth implantation\n",
      "Subject Field: ['Dentistry']\n",
      "--------------------------------------------------\n",
      "Title: A decision support model for staff allocation of mobile medical service\n",
      "Index Terms: \n",
      "Subject Field: ['Decision Sciences']\n",
      "--------------------------------------------------\n",
      "Title: Susceptibility of freshwater rearing Asian seabass (Lates calcarifer) to pathogenic Streptococcus iniae\n",
      "Index Terms:  Lates Lates calcarifer Streptococcus Streptococcus iniae Thailand bacterium bioassay biofiltration brain cells and cell components commercial species freshwater environment histopathology mortality pathology perciform salinity swimming\n",
      "Subject Field: ['Agricultural and Biological Sciences']\n",
      "--------------------------------------------------\n",
      "Title: A potential application of shrimp antilipopolysaccharide factor in disease control in aquaculture\n",
      "Index Terms:  Decapoda (Crustacea) Fungi Litopenaeus vannamei Penaeus monodon Shrimp white spot syndrome virus Vibrio parahaemolyticus antimicrobial activity aquaculture bacterium cells and cell components concentration (composition) crustacean digestive system disorder disease control immunity polysaccharide protein survival\n",
      "Subject Field: ['Agricultural and Biological Sciences']\n",
      "--------------------------------------------------\n",
      "Title: Biodegradable poly(lactic acid)/poly(butylene succinate)/wood flour composites: Physical and morphological properties\n",
      "Index Terms:  Bending strength Butenes Cold crystallization temperature Degradation Degradation rate Degree of crystallinity Differential scanning calorimetry Elastic moduli Elongation at break Glass transition Impact strength Lactic acid Morphological properties Poly lactic acid Poly(butylene succinate) Strength and elongations Tensile strength Thermodynamic stability\n",
      "Subject Field: ['Chemistry Materials Science']\n",
      "--------------------------------------------------\n",
      "Title: Decision tree induction based on minority entropy for the class imbalance problem\n",
      "Index Terms: \n",
      "Subject Field: ['Computer Science']\n",
      "--------------------------------------------------\n",
      "Title: Lower Serum Zinc and Higher CRP Strongly Predict Prenatal Depression and Physio-somatic Symptoms, Which All Together Predict Postnatal Depressive Symptoms\n",
      "Index Terms:  Adult Article Beck Depression Inventory Biomarkers C reactive protein C-Reactive Protein Depression, Postpartum Edinburgh Postnatal Depression Scale Fatigue Female Hamilton Depression Rating Scale Humans Inflammation Mediators Medically Unexplained Symptoms Predictive Value of Tests Pregnancy Pregnancy Complications Prenatal Care Psychiatric Status Rating Scales State Trait Anxiety Inventory Zinc adult anxiety disorder autacoid backache biological marker blood body mass constipation controlled study disease severity dyspepsia dysthymia fatigue female first trimester pregnancy haptoglobin human immune activation immune inflammatory pathophysiology immune response major clinical study major depression medically unexplained symptom metabolism myalgia pathophysiology perinatal depression postnatal depression prediction predictive value pregnancy pregnancy complication pregnant woman premenstrual syndrome prenatal care procedures protein blood level psychological rating scale puerperal depression second trimester pregnancy symptom zinc zinc blood level\n",
      "Subject Field: ['Neuroscience']\n",
      "--------------------------------------------------\n",
      "Title: Do board interlocks motivate voluntary disclosure? Evidence from Taiwan\n",
      "Index Terms: \n",
      "Subject Field: ['Business', 'Management and Accounting Economics', 'Econometrics and Finance']\n",
      "--------------------------------------------------\n"
     ]
    }
   ],
   "source": [
    "# ดึงงานวิจัยที่มี Funding\n",
    "funded_research = data[data['Has_Funding'] == 1]\n",
    "\n",
    "# เลือกข้อมูลงานวิจัย 10 รายการแรกที่มี Funding\n",
    "funded_research_prompts = funded_research[['Title', 'Index_Terms', 'Subject_Field']].head(10)\n",
    "\n",
    "# แสดงผลลัพธ์\n",
    "for index, row in funded_research_prompts.iterrows():\n",
    "    print(f\"Title: {row['Title']}\")\n",
    "    print(f\"Index Terms: {row['Index_Terms']}\")\n",
    "    print(f\"Subject Field: {row['Subject_Field']}\")\n",
    "    print(\"-\" * 50)\n"
   ]
  }
 ],
 "metadata": {
  "kernelspec": {
   "display_name": "base",
   "language": "python",
   "name": "python3"
  },
  "language_info": {
   "codemirror_mode": {
    "name": "ipython",
    "version": 3
   },
   "file_extension": ".py",
   "mimetype": "text/x-python",
   "name": "python",
   "nbconvert_exporter": "python",
   "pygments_lexer": "ipython3",
   "version": "3.12.4"
  }
 },
 "nbformat": 4,
 "nbformat_minor": 2
}
