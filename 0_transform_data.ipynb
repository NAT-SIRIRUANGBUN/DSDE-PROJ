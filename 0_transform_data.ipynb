{
 "cells": [
  {
   "cell_type": "code",
   "execution_count": 1,
   "metadata": {},
   "outputs": [],
   "source": [
    "import numpy as np\n",
    "import pandas as pd\n",
    "import json\n",
    "import os\n",
    "import random"
   ]
  },
  {
   "cell_type": "code",
   "execution_count": 2,
   "metadata": {},
   "outputs": [],
   "source": [
    "random.seed(0)"
   ]
  },
  {
   "cell_type": "code",
   "execution_count": 3,
   "metadata": {},
   "outputs": [],
   "source": [
    "data = []\n",
    "random_data = []"
   ]
  },
  {
   "cell_type": "code",
   "execution_count": 4,
   "metadata": {},
   "outputs": [
    {
     "name": "stdout",
     "output_type": "stream",
     "text": [
      "201800031.json\n"
     ]
    }
   ],
   "source": [
    "year = [2018, 2019, 2020, 2021, 2022, 2023]\n",
    "for i in year:\n",
    "    path = ('./DATA/JSON/' + str(i))\n",
    "    file_in_that_year = (os.listdir(path=path))\n",
    "    for j in file_in_that_year:\n",
    "        with open(path + '/' + j) as fd:\n",
    "            try :\n",
    "                js = json.load(fd)\n",
    "                data.append(js)\n",
    "\n",
    "                search= \"2-s2.0-85059443311\"\n",
    "                if (js['abstracts-retrieval-response']['coredata']['eid'] == search):\n",
    "                    print(j)\n",
    "\n",
    "                if (random.uniform(0, 10) <= 0.1):\n",
    "                    random_data.append(js)\n",
    "            except:\n",
    "                pass"
   ]
  },
  {
   "cell_type": "code",
   "execution_count": null,
   "metadata": {},
   "outputs": [],
   "source": [
    "# all_data_dump = json.dumps(data, indent=2)\n",
    "# partial_data_dump = json.dumps(data[:100], indent=2)\n",
    "# random_data_dump = json.dumps(random_data, indent=2)\n",
    "\n",
    "# with open(\"./DATA/all_data.json\", \"w\", encoding='utf-8') as outfile:\n",
    "#     outfile.write(all_data_dump)\n",
    "\n",
    "# with open(\"./DATA/partial_data.json\", \"w\", encoding='utf-8') as outfile:\n",
    "#     outfile.write(partial_data_dump)\n",
    "\n",
    "# with open(\"./DATA/random_data.json\", \"w\", encoding='utf-8') as outfile:\n",
    "#     outfile.write(random_data_dump)"
   ]
  }
 ],
 "metadata": {
  "kernelspec": {
   "display_name": "base",
   "language": "python",
   "name": "python3"
  },
  "language_info": {
   "codemirror_mode": {
    "name": "ipython",
    "version": 3
   },
   "file_extension": ".py",
   "mimetype": "text/x-python",
   "name": "python",
   "nbconvert_exporter": "python",
   "pygments_lexer": "ipython3",
   "version": "3.12.4"
  },
  "orig_nbformat": 4
 },
 "nbformat": 4,
 "nbformat_minor": 2
}
