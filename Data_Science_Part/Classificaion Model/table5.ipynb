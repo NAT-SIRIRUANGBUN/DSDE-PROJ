{
 "cells": [
  {
   "cell_type": "code",
   "execution_count": 3,
   "metadata": {},
   "outputs": [
    {
     "data": {
      "text/plain": [
       "0                          Thailand National Organization\n",
       "1       Chulalongkorn University Thailand National Org...\n",
       "2                                Chulalongkorn University\n",
       "3       Chulalongkorn University National Science Foun...\n",
       "4       Aquatic Animal Disease Research Center Chulalo...\n",
       "                              ...                        \n",
       "7076    Chulalongkorn University Thailand National Org...\n",
       "7077    Austrian Agency for International Mobility and...\n",
       "7078    Chulalongkorn University Energy Research Insti...\n",
       "7079    Chulalongkorn University Faculty of Science, K...\n",
       "7080    Center Chulalongkorn University Faculty of Sci...\n",
       "Name: Agency_Name, Length: 7081, dtype: object"
      ]
     },
     "execution_count": 3,
     "metadata": {},
     "output_type": "execute_result"
    }
   ],
   "source": [
    "import pandas as pd\n",
    "\n",
    "df = pd.read_csv('./TABLE3.csv')\n",
    "df['Agency_Name']"
   ]
  }
 ],
 "metadata": {
  "kernelspec": {
   "display_name": "base",
   "language": "python",
   "name": "python3"
  },
  "language_info": {
   "codemirror_mode": {
    "name": "ipython",
    "version": 3
   },
   "file_extension": ".py",
   "mimetype": "text/x-python",
   "name": "python",
   "nbconvert_exporter": "python",
   "pygments_lexer": "ipython3",
   "version": "3.12.4"
  }
 },
 "nbformat": 4,
 "nbformat_minor": 2
}
