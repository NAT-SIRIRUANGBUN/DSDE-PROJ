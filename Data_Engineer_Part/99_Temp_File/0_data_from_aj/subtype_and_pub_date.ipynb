{
 "cells": [
  {
   "cell_type": "code",
   "execution_count": 61,
   "metadata": {},
   "outputs": [],
   "source": [
    "import pandas as pd\n",
    "import json"
   ]
  },
  {
   "cell_type": "code",
   "execution_count": 62,
   "metadata": {},
   "outputs": [],
   "source": [
    "# target_source = '../DATA/JSON/all_data.json'\n",
    "# data = []\n",
    "\n",
    "# with open(target_source) as d:\n",
    "#     data = json.load(d)"
   ]
  },
  {
   "cell_type": "code",
   "execution_count": 63,
   "metadata": {},
   "outputs": [],
   "source": [
    "eid_subtype_pubdate_list = []\n",
    "error_list = []\n",
    "\n",
    "for i in data:\n",
    "\n",
    "        eid = i['abstracts-retrieval-response']['coredata']['eid']\n",
    "\n",
    "        pub_date = None\n",
    "        month = None\n",
    "        year = None\n",
    "\n",
    "        try:\n",
    "            pub_date = i['abstracts-retrieval-response']['item']['bibrecord']['head']['source']['publicationdate']\n",
    "        except:\n",
    "            pass\n",
    "\n",
    "        try:\n",
    "            month = pub_date['month']\n",
    "        except:\n",
    "            pass\n",
    "\n",
    "        try:\n",
    "            year = pub_date['year']\n",
    "        except:\n",
    "            pass\n",
    "        \n",
    "        sub_type = None\n",
    "\n",
    "        try:\n",
    "            sub_type = i['abstracts-retrieval-response']['coredata']['subtypeDescription']\n",
    "        except:\n",
    "             pass\n",
    "        \n",
    "        eid_subtype_pubdate_list.append([eid, sub_type, month, year])\n"
   ]
  },
  {
   "cell_type": "code",
   "execution_count": 64,
   "metadata": {},
   "outputs": [],
   "source": [
    "eid_subtype_pubdate_df = pd.DataFrame(eid_subtype_pubdate_list, columns=['Eid', 'Sub_Type', 'Pub_Month', 'Pub_Year'])"
   ]
  },
  {
   "cell_type": "code",
   "execution_count": null,
   "metadata": {},
   "outputs": [],
   "source": []
  },
  {
   "cell_type": "code",
   "execution_count": 65,
   "metadata": {},
   "outputs": [
    {
     "data": {
      "text/plain": [
       "Sub_Type\n",
       "Article             13315\n",
       "Conference Paper      979\n",
       "Review                877\n",
       "Book Chapter          378\n",
       "Letter                169\n",
       "Erratum               119\n",
       "Editorial              99\n",
       "Note                   98\n",
       "Data Paper             26\n",
       "Book                   21\n",
       "Short Survey           17\n",
       "Retracted               1\n",
       "Name: count, dtype: int64"
      ]
     },
     "execution_count": 65,
     "metadata": {},
     "output_type": "execute_result"
    }
   ],
   "source": [
    "eid_subtype_pubdate_df.dropna()['Sub_Type'].value_counts()"
   ]
  },
  {
   "cell_type": "code",
   "execution_count": 66,
   "metadata": {},
   "outputs": [
    {
     "data": {
      "text/plain": [
       "Eid             0\n",
       "Sub_Type        0\n",
       "Pub_Month    4117\n",
       "Pub_Year        0\n",
       "dtype: int64"
      ]
     },
     "execution_count": 66,
     "metadata": {},
     "output_type": "execute_result"
    }
   ],
   "source": [
    "eid_subtype_pubdate_df.isna().sum()"
   ]
  }
 ],
 "metadata": {
  "kernelspec": {
   "display_name": "base",
   "language": "python",
   "name": "python3"
  },
  "language_info": {
   "codemirror_mode": {
    "name": "ipython",
    "version": 3
   },
   "file_extension": ".py",
   "mimetype": "text/x-python",
   "name": "python",
   "nbconvert_exporter": "python",
   "pygments_lexer": "ipython3",
   "version": "3.12.4"
  },
  "orig_nbformat": 4
 },
 "nbformat": 4,
 "nbformat_minor": 2
}
