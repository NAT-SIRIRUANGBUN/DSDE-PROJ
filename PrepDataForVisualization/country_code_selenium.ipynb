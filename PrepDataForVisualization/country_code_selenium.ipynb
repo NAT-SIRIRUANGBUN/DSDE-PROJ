{
 "cells": [
  {
   "cell_type": "code",
   "execution_count": 78,
   "metadata": {},
   "outputs": [],
   "source": [
    "from selenium import webdriver\n",
    "from selenium.webdriver.common.by import By\n",
    "from selenium.webdriver.common.keys import Keys\n",
    "import pandas as pd\n",
    "from pymongo import MongoClient\n",
    "from pymongo.mongo_client import MongoClient\n"
   ]
  },
  {
   "cell_type": "code",
   "execution_count": 79,
   "metadata": {},
   "outputs": [],
   "source": [
    "organization_country_code = pd.read_csv('./organization_country_code.csv')"
   ]
  },
  {
   "cell_type": "code",
   "execution_count": 80,
   "metadata": {},
   "outputs": [],
   "source": [
    "scrape_list = organization_country_code['Funding_Agency_Country_Code'].to_list()"
   ]
  },
  {
   "cell_type": "code",
   "execution_count": 81,
   "metadata": {},
   "outputs": [],
   "source": [
    "driver = webdriver.Chrome()\n"
   ]
  },
  {
   "cell_type": "code",
   "execution_count": 82,
   "metadata": {},
   "outputs": [],
   "source": [
    "country_code_name = []\n",
    "error_brcket = []"
   ]
  },
  {
   "cell_type": "code",
   "execution_count": 83,
   "metadata": {},
   "outputs": [],
   "source": [
    "for i in scrape_list:\n",
    "    try :\n",
    "        driver.get('https://www.geonames.org/' + str(i))\n",
    "        driver.implicitly_wait(20)\n",
    "\n",
    "\n",
    "        l = driver.find_element(By.TAG_NAME, value=\"sup\")\n",
    "        des = l.find_element(By.XPATH, \"./..\")\n",
    "\n",
    "        splitted_string = des.text.split()\n",
    "        country_name = ' '.join(splitted_string[:-1])\n",
    "\n",
    "        country_code_name.append([str(i), country_name])\n",
    "    except:\n",
    "        error_brcket.append(i)\n"
   ]
  },
  {
   "cell_type": "code",
   "execution_count": 84,
   "metadata": {},
   "outputs": [
    {
     "data": {
      "text/plain": [
       "[['1814991', 'China'],\n",
       " ['1605651', 'Thailand'],\n",
       " ['2750405', 'The Netherlands'],\n",
       " ['6252001', 'United States'],\n",
       " ['3469034', 'Brazil'],\n",
       " ['2921044', 'Germany'],\n",
       " ['3686110', 'Colombia'],\n",
       " ['289688', 'Qatar'],\n",
       " ['174982', 'Armenia'],\n",
       " ['2658434', 'Switzerland'],\n",
       " ['3996063', 'Mexico'],\n",
       " ['298795', 'Türkiye'],\n",
       " ['798544', 'Poland'],\n",
       " ['2635167', 'United Kingdom'],\n",
       " ['1269750', 'India'],\n",
       " ['1880251', 'Singapore'],\n",
       " ['2963597', 'Ireland'],\n",
       " ['146669', 'Cyprus'],\n",
       " ['3077311', 'Czechia'],\n",
       " ['1668284', 'Taiwan'],\n",
       " ['2264397', 'Portugal'],\n",
       " ['2017370', 'Russia'],\n",
       " ['453733', 'Estonia'],\n",
       " ['660013', 'Finland'],\n",
       " ['2782113', 'Austria'],\n",
       " ['2802361', 'Belgium'],\n",
       " ['2510769', 'Spain'],\n",
       " ['2186224', 'New Zealand'],\n",
       " ['719819', 'Hungary'],\n",
       " ['1835841', 'South Korea'],\n",
       " ['3175395', 'Italy'],\n",
       " ['3658394', 'Ecuador'],\n",
       " ['1733045', 'Malaysia'],\n",
       " ['6290252', 'Serbia'],\n",
       " ['690791', 'Ukraine'],\n",
       " ['3017382', 'France'],\n",
       " ['732800', 'Bulgaria'],\n",
       " ['130758', 'Iran'],\n",
       " ['1168579', 'Pakistan'],\n",
       " ['1861060', 'Japan'],\n",
       " ['953987', 'South Africa'],\n",
       " ['390903', 'Greece'],\n",
       " ['3202326', 'Croatia'],\n",
       " ['597427', 'Lithuania'],\n",
       " ['6251999', 'Canada'],\n",
       " ['2077456', 'Australia'],\n",
       " ['2623032', 'Denmark'],\n",
       " ['294640', 'Israel'],\n",
       " ['3895114', 'Chile'],\n",
       " ['3865483', 'Argentina'],\n",
       " ['3190538', 'Slovenia'],\n",
       " ['614540', 'Georgia'],\n",
       " ['2542007', 'Morocco'],\n",
       " ['2661886', 'Sweden'],\n",
       " ['1562822', 'Vietnam'],\n",
       " ['1227603', 'Sri Lanka'],\n",
       " ['3144096', 'Norway'],\n",
       " ['337996', 'Ethiopia'],\n",
       " ['1821275', 'Macao'],\n",
       " ['1694008', 'Philippines'],\n",
       " ['1819730', 'Hong Kong'],\n",
       " ['3932488', 'Peru'],\n",
       " ['290557', 'United Arab Emirates'],\n",
       " ['2464461', 'Tunisia'],\n",
       " ['357994', 'Egypt'],\n",
       " ['1522867', 'Kazakhstan'],\n",
       " ['3439705', 'Uruguay'],\n",
       " ['99237', 'Iraq'],\n",
       " ['617790', 'Moldova'],\n",
       " ['3595528', 'Guatemala'],\n",
       " ['3042058', 'Liechtenstein'],\n",
       " ['1643084', 'Indonesia'],\n",
       " ['2629691', 'Iceland'],\n",
       " ['102358', 'Saudi Arabia'],\n",
       " ['3057568', 'Slovakia'],\n",
       " ['2960313', 'Luxembourg'],\n",
       " ['1252634', 'Bhutan'],\n",
       " ['272103', 'Lebanon'],\n",
       " ['226074', 'Uganda'],\n",
       " ['798549', 'Romania'],\n",
       " ['3489940', 'Jamaica'],\n",
       " ['3437598', 'Paraguay'],\n",
       " ['3703430', 'Panama'],\n",
       " ['1327865', 'Myanmar'],\n",
       " ['587116', 'Azerbaijan'],\n",
       " ['458258', 'Latvia'],\n",
       " ['1820814', 'Brunei'],\n",
       " ['286963', 'Oman'],\n",
       " ['2328926', 'Nigeria'],\n",
       " ['783754', 'Albania'],\n",
       " ['192950', 'Kenya'],\n",
       " ['3624060', 'Costa Rica'],\n",
       " ['2589581', 'Algeria'],\n",
       " ['1282988', 'Nepal'],\n",
       " ['1655842', 'Laos'],\n",
       " ['2215636', 'Libya'],\n",
       " ['3355338', 'Namibia'],\n",
       " ['895949', 'Zambia']]"
      ]
     },
     "execution_count": 84,
     "metadata": {},
     "output_type": "execute_result"
    }
   ],
   "source": [
    "country_code_name"
   ]
  },
  {
   "cell_type": "code",
   "execution_count": 89,
   "metadata": {},
   "outputs": [],
   "source": [
    "country_code_name.append(['6695072', 'European Union'])"
   ]
  },
  {
   "cell_type": "code",
   "execution_count": 90,
   "metadata": {},
   "outputs": [
    {
     "data": {
      "text/plain": [
       "99"
      ]
     },
     "execution_count": 90,
     "metadata": {},
     "output_type": "execute_result"
    }
   ],
   "source": [
    "len(country_code_name)"
   ]
  },
  {
   "cell_type": "code",
   "execution_count": 86,
   "metadata": {},
   "outputs": [],
   "source": [
    "country_code_name_df = pd.DataFrame(country_code_name, columns=['Funding_Agency_Country_Code', 'Funding_Agency_Country_Name'])"
   ]
  },
  {
   "cell_type": "code",
   "execution_count": 87,
   "metadata": {},
   "outputs": [],
   "source": [
    "country_code_name_df.to_csv('country_code_name.csv', index=False)"
   ]
  },
  {
   "cell_type": "markdown",
   "metadata": {},
   "source": []
  }
 ],
 "metadata": {
  "kernelspec": {
   "display_name": "base",
   "language": "python",
   "name": "python3"
  },
  "language_info": {
   "codemirror_mode": {
    "name": "ipython",
    "version": 3
   },
   "file_extension": ".py",
   "mimetype": "text/x-python",
   "name": "python",
   "nbconvert_exporter": "python",
   "pygments_lexer": "ipython3",
   "version": "3.12.4"
  },
  "orig_nbformat": 4
 },
 "nbformat": 4,
 "nbformat_minor": 2
}
