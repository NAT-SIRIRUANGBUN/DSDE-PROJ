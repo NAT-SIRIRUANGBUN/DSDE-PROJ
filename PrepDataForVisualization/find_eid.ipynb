{
 "cells": [
  {
   "cell_type": "code",
   "execution_count": 4,
   "metadata": {},
   "outputs": [],
   "source": [
    "import requests\n",
    "import pandas as pd"
   ]
  },
  {
   "cell_type": "code",
   "execution_count": 5,
   "metadata": {},
   "outputs": [],
   "source": [
    "import requests\n",
    "\n",
    "# API endpoint\n",
    "url = \"https://api.elsevier.com/content/search/scopus/\""
   ]
  },
  {
   "cell_type": "code",
   "execution_count": 6,
   "metadata": {},
   "outputs": [
    {
     "name": "stdout",
     "output_type": "stream",
     "text": [
      "0 200\n",
      "25 200\n",
      "50 200\n",
      "75 200\n",
      "100 200\n",
      "125 200\n",
      "150 200\n",
      "175 200\n",
      "200 200\n",
      "225 200\n",
      "250 200\n",
      "275 200\n",
      "300 200\n",
      "325 200\n",
      "350 200\n",
      "375 200\n",
      "400 200\n",
      "425 200\n",
      "450 200\n",
      "475 200\n",
      "500 200\n",
      "525 200\n",
      "550 200\n",
      "575 200\n",
      "600 200\n",
      "625 200\n",
      "650 200\n",
      "675 200\n",
      "700 200\n",
      "725 200\n",
      "750 200\n",
      "775 200\n",
      "800 200\n",
      "825 200\n",
      "850 200\n",
      "875 200\n",
      "900 200\n",
      "925 200\n",
      "950 200\n",
      "975 200\n",
      "1000 200\n",
      "1025 200\n",
      "1050 200\n",
      "1075 200\n",
      "1100 200\n",
      "1125 200\n",
      "1150 200\n",
      "1175 200\n",
      "1200 200\n",
      "1225 200\n",
      "1250 200\n",
      "1275 200\n",
      "1300 200\n",
      "1325 200\n",
      "1350 200\n",
      "1375 200\n",
      "1400 200\n",
      "1425 200\n",
      "1450 200\n",
      "1475 200\n",
      "1500 200\n",
      "1525 200\n",
      "1550 200\n",
      "1575 200\n",
      "1600 200\n",
      "1625 200\n",
      "1650 200\n",
      "1675 200\n",
      "1700 200\n",
      "1725 200\n",
      "1750 200\n",
      "1775 200\n",
      "1800 200\n",
      "1825 200\n",
      "1850 200\n",
      "1875 200\n",
      "1900 200\n",
      "1925 200\n",
      "1950 200\n",
      "1975 200\n",
      "2000 200\n",
      "2025 200\n",
      "2050 200\n",
      "2075 200\n",
      "2100 200\n",
      "2125 200\n",
      "2150 200\n",
      "2175 200\n",
      "2200 200\n",
      "2225 200\n",
      "2250 200\n",
      "2275 200\n",
      "2300 200\n",
      "2325 200\n",
      "2350 200\n",
      "2375 200\n",
      "2400 200\n",
      "2425 200\n",
      "2450 200\n"
     ]
    }
   ],
   "source": [
    "eid_list = []\n",
    "\n",
    "\n",
    "i = 0\n",
    "while i <= 2466:\n",
    "    params = {\n",
    "        \"query\": \"AF-ID(60028190) AND PUBYEAR = 2017\",\n",
    "        \"field\": \"eid\",\n",
    "        \"start\": i\n",
    "    }\n",
    "    headers = {\n",
    "        \"Accept\": \"application/json\",\n",
    "        \"X-ELS-APIKey\": \"fdfa191b9599a981a891f1f6d55bdc95\",\n",
    "    }\n",
    "\n",
    "    response = requests.get(url, headers=headers, params=params)\n",
    "    print(i, response.status_code)\n",
    "    if response.status_code == 200:\n",
    "        for j in response.json()['search-results']['entry']:\n",
    "            eid_list.append(j['eid'])\n",
    "\n",
    "\n",
    "    i += 25"
   ]
  },
  {
   "cell_type": "code",
   "execution_count": 10,
   "metadata": {},
   "outputs": [
    {
     "data": {
      "text/plain": [
       "2466"
      ]
     },
     "execution_count": 10,
     "metadata": {},
     "output_type": "execute_result"
    }
   ],
   "source": [
    "len(eid_list)"
   ]
  },
  {
   "cell_type": "code",
   "execution_count": 11,
   "metadata": {},
   "outputs": [],
   "source": [
    "eid_list_df = pd.DataFrame(eid_list, columns=['Eid'])"
   ]
  },
  {
   "cell_type": "code",
   "execution_count": 12,
   "metadata": {},
   "outputs": [],
   "source": [
    "eid_list_df.to_csv('more_scrape_list.csv', index=False)"
   ]
  }
 ],
 "metadata": {
  "kernelspec": {
   "display_name": "base",
   "language": "python",
   "name": "python3"
  },
  "language_info": {
   "codemirror_mode": {
    "name": "ipython",
    "version": 3
   },
   "file_extension": ".py",
   "mimetype": "text/x-python",
   "name": "python",
   "nbconvert_exporter": "python",
   "pygments_lexer": "ipython3",
   "version": "3.12.4"
  },
  "orig_nbformat": 4
 },
 "nbformat": 4,
 "nbformat_minor": 2
}
