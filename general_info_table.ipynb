{
 "cells": [
  {
   "cell_type": "code",
   "execution_count": null,
   "metadata": {},
   "outputs": [],
   "source": [
    "import numpy as np\n",
    "import pandas as pd\n",
    "import json\n",
    "from pathlib import Path\n",
    "\n",
    "# pd.set_option('display.max_rows', None)\n",
    "# pd.set_option('display.max_columns', None)"
   ]
  },
  {
   "cell_type": "code",
   "execution_count": null,
   "metadata": {},
   "outputs": [],
   "source": [
    "target_source = './DATA/all_data.json'\n",
    "data = []\n",
    "\n",
    "with open(target_source) as d:\n",
    "    data = json.load(d)"
   ]
  },
  {
   "cell_type": "code",
   "execution_count": null,
   "metadata": {},
   "outputs": [],
   "source": [
    "# General Info Table\n",
    "\n",
    "title = []\n",
    "publish_year = []\n",
    "publish_month = []\n",
    "publish_date = []\n",
    "eid = []\n",
    "\n",
    "general_info_fields = {\n",
    "    \"Eid\" : eid,\n",
    "    'Title' : title,\n",
    "    'Publish_Year' : publish_year,\n",
    "    'Publish_Month' : publish_month,\n",
    "    'Publish_Date' : publish_date\n",
    "}\n",
    "\n",
    "erorr_count = 0\n",
    "\n",
    "for i in data:\n",
    "    title.append(i['abstracts-retrieval-response']['coredata']['dc:title'])\n",
    "    publish_year.append(i['abstracts-retrieval-response']['coredata']['prism:coverDate'].split(\"-\")[0])\n",
    "    publish_month.append(i['abstracts-retrieval-response']['coredata']['prism:coverDate'].split(\"-\")[1])\n",
    "    publish_date.append(i['abstracts-retrieval-response']['coredata']['prism:coverDate'].split(\"-\")[1])\n",
    "    eid.append(i['abstracts-retrieval-response']['coredata']['eid'])\n",
    "\n",
    "\n",
    "general_info_table = pd.DataFrame(general_info_fields)\n"
   ]
  },
  {
   "cell_type": "code",
   "execution_count": null,
   "metadata": {},
   "outputs": [],
   "source": [
    "print(len(data))"
   ]
  },
  {
   "cell_type": "code",
   "execution_count": null,
   "metadata": {},
   "outputs": [],
   "source": [
    "filepath = Path('DATA/general_info.csv')\n",
    "filepath.parent.mkdir(parents=True, exist_ok=True)\n",
    "general_info_table.to_csv(filepath, index=False)"
   ]
  },
  {
   "cell_type": "code",
   "execution_count": null,
   "metadata": {},
   "outputs": [],
   "source": [
    "# e = 0\n",
    "# cant_use = []\n",
    "# no_chula = 0\n",
    "# check = 0"
   ]
  },
  {
   "cell_type": "code",
   "execution_count": null,
   "metadata": {},
   "outputs": [],
   "source": [
    "# def get_org (x, eidd) :\n",
    "#     try :\n",
    "#         organization_id = ''\n",
    "#         org = x['affiliation']['affiliation-id']\n",
    "#         if (type(org) == type({})):\n",
    "#             organization_id = (org['@afid'])\n",
    "#         else:\n",
    "#             organization_id = (org[-1]['@afid'])\n",
    "#         affiliation.append(organization_id)\n",
    "#         eid.append(eidd)\n",
    "#         if (organization_id == '60028190'):\n",
    "#             return 1\n",
    "#         return 2\n",
    "#     except:\n",
    "#         return 0\n",
    "        \n",
    "# eid = []\n",
    "# affiliation = []\n",
    "\n",
    "# affiliation_fields = {\n",
    "#     \"EID\" : eid,\n",
    "#     'Affiliation' : affiliation\n",
    "# }\n",
    "\n",
    "# passs = 0\n",
    "\n",
    "# for i in data:\n",
    "#     haschula = 0\n",
    "#     ispass = 0\n",
    "#     eidd = i['abstracts-retrieval-response']['coredata']['eid']\n",
    "#     author_group = i['abstracts-retrieval-response']['item']['bibrecord']['head']['author-group']\n",
    "#     if (type(author_group) == type({})):\n",
    "#         v = get_org(author_group, eidd)\n",
    "#         if (v == 1):\n",
    "#             haschula == 1\n",
    "#         if (v >= 1):\n",
    "#             ispass = 1\n",
    "#         else:\n",
    "#             cant_use.append({'eid' : eidd, 'data' :author_group})\n",
    "#     else:\n",
    "#         for j in author_group:\n",
    "#             v = get_org(j, eidd)\n",
    "#             if (v == 1):\n",
    "#                 haschula = 1\n",
    "#             if (v >= 1):\n",
    "#                 ispass = 1\n",
    "#             else:\n",
    "#                 cant_use.append({'eid' : eidd, 'data' : j})\n",
    "\n",
    "#     if (haschula == 0):\n",
    "#         no_chula += 1\n",
    "#     if (ispass == 1):\n",
    "#         check += 1\n",
    "        \n",
    "            \n",
    "\n",
    "\n",
    "# print('No Match Format : ' + str(len(cant_use)))\n",
    "# print(check)"
   ]
  },
  {
   "cell_type": "code",
   "execution_count": null,
   "metadata": {},
   "outputs": [],
   "source": [
    "# for i in cant_use:\n",
    "#     print(i)\n",
    "\n"
   ]
  },
  {
   "cell_type": "code",
   "execution_count": null,
   "metadata": {},
   "outputs": [],
   "source": [
    "# affiliation_table = pd.DataFrame(affiliation_fields)\n",
    "\n",
    "# affiliation_table = affiliation_table.drop_duplicates()\n",
    "\n",
    "# affiliation_table.head(30)"
   ]
  },
  {
   "cell_type": "code",
   "execution_count": null,
   "metadata": {},
   "outputs": [],
   "source": [
    "# code_list = (affiliation_table['Affiliation'].value_counts().reset_index()['Affiliation'].to_list())"
   ]
  },
  {
   "cell_type": "code",
   "execution_count": null,
   "metadata": {},
   "outputs": [],
   "source": []
  },
  {
   "cell_type": "code",
   "execution_count": null,
   "metadata": {},
   "outputs": [],
   "source": [
    "# affiliation_table[affiliation_table['EID'] == '2-s2.0-85041748957']"
   ]
  }
 ],
 "metadata": {
  "kernelspec": {
   "display_name": "base",
   "language": "python",
   "name": "python3"
  },
  "language_info": {
   "codemirror_mode": {
    "name": "ipython",
    "version": 3
   },
   "file_extension": ".py",
   "mimetype": "text/x-python",
   "name": "python",
   "nbconvert_exporter": "python",
   "pygments_lexer": "ipython3",
   "version": "3.12.4"
  },
  "orig_nbformat": 4
 },
 "nbformat": 4,
 "nbformat_minor": 2
}
