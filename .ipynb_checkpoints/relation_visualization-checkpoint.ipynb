{
 "cells": [
  {
   "cell_type": "code",
   "execution_count": 25,
   "metadata": {},
   "outputs": [
    {
     "name": "stdout",
     "output_type": "stream",
     "text": [
      "Warning: When  cdn_resources is 'local' jupyter notebook has issues displaying graphics on chrome/safari. Use cdn_resources='in_line' or cdn_resources='remote' if you have issues viewing graphics in a notebook.\n",
      "network_graph.html\n"
     ]
    },
    {
     "data": {
      "text/html": [
       "\n",
       "        <iframe\n",
       "            width=\"100%\"\n",
       "            height=\"750px\"\n",
       "            src=\"network_graph.html\"\n",
       "            frameborder=\"0\"\n",
       "            allowfullscreen\n",
       "            \n",
       "        ></iframe>\n",
       "        "
      ],
      "text/plain": [
       "<IPython.lib.display.IFrame at 0x16ad077a0>"
      ]
     },
     "execution_count": 25,
     "metadata": {},
     "output_type": "execute_result"
    }
   ],
   "source": [
    "from pyvis.network import Network\n",
    "import networkx as nx\n",
    "\n",
    "# Create a NetworkX graph as an example\n",
    "G = nx.Graph()\n",
    "\n",
    "# Add some nodes\n",
    "nodes = [\"Thailand\", \"USA\", \"UK\", \"India\", \"China\", \"Germany\", \"Japan\", \"Brazil\", \"France\"]\n",
    "edges = [\n",
    "    (\"Thailand\", \"USA\"),\n",
    "    (\"Thailand\", \"India\"),\n",
    "    (\"Thailand\", \"China\"),\n",
    "    (\"USA\", \"UK\"),\n",
    "    (\"India\", \"Germany\"),\n",
    "    (\"China\", \"Japan\"),\n",
    "    (\"Brazil\", \"France\"),\n",
    "    (\"UK\", \"Germany\"),\n",
    "    (\"USA\", \"India\"),\n",
    "]\n",
    "\n",
    "# Add nodes and edges to the graph\n",
    "G.add_nodes_from(nodes)\n",
    "G.add_edges_from(edges)\n",
    "\n",
    "# Initialize Pyvis Network\n",
    "net = Network(height=\"750px\", width=\"100%\", bgcolor=\"#ffffff\", font_color=\"black\", notebook=True)\n",
    "\n",
    "# Add nodes and edges to the Pyvis network\n",
    "for node in G.nodes:\n",
    "    net.add_node(node, label=node, color=\"blue\")  # Add nodes with labels and colors\n",
    "\n",
    "for edge in G.edges:\n",
    "    net.add_edge(edge[0], edge[1], color=\"gray\", width=1.5)  # Add edges with light styling\n",
    "\n",
    "# Avoid large rectangles or unwanted artifacts:\n",
    "net.set_edge_smooth(\"dynamic\")  # Use dynamic smoothing to control edge rendering artifacts\n",
    "net.toggle_physics(True)  # Enable physics for better layout visualization\n",
    "net.show_buttons(filter_=[\"physics\"])  # Allow toggling physics options via UI\n",
    "\n",
    "# Show the network\n",
    "net.show(\"network_graph.html\")\n"
   ]
  },
  {
   "cell_type": "code",
   "execution_count": null,
   "metadata": {},
   "outputs": [],
   "source": []
  }
 ],
 "metadata": {
  "kernelspec": {
   "display_name": "base",
   "language": "python",
   "name": "python3"
  },
  "language_info": {
   "codemirror_mode": {
    "name": "ipython",
    "version": 3
   },
   "file_extension": ".py",
   "mimetype": "text/x-python",
   "name": "python",
   "nbconvert_exporter": "python",
   "pygments_lexer": "ipython3",
   "version": "3.12.4"
  },
  "orig_nbformat": 4
 },
 "nbformat": 4,
 "nbformat_minor": 2
}
