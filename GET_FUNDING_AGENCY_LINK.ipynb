{
 "cells": [
  {
   "cell_type": "code",
   "execution_count": 28,
   "metadata": {},
   "outputs": [],
   "source": [
    "import pandas as pd\n",
    "import json"
   ]
  },
  {
   "cell_type": "code",
   "execution_count": 29,
   "metadata": {},
   "outputs": [],
   "source": [
    "data = []\n",
    "\n",
    "with open('./PAPAER_SCRAPING.json') as d:\n",
    "    data = json.load(d)"
   ]
  },
  {
   "cell_type": "code",
   "execution_count": 33,
   "metadata": {},
   "outputs": [],
   "source": [
    "agency_link = set()"
   ]
  },
  {
   "cell_type": "code",
   "execution_count": 35,
   "metadata": {},
   "outputs": [],
   "source": [
    "for i in data:\n",
    "    Funding_Agency = i['data']['Funding_Agency']\n",
    "    for j in Funding_Agency:\n",
    "        if (j['link'] != None):\n",
    "            agency_link.add(j['link'])\n",
    "            "
   ]
  },
  {
   "cell_type": "code",
   "execution_count": 41,
   "metadata": {},
   "outputs": [],
   "source": [
    "agency_link_list = list(agency_link)"
   ]
  },
  {
   "cell_type": "code",
   "execution_count": 44,
   "metadata": {},
   "outputs": [],
   "source": [
    "agency_link_df = pd.DataFrame(agency_link_list, columns=['Agency Link'])"
   ]
  },
  {
   "cell_type": "code",
   "execution_count": 46,
   "metadata": {},
   "outputs": [],
   "source": [
    "agency_link_df['Agency_ID'] = agency_link_df['Agency Link'].apply(lambda x : x.split('/')[-1])"
   ]
  },
  {
   "cell_type": "code",
   "execution_count": 53,
   "metadata": {},
   "outputs": [
    {
     "data": {
      "text/html": [
       "<div>\n",
       "<style scoped>\n",
       "    .dataframe tbody tr th:only-of-type {\n",
       "        vertical-align: middle;\n",
       "    }\n",
       "\n",
       "    .dataframe tbody tr th {\n",
       "        vertical-align: top;\n",
       "    }\n",
       "\n",
       "    .dataframe thead th {\n",
       "        text-align: right;\n",
       "    }\n",
       "</style>\n",
       "<table border=\"1\" class=\"dataframe\">\n",
       "  <thead>\n",
       "    <tr style=\"text-align: right;\">\n",
       "      <th></th>\n",
       "      <th>Agency Link</th>\n",
       "      <th>Agency_ID</th>\n",
       "    </tr>\n",
       "  </thead>\n",
       "  <tbody>\n",
       "    <tr>\n",
       "      <th>0</th>\n",
       "      <td>https://www.fundinginstitutional.com/funders/5...</td>\n",
       "      <td>501100005790</td>\n",
       "    </tr>\n",
       "    <tr>\n",
       "      <th>1</th>\n",
       "      <td>https://www.fundinginstitutional.com/funders/1...</td>\n",
       "      <td>100011435</td>\n",
       "    </tr>\n",
       "    <tr>\n",
       "      <th>2</th>\n",
       "      <td>https://www.fundinginstitutional.com/funders/5...</td>\n",
       "      <td>501100010804</td>\n",
       "    </tr>\n",
       "    <tr>\n",
       "      <th>3</th>\n",
       "      <td>https://www.fundinginstitutional.com/funders/5...</td>\n",
       "      <td>501100015895</td>\n",
       "    </tr>\n",
       "    <tr>\n",
       "      <th>4</th>\n",
       "      <td>https://www.fundinginstitutional.com/funders/1...</td>\n",
       "      <td>100001570</td>\n",
       "    </tr>\n",
       "    <tr>\n",
       "      <th>...</th>\n",
       "      <td>...</td>\n",
       "      <td>...</td>\n",
       "    </tr>\n",
       "    <tr>\n",
       "      <th>577</th>\n",
       "      <td>https://www.fundinginstitutional.com/funders/5...</td>\n",
       "      <td>501100003006</td>\n",
       "    </tr>\n",
       "    <tr>\n",
       "      <th>578</th>\n",
       "      <td>https://www.fundinginstitutional.com/funders/1...</td>\n",
       "      <td>100008966</td>\n",
       "    </tr>\n",
       "    <tr>\n",
       "      <th>579</th>\n",
       "      <td>https://www.fundinginstitutional.com/funders/1...</td>\n",
       "      <td>100015670</td>\n",
       "    </tr>\n",
       "    <tr>\n",
       "      <th>580</th>\n",
       "      <td>https://www.fundinginstitutional.com/funders/1...</td>\n",
       "      <td>100004319</td>\n",
       "    </tr>\n",
       "    <tr>\n",
       "      <th>581</th>\n",
       "      <td>https://www.fundinginstitutional.com/funders/5...</td>\n",
       "      <td>501100001823</td>\n",
       "    </tr>\n",
       "  </tbody>\n",
       "</table>\n",
       "<p>582 rows × 2 columns</p>\n",
       "</div>"
      ],
      "text/plain": [
       "                                           Agency Link     Agency_ID\n",
       "0    https://www.fundinginstitutional.com/funders/5...  501100005790\n",
       "1    https://www.fundinginstitutional.com/funders/1...     100011435\n",
       "2    https://www.fundinginstitutional.com/funders/5...  501100010804\n",
       "3    https://www.fundinginstitutional.com/funders/5...  501100015895\n",
       "4    https://www.fundinginstitutional.com/funders/1...     100001570\n",
       "..                                                 ...           ...\n",
       "577  https://www.fundinginstitutional.com/funders/5...  501100003006\n",
       "578  https://www.fundinginstitutional.com/funders/1...     100008966\n",
       "579  https://www.fundinginstitutional.com/funders/1...     100015670\n",
       "580  https://www.fundinginstitutional.com/funders/1...     100004319\n",
       "581  https://www.fundinginstitutional.com/funders/5...  501100001823\n",
       "\n",
       "[582 rows x 2 columns]"
      ]
     },
     "execution_count": 53,
     "metadata": {},
     "output_type": "execute_result"
    }
   ],
   "source": [
    "agency_link_df"
   ]
  },
  {
   "cell_type": "code",
   "execution_count": 54,
   "metadata": {},
   "outputs": [],
   "source": [
    "agency_link_df['Agency_ID'].drop_duplicates().drop(columns='Agency Link').to_csv('agency_id_list.csv', index=False)"
   ]
  }
 ],
 "metadata": {
  "kernelspec": {
   "display_name": "base",
   "language": "python",
   "name": "python3"
  },
  "language_info": {
   "codemirror_mode": {
    "name": "ipython",
    "version": 3
   },
   "file_extension": ".py",
   "mimetype": "text/x-python",
   "name": "python",
   "nbconvert_exporter": "python",
   "pygments_lexer": "ipython3",
   "version": "3.12.4"
  },
  "orig_nbformat": 4
 },
 "nbformat": 4,
 "nbformat_minor": 2
}
