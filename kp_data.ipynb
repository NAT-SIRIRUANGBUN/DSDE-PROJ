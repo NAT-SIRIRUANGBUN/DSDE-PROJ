{
 "cells": [
  {
   "cell_type": "code",
   "execution_count": 1,
   "metadata": {},
   "outputs": [],
   "source": [
    "import json\n",
    "import pandas as pd\n",
    "\n",
    "with open('./DATA/all_data.json') as file:\n",
    "    data = json.load(file)"
   ]
  },
  {
   "cell_type": "code",
   "execution_count": 2,
   "metadata": {},
   "outputs": [],
   "source": [
    "core_rows = []\n",
    "\n",
    "for record in data:\n",
    "    try:\n",
    "        core = record['abstracts-retrieval-response']['coredata']\n",
    "        core_rows.append({\n",
    "            'Eid': core['eid'],\n",
    "            'Title': core.get('dc:title', None),\n",
    "            'Publish_year': core.get('prism:coverDate', '').split('-')[0],\n",
    "            'Language': record['abstracts-retrieval-response'].get('language', {}).get('@xml:lang', None),\n",
    "            'Cited_by_count': core.get('citedby-count', 0)\n",
    "        })\n",
    "    except Exception as e:\n",
    "        pass\n",
    "    \n",
    "core_df = pd.DataFrame(core_rows)\n"
   ]
  },
  {
   "cell_type": "code",
   "execution_count": 3,
   "metadata": {},
   "outputs": [],
   "source": [
    "author_rows = []\n",
    "\n",
    "for record in data:\n",
    "    try:\n",
    "        eid = record['abstracts-retrieval-response']['coredata']['eid']\n",
    "        authors = record['abstracts-retrieval-response']['authors']['author']\n",
    "        for author in authors:\n",
    "            author_rows.append({\n",
    "                'Eid': eid,\n",
    "                'Author_name': author.get('preferred-name', {}).get('ce:indexed-name', None),\n",
    "                'Affiliations': author.get('affiliation', {}).get('affilname', None)\n",
    "            })\n",
    "    except Exception as e:\n",
    "        pass\n",
    "\n",
    "authors_df = pd.DataFrame(author_rows)\n"
   ]
  },
  {
   "cell_type": "code",
   "execution_count": 4,
   "metadata": {},
   "outputs": [],
   "source": [
    "subject_rows = []\n",
    "\n",
    "for record in data:\n",
    "    try:\n",
    "        eid = record['abstracts-retrieval-response']['coredata']['eid']\n",
    "        subjects = record['abstracts-retrieval-response']['subject-areas']['subject-area']\n",
    "        for subject in subjects:\n",
    "            subject_rows.append({\n",
    "                'Eid': eid,\n",
    "                'Subject_areas': subject.get('$', None),\n",
    "                'Subject_codes': subject.get('@code', None)\n",
    "            })\n",
    "    except Exception as e:\n",
    "        pass\n",
    "\n",
    "subjects_df = pd.DataFrame(subject_rows)\n"
   ]
  },
  {
   "cell_type": "code",
   "execution_count": 5,
   "metadata": {},
   "outputs": [],
   "source": [
    "keyword_rows = []\n",
    "\n",
    "for record in data:\n",
    "    try:\n",
    "        eid = record['abstracts-retrieval-response']['coredata']['eid']\n",
    "        keywords = record['abstracts-retrieval-response']['item']['bibrecord']['head']['citation-info']['author-keywords']['author-keyword']\n",
    "        for keyword in keywords:\n",
    "            keyword_rows.append({\n",
    "                'Eid': eid,\n",
    "                'Keywords': keyword.get('$', None),\n",
    "                'Keyword_language': keyword.get('@xml:lang', None)\n",
    "            })\n",
    "    except Exception as e:\n",
    "        pass\n",
    "\n",
    "keywords_df = pd.DataFrame(keyword_rows)\n"
   ]
  },
  {
   "cell_type": "code",
   "execution_count": 6,
   "metadata": {},
   "outputs": [
    {
     "data": {
      "text/html": [
       "<div>\n",
       "<style scoped>\n",
       "    .dataframe tbody tr th:only-of-type {\n",
       "        vertical-align: middle;\n",
       "    }\n",
       "\n",
       "    .dataframe tbody tr th {\n",
       "        vertical-align: top;\n",
       "    }\n",
       "\n",
       "    .dataframe thead th {\n",
       "        text-align: right;\n",
       "    }\n",
       "</style>\n",
       "<table border=\"1\" class=\"dataframe\">\n",
       "  <thead>\n",
       "    <tr style=\"text-align: right;\">\n",
       "      <th></th>\n",
       "      <th>Eid</th>\n",
       "      <th>Title</th>\n",
       "      <th>Publish_year</th>\n",
       "      <th>Language</th>\n",
       "      <th>Cited_by_count</th>\n",
       "    </tr>\n",
       "  </thead>\n",
       "  <tbody>\n",
       "    <tr>\n",
       "      <th>0</th>\n",
       "      <td>2-s2.0-85053164279</td>\n",
       "      <td>Effects of iron content on the microstructure ...</td>\n",
       "      <td>2018</td>\n",
       "      <td>eng</td>\n",
       "      <td>8</td>\n",
       "    </tr>\n",
       "    <tr>\n",
       "      <th>1</th>\n",
       "      <td>2-s2.0-85049101440</td>\n",
       "      <td>The critical factors of research and innovatio...</td>\n",
       "      <td>2018</td>\n",
       "      <td>eng</td>\n",
       "      <td>33</td>\n",
       "    </tr>\n",
       "    <tr>\n",
       "      <th>2</th>\n",
       "      <td>2-s2.0-85054140369</td>\n",
       "      <td>Is the occiput-wall distance valid and reliabl...</td>\n",
       "      <td>2018</td>\n",
       "      <td>eng</td>\n",
       "      <td>8</td>\n",
       "    </tr>\n",
       "    <tr>\n",
       "      <th>3</th>\n",
       "      <td>2-s2.0-85097515350</td>\n",
       "      <td>Comparison of soil composition between farmlan...</td>\n",
       "      <td>2018</td>\n",
       "      <td>eng</td>\n",
       "      <td>0</td>\n",
       "    </tr>\n",
       "    <tr>\n",
       "      <th>4</th>\n",
       "      <td>2-s2.0-85041527766</td>\n",
       "      <td>The impact of wire caliber on ERCP outcomes: a...</td>\n",
       "      <td>2018</td>\n",
       "      <td>eng</td>\n",
       "      <td>12</td>\n",
       "    </tr>\n",
       "  </tbody>\n",
       "</table>\n",
       "</div>"
      ],
      "text/plain": [
       "                  Eid                                              Title  \\\n",
       "0  2-s2.0-85053164279  Effects of iron content on the microstructure ...   \n",
       "1  2-s2.0-85049101440  The critical factors of research and innovatio...   \n",
       "2  2-s2.0-85054140369  Is the occiput-wall distance valid and reliabl...   \n",
       "3  2-s2.0-85097515350  Comparison of soil composition between farmlan...   \n",
       "4  2-s2.0-85041527766  The impact of wire caliber on ERCP outcomes: a...   \n",
       "\n",
       "  Publish_year Language Cited_by_count  \n",
       "0         2018      eng              8  \n",
       "1         2018      eng             33  \n",
       "2         2018      eng              8  \n",
       "3         2018      eng              0  \n",
       "4         2018      eng             12  "
      ]
     },
     "execution_count": 6,
     "metadata": {},
     "output_type": "execute_result"
    }
   ],
   "source": [
    "core_df.head()"
   ]
  },
  {
   "cell_type": "code",
   "execution_count": 7,
   "metadata": {},
   "outputs": [
    {
     "data": {
      "text/html": [
       "<div>\n",
       "<style scoped>\n",
       "    .dataframe tbody tr th:only-of-type {\n",
       "        vertical-align: middle;\n",
       "    }\n",
       "\n",
       "    .dataframe tbody tr th {\n",
       "        vertical-align: top;\n",
       "    }\n",
       "\n",
       "    .dataframe thead th {\n",
       "        text-align: right;\n",
       "    }\n",
       "</style>\n",
       "<table border=\"1\" class=\"dataframe\">\n",
       "  <thead>\n",
       "    <tr style=\"text-align: right;\">\n",
       "      <th></th>\n",
       "      <th>Eid</th>\n",
       "      <th>Author_name</th>\n",
       "      <th>Affiliations</th>\n",
       "    </tr>\n",
       "  </thead>\n",
       "  <tbody>\n",
       "    <tr>\n",
       "      <th>0</th>\n",
       "      <td>2-s2.0-85053164279</td>\n",
       "      <td>Gao X.</td>\n",
       "      <td>None</td>\n",
       "    </tr>\n",
       "    <tr>\n",
       "      <th>1</th>\n",
       "      <td>2-s2.0-85053164279</td>\n",
       "      <td>Xia C.</td>\n",
       "      <td>None</td>\n",
       "    </tr>\n",
       "    <tr>\n",
       "      <th>2</th>\n",
       "      <td>2-s2.0-85053164279</td>\n",
       "      <td>Zhang X.</td>\n",
       "      <td>None</td>\n",
       "    </tr>\n",
       "    <tr>\n",
       "      <th>3</th>\n",
       "      <td>2-s2.0-85053164279</td>\n",
       "      <td>Jing Q.</td>\n",
       "      <td>None</td>\n",
       "    </tr>\n",
       "    <tr>\n",
       "      <th>4</th>\n",
       "      <td>2-s2.0-85053164279</td>\n",
       "      <td>Ma M.</td>\n",
       "      <td>None</td>\n",
       "    </tr>\n",
       "  </tbody>\n",
       "</table>\n",
       "</div>"
      ],
      "text/plain": [
       "                  Eid Author_name Affiliations\n",
       "0  2-s2.0-85053164279      Gao X.         None\n",
       "1  2-s2.0-85053164279      Xia C.         None\n",
       "2  2-s2.0-85053164279    Zhang X.         None\n",
       "3  2-s2.0-85053164279     Jing Q.         None\n",
       "4  2-s2.0-85053164279       Ma M.         None"
      ]
     },
     "execution_count": 7,
     "metadata": {},
     "output_type": "execute_result"
    }
   ],
   "source": [
    "authors_df.head()"
   ]
  },
  {
   "cell_type": "code",
   "execution_count": 8,
   "metadata": {},
   "outputs": [
    {
     "data": {
      "text/html": [
       "<div>\n",
       "<style scoped>\n",
       "    .dataframe tbody tr th:only-of-type {\n",
       "        vertical-align: middle;\n",
       "    }\n",
       "\n",
       "    .dataframe tbody tr th {\n",
       "        vertical-align: top;\n",
       "    }\n",
       "\n",
       "    .dataframe thead th {\n",
       "        text-align: right;\n",
       "    }\n",
       "</style>\n",
       "<table border=\"1\" class=\"dataframe\">\n",
       "  <thead>\n",
       "    <tr style=\"text-align: right;\">\n",
       "      <th></th>\n",
       "      <th>Eid</th>\n",
       "      <th>Subject_areas</th>\n",
       "      <th>Subject_codes</th>\n",
       "    </tr>\n",
       "  </thead>\n",
       "  <tbody>\n",
       "    <tr>\n",
       "      <th>0</th>\n",
       "      <td>2-s2.0-85053164279</td>\n",
       "      <td>Materials Science (all)</td>\n",
       "      <td>2500</td>\n",
       "    </tr>\n",
       "    <tr>\n",
       "      <th>1</th>\n",
       "      <td>2-s2.0-85053164279</td>\n",
       "      <td>Condensed Matter Physics</td>\n",
       "      <td>3104</td>\n",
       "    </tr>\n",
       "    <tr>\n",
       "      <th>2</th>\n",
       "      <td>2-s2.0-85049101440</td>\n",
       "      <td>Business and International Management</td>\n",
       "      <td>1403</td>\n",
       "    </tr>\n",
       "    <tr>\n",
       "      <th>3</th>\n",
       "      <td>2-s2.0-85049101440</td>\n",
       "      <td>Economics, Econometrics and Finance (all)</td>\n",
       "      <td>2000</td>\n",
       "    </tr>\n",
       "    <tr>\n",
       "      <th>4</th>\n",
       "      <td>2-s2.0-85054140369</td>\n",
       "      <td>Physical Therapy, Sports Therapy and Rehabilit...</td>\n",
       "      <td>3612</td>\n",
       "    </tr>\n",
       "  </tbody>\n",
       "</table>\n",
       "</div>"
      ],
      "text/plain": [
       "                  Eid                                      Subject_areas  \\\n",
       "0  2-s2.0-85053164279                            Materials Science (all)   \n",
       "1  2-s2.0-85053164279                           Condensed Matter Physics   \n",
       "2  2-s2.0-85049101440              Business and International Management   \n",
       "3  2-s2.0-85049101440          Economics, Econometrics and Finance (all)   \n",
       "4  2-s2.0-85054140369  Physical Therapy, Sports Therapy and Rehabilit...   \n",
       "\n",
       "  Subject_codes  \n",
       "0          2500  \n",
       "1          3104  \n",
       "2          1403  \n",
       "3          2000  \n",
       "4          3612  "
      ]
     },
     "execution_count": 8,
     "metadata": {},
     "output_type": "execute_result"
    }
   ],
   "source": [
    "subjects_df.head()"
   ]
  },
  {
   "cell_type": "code",
   "execution_count": 9,
   "metadata": {},
   "outputs": [
    {
     "data": {
      "text/html": [
       "<div>\n",
       "<style scoped>\n",
       "    .dataframe tbody tr th:only-of-type {\n",
       "        vertical-align: middle;\n",
       "    }\n",
       "\n",
       "    .dataframe tbody tr th {\n",
       "        vertical-align: top;\n",
       "    }\n",
       "\n",
       "    .dataframe thead th {\n",
       "        text-align: right;\n",
       "    }\n",
       "</style>\n",
       "<table border=\"1\" class=\"dataframe\">\n",
       "  <thead>\n",
       "    <tr style=\"text-align: right;\">\n",
       "      <th></th>\n",
       "      <th>Eid</th>\n",
       "      <th>Keywords</th>\n",
       "      <th>Keyword_language</th>\n",
       "    </tr>\n",
       "  </thead>\n",
       "  <tbody>\n",
       "    <tr>\n",
       "      <th>0</th>\n",
       "      <td>2-s2.0-85053164279</td>\n",
       "      <td>EIS</td>\n",
       "      <td>eng</td>\n",
       "    </tr>\n",
       "    <tr>\n",
       "      <th>1</th>\n",
       "      <td>2-s2.0-85053164279</td>\n",
       "      <td>Microstructure</td>\n",
       "      <td>eng</td>\n",
       "    </tr>\n",
       "    <tr>\n",
       "      <th>2</th>\n",
       "      <td>2-s2.0-85053164279</td>\n",
       "      <td>Pitting corrosion</td>\n",
       "      <td>eng</td>\n",
       "    </tr>\n",
       "    <tr>\n",
       "      <th>3</th>\n",
       "      <td>2-s2.0-85053164279</td>\n",
       "      <td>Polarization</td>\n",
       "      <td>eng</td>\n",
       "    </tr>\n",
       "    <tr>\n",
       "      <th>4</th>\n",
       "      <td>2-s2.0-85053164279</td>\n",
       "      <td>Titanium alloy</td>\n",
       "      <td>eng</td>\n",
       "    </tr>\n",
       "  </tbody>\n",
       "</table>\n",
       "</div>"
      ],
      "text/plain": [
       "                  Eid           Keywords Keyword_language\n",
       "0  2-s2.0-85053164279                EIS              eng\n",
       "1  2-s2.0-85053164279     Microstructure              eng\n",
       "2  2-s2.0-85053164279  Pitting corrosion              eng\n",
       "3  2-s2.0-85053164279       Polarization              eng\n",
       "4  2-s2.0-85053164279     Titanium alloy              eng"
      ]
     },
     "execution_count": 9,
     "metadata": {},
     "output_type": "execute_result"
    }
   ],
   "source": [
    "keywords_df.head()"
   ]
  },
  {
   "cell_type": "code",
   "execution_count": 10,
   "metadata": {},
   "outputs": [],
   "source": [
    "final_df = core_df.merge(authors_df, on='Eid', how='left') \\\n",
    "                  .merge(subjects_df, on='Eid', how='left') \\\n",
    "                  .merge(keywords_df, on='Eid', how='left')\n"
   ]
  },
  {
   "cell_type": "code",
   "execution_count": 11,
   "metadata": {},
   "outputs": [
    {
     "data": {
      "text/html": [
       "<div>\n",
       "<style scoped>\n",
       "    .dataframe tbody tr th:only-of-type {\n",
       "        vertical-align: middle;\n",
       "    }\n",
       "\n",
       "    .dataframe tbody tr th {\n",
       "        vertical-align: top;\n",
       "    }\n",
       "\n",
       "    .dataframe thead th {\n",
       "        text-align: right;\n",
       "    }\n",
       "</style>\n",
       "<table border=\"1\" class=\"dataframe\">\n",
       "  <thead>\n",
       "    <tr style=\"text-align: right;\">\n",
       "      <th></th>\n",
       "      <th>Eid</th>\n",
       "      <th>Title</th>\n",
       "      <th>Publish_year</th>\n",
       "      <th>Language</th>\n",
       "      <th>Cited_by_count</th>\n",
       "      <th>Author_name</th>\n",
       "      <th>Affiliations</th>\n",
       "      <th>Subject_areas</th>\n",
       "      <th>Subject_codes</th>\n",
       "      <th>Keywords</th>\n",
       "      <th>Keyword_language</th>\n",
       "    </tr>\n",
       "  </thead>\n",
       "  <tbody>\n",
       "    <tr>\n",
       "      <th>0</th>\n",
       "      <td>2-s2.0-85053164279</td>\n",
       "      <td>Effects of iron content on the microstructure ...</td>\n",
       "      <td>2018</td>\n",
       "      <td>eng</td>\n",
       "      <td>8</td>\n",
       "      <td>Gao X.</td>\n",
       "      <td>None</td>\n",
       "      <td>Materials Science (all)</td>\n",
       "      <td>2500</td>\n",
       "      <td>EIS</td>\n",
       "      <td>eng</td>\n",
       "    </tr>\n",
       "    <tr>\n",
       "      <th>1</th>\n",
       "      <td>2-s2.0-85053164279</td>\n",
       "      <td>Effects of iron content on the microstructure ...</td>\n",
       "      <td>2018</td>\n",
       "      <td>eng</td>\n",
       "      <td>8</td>\n",
       "      <td>Gao X.</td>\n",
       "      <td>None</td>\n",
       "      <td>Materials Science (all)</td>\n",
       "      <td>2500</td>\n",
       "      <td>Microstructure</td>\n",
       "      <td>eng</td>\n",
       "    </tr>\n",
       "    <tr>\n",
       "      <th>2</th>\n",
       "      <td>2-s2.0-85053164279</td>\n",
       "      <td>Effects of iron content on the microstructure ...</td>\n",
       "      <td>2018</td>\n",
       "      <td>eng</td>\n",
       "      <td>8</td>\n",
       "      <td>Gao X.</td>\n",
       "      <td>None</td>\n",
       "      <td>Materials Science (all)</td>\n",
       "      <td>2500</td>\n",
       "      <td>Pitting corrosion</td>\n",
       "      <td>eng</td>\n",
       "    </tr>\n",
       "    <tr>\n",
       "      <th>3</th>\n",
       "      <td>2-s2.0-85053164279</td>\n",
       "      <td>Effects of iron content on the microstructure ...</td>\n",
       "      <td>2018</td>\n",
       "      <td>eng</td>\n",
       "      <td>8</td>\n",
       "      <td>Gao X.</td>\n",
       "      <td>None</td>\n",
       "      <td>Materials Science (all)</td>\n",
       "      <td>2500</td>\n",
       "      <td>Polarization</td>\n",
       "      <td>eng</td>\n",
       "    </tr>\n",
       "    <tr>\n",
       "      <th>4</th>\n",
       "      <td>2-s2.0-85053164279</td>\n",
       "      <td>Effects of iron content on the microstructure ...</td>\n",
       "      <td>2018</td>\n",
       "      <td>eng</td>\n",
       "      <td>8</td>\n",
       "      <td>Gao X.</td>\n",
       "      <td>None</td>\n",
       "      <td>Materials Science (all)</td>\n",
       "      <td>2500</td>\n",
       "      <td>Titanium alloy</td>\n",
       "      <td>eng</td>\n",
       "    </tr>\n",
       "  </tbody>\n",
       "</table>\n",
       "</div>"
      ],
      "text/plain": [
       "                  Eid                                              Title  \\\n",
       "0  2-s2.0-85053164279  Effects of iron content on the microstructure ...   \n",
       "1  2-s2.0-85053164279  Effects of iron content on the microstructure ...   \n",
       "2  2-s2.0-85053164279  Effects of iron content on the microstructure ...   \n",
       "3  2-s2.0-85053164279  Effects of iron content on the microstructure ...   \n",
       "4  2-s2.0-85053164279  Effects of iron content on the microstructure ...   \n",
       "\n",
       "  Publish_year Language Cited_by_count Author_name Affiliations  \\\n",
       "0         2018      eng              8      Gao X.         None   \n",
       "1         2018      eng              8      Gao X.         None   \n",
       "2         2018      eng              8      Gao X.         None   \n",
       "3         2018      eng              8      Gao X.         None   \n",
       "4         2018      eng              8      Gao X.         None   \n",
       "\n",
       "             Subject_areas Subject_codes           Keywords Keyword_language  \n",
       "0  Materials Science (all)          2500                EIS              eng  \n",
       "1  Materials Science (all)          2500     Microstructure              eng  \n",
       "2  Materials Science (all)          2500  Pitting corrosion              eng  \n",
       "3  Materials Science (all)          2500       Polarization              eng  \n",
       "4  Materials Science (all)          2500     Titanium alloy              eng  "
      ]
     },
     "execution_count": 11,
     "metadata": {},
     "output_type": "execute_result"
    }
   ],
   "source": [
    "final_df.head()"
   ]
  },
  {
   "cell_type": "code",
   "execution_count": 12,
   "metadata": {},
   "outputs": [],
   "source": [
    "final_df.to_csv('scopus_data.csv', index=False)"
   ]
  },
  {
   "cell_type": "code",
   "execution_count": 13,
   "metadata": {},
   "outputs": [
    {
     "name": "stdout",
     "output_type": "stream",
     "text": [
      "จำนวนรายการในแต่ละ DataFrame:\n",
      "Core Data: 20096\n",
      "Authors Data: 121711\n",
      "Subjects Data: 50064\n",
      "Keywords Data: 83032\n"
     ]
    }
   ],
   "source": [
    "print(\"จำนวนรายการในแต่ละ DataFrame:\")\n",
    "print(f\"Core Data: {len(core_df)}\")\n",
    "print(f\"Authors Data: {len(authors_df)}\")\n",
    "print(f\"Subjects Data: {len(subjects_df)}\")\n",
    "print(f\"Keywords Data: {len(keywords_df)}\")"
   ]
  },
  {
   "cell_type": "code",
   "execution_count": 14,
   "metadata": {},
   "outputs": [
    {
     "name": "stdout",
     "output_type": "stream",
     "text": [
      "\n",
      "ตรวจสอบข้อมูลว่างในแต่ละ DataFrame:\n",
      "Missing values in core_df:\n",
      " Eid               0\n",
      "Title             0\n",
      "Publish_year      0\n",
      "Language          0\n",
      "Cited_by_count    4\n",
      "dtype: int64\n",
      "Missing values in authors_df:\n",
      " Eid                  0\n",
      "Author_name          0\n",
      "Affiliations    121711\n",
      "dtype: int64\n",
      "Missing values in subjects_df:\n",
      " Eid              0\n",
      "Subject_areas    0\n",
      "Subject_codes    0\n",
      "dtype: int64\n",
      "Missing values in keywords_df:\n",
      " Eid                 0\n",
      "Keywords            0\n",
      "Keyword_language    0\n",
      "dtype: int64\n"
     ]
    }
   ],
   "source": [
    "print(\"\\nตรวจสอบข้อมูลว่างในแต่ละ DataFrame:\")\n",
    "print(\"Missing values in core_df:\\n\", core_df.isnull().sum())\n",
    "print(\"Missing values in authors_df:\\n\", authors_df.isnull().sum())\n",
    "print(\"Missing values in subjects_df:\\n\", subjects_df.isnull().sum())\n",
    "print(\"Missing values in keywords_df:\\n\", keywords_df.isnull().sum())"
   ]
  },
  {
   "cell_type": "code",
   "execution_count": 15,
   "metadata": {},
   "outputs": [
    {
     "name": "stdout",
     "output_type": "stream",
     "text": [
      "\n",
      "การกระจายตัวของปีที่ตีพิมพ์:\n",
      "Publish_year\n",
      "2018    2784\n",
      "2019    3063\n",
      "2020    3373\n",
      "2021    3787\n",
      "2022    4227\n",
      "2023    2862\n",
      "Name: count, dtype: int64\n"
     ]
    }
   ],
   "source": [
    "print(\"\\nการกระจายตัวของปีที่ตีพิมพ์:\")\n",
    "publish_year_distribution = core_df['Publish_year'].value_counts().sort_index()\n",
    "print(publish_year_distribution)"
   ]
  },
  {
   "cell_type": "code",
   "execution_count": 16,
   "metadata": {},
   "outputs": [
    {
     "name": "stdout",
     "output_type": "stream",
     "text": [
      "\n",
      "ข้อมูลการถูกอ้างอิง:\n",
      "count     20092\n",
      "unique      211\n",
      "top           0\n",
      "freq       5251\n",
      "Name: Cited_by_count, dtype: object\n"
     ]
    }
   ],
   "source": [
    "print(\"\\nข้อมูลการถูกอ้างอิง:\")\n",
    "cited_by_summary = core_df['Cited_by_count'].describe()\n",
    "print(cited_by_summary)"
   ]
  },
  {
   "cell_type": "code",
   "execution_count": 17,
   "metadata": {},
   "outputs": [
    {
     "name": "stdout",
     "output_type": "stream",
     "text": [
      "\n",
      "จำนวนผู้แต่งที่ไม่ซ้ำกัน:\n",
      "มีผู้แต่งที่ไม่ซ้ำกันทั้งหมด: 30819\n"
     ]
    }
   ],
   "source": [
    "print(\"\\nจำนวนผู้แต่งที่ไม่ซ้ำกัน:\")\n",
    "unique_authors = authors_df['Author_name'].nunique()\n",
    "print(f\"มีผู้แต่งที่ไม่ซ้ำกันทั้งหมด: {unique_authors}\")"
   ]
  },
  {
   "cell_type": "code",
   "execution_count": 18,
   "metadata": {},
   "outputs": [
    {
     "name": "stdout",
     "output_type": "stream",
     "text": [
      "\n",
      "การวิเคราะห์คีย์เวิร์ด:\n",
      "Top 10 คีย์เวิร์ดที่พบบ่อย:\n",
      "Keywords\n",
      "Thailand                                  746\n",
      "COVID-19                                  282\n",
      "Hadron-Hadron scattering (experiments)    152\n",
      "Inflammation                              130\n",
      "SARS-CoV-2                                115\n",
      "HIV                                       114\n",
      "CMS                                        98\n",
      "Oxidative stress                           83\n",
      "Asia                                       81\n",
      "Machine learning                           78\n",
      "Name: count, dtype: int64\n"
     ]
    }
   ],
   "source": [
    "print(\"\\nการวิเคราะห์คีย์เวิร์ด:\")\n",
    "keyword_counts = keywords_df['Keywords'].value_counts().head(10)\n",
    "print(\"Top 10 คีย์เวิร์ดที่พบบ่อย:\")\n",
    "print(keyword_counts)"
   ]
  },
  {
   "cell_type": "code",
   "execution_count": 19,
   "metadata": {},
   "outputs": [
    {
     "name": "stdout",
     "output_type": "stream",
     "text": [
      "\n",
      "ความหลากหลายของภาษาใน Keywords:\n",
      "Keyword_language\n",
      "eng    83024\n",
      "tha        5\n",
      "bos        3\n",
      "Name: count, dtype: int64\n"
     ]
    }
   ],
   "source": [
    "print(\"\\nความหลากหลายของภาษาใน Keywords:\")\n",
    "keyword_language_counts = keywords_df['Keyword_language'].value_counts()\n",
    "print(keyword_language_counts)"
   ]
  },
  {
   "cell_type": "code",
   "execution_count": 20,
   "metadata": {},
   "outputs": [
    {
     "name": "stdout",
     "output_type": "stream",
     "text": [
      "\n",
      "การวิเคราะห์สาขาวิชา:\n",
      "Top สาขาวิชาที่พบบ่อย:\n",
      "Subject_areas\n",
      "Multidisciplinary                                       1088\n",
      "Materials Science (all)                                  907\n",
      "Chemistry (all)                                          905\n",
      "Chemical Engineering (all)                               755\n",
      "Infectious Diseases                                      753\n",
      "Computer Science Applications                            725\n",
      "Electrical and Electronic Engineering                    705\n",
      "Computer Networks and Communications                     699\n",
      "Medicine (all)                                           680\n",
      "Public Health, Environmental and Occupational Health     664\n",
      "Name: count, dtype: int64\n"
     ]
    }
   ],
   "source": [
    "print(\"\\nการวิเคราะห์สาขาวิชา:\")\n",
    "subject_areas_counts = subjects_df['Subject_areas'].value_counts()\n",
    "print(\"Top สาขาวิชาที่พบบ่อย:\")\n",
    "print(subject_areas_counts.head(10))"
   ]
  }
 ],
 "metadata": {
  "kernelspec": {
   "display_name": "base",
   "language": "python",
   "name": "python3"
  },
  "language_info": {
   "codemirror_mode": {
    "name": "ipython",
    "version": 3
   },
   "file_extension": ".py",
   "mimetype": "text/x-python",
   "name": "python",
   "nbconvert_exporter": "python",
   "pygments_lexer": "ipython3",
   "version": "3.12.4"
  },
  "orig_nbformat": 4
 },
 "nbformat": 4,
 "nbformat_minor": 2
}
