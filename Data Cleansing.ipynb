{
 "cells": [
  {
   "cell_type": "code",
   "execution_count": 6,
   "metadata": {},
   "outputs": [],
   "source": [
    "import numpy as np\n",
    "import pandas as pd\n",
    "import json\n",
    "import os\n"
   ]
  },
  {
   "cell_type": "code",
   "execution_count": 7,
   "metadata": {},
   "outputs": [],
   "source": [
    "data = []"
   ]
  },
  {
   "cell_type": "code",
   "execution_count": 8,
   "metadata": {},
   "outputs": [
    {
     "name": "stdout",
     "output_type": "stream",
     "text": [
      "2793\n",
      "3083\n",
      "3816\n",
      "4245\n",
      "2891\n"
     ]
    }
   ],
   "source": [
    "year = [2018, 2019, 2020, 2021, 2022, 2023]\n",
    "for i in year:\n",
    "    path = ('./DATA/JSON/' + str(i))\n",
    "    file_in_that_year = (os.listdir(path=path))\n",
    "    for j in file_in_that_year:\n",
    "        with open(path + '/' + j) as fd:\n",
    "            try :\n",
    "                js = json.load(fd)\n",
    "                data.append(js)\n",
    "            except:\n",
    "                pass\n",
    "            \n"
   ]
  },
  {
   "cell_type": "code",
   "execution_count": 9,
   "metadata": {},
   "outputs": [],
   "source": [
    "data_dump = json.dumps(data)\n",
    "\n",
    "with open(\"All_DATA.json\", \"w\") as outfile:\n",
    "    outfile.write(data_dump)\n"
   ]
  },
  {
   "cell_type": "code",
   "execution_count": 10,
   "metadata": {},
   "outputs": [
    {
     "name": "stdout",
     "output_type": "stream",
     "text": [
      "20216\n"
     ]
    }
   ],
   "source": [
    "with open('All_DATA.json') as d:\n",
    "    a = json.load(d)\n",
    "    print(len(a))"
   ]
  }
 ],
 "metadata": {
  "kernelspec": {
   "display_name": "base",
   "language": "python",
   "name": "python3"
  },
  "language_info": {
   "codemirror_mode": {
    "name": "ipython",
    "version": 3
   },
   "file_extension": ".py",
   "mimetype": "text/x-python",
   "name": "python",
   "nbconvert_exporter": "python",
   "pygments_lexer": "ipython3",
   "version": "3.12.4"
  },
  "orig_nbformat": 4
 },
 "nbformat": 4,
 "nbformat_minor": 2
}
