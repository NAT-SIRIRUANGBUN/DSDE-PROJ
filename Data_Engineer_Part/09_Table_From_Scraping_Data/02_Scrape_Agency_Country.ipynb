{
 "cells": [
  {
   "cell_type": "code",
   "execution_count": null,
   "metadata": {},
   "outputs": [],
   "source": [
    "import pandas as pd\n",
    "import requests\n",
    "from selenium import webdriver\n",
    "from selenium.webdriver.common.by import By\n",
    "from pymongo import MongoClient\n",
    "from pymongo.mongo_client import MongoClient\n",
    "import time"
   ]
  },
  {
   "cell_type": "code",
   "execution_count": null,
   "metadata": {},
   "outputs": [],
   "source": [
    "agency_id_list = pd.read_csv('agency_id_list.csv')['Agency_ID'].to_list()"
   ]
  },
  {
   "cell_type": "code",
   "execution_count": null,
   "metadata": {},
   "outputs": [],
   "source": [
    "driver = webdriver.Chrome()\n"
   ]
  },
  {
   "cell_type": "code",
   "execution_count": null,
   "metadata": {},
   "outputs": [],
   "source": [
    "agency_data = []\n",
    "driver.implicitly_wait(50)"
   ]
  },
  {
   "cell_type": "code",
   "execution_count": null,
   "metadata": {},
   "outputs": [],
   "source": [
    "for i in range(len(agency_id_list)):\n",
    "    agency_id = str(agency_id_list[i])\n",
    "    url = 'https://www.fundinginstitutional.com/funders/' + agency_id + '/details'\n",
    "    driver.get(url)\n",
    "\n",
    "    agenct_name = driver.find_element(By.TAG_NAME, 'h1').text\n",
    "\n",
    "    country_class = driver.find_element(By.CLASS_NAME, 'country')\n",
    "\n",
    "    country_name = country_class.find_element(By.TAG_NAME, 'img').get_attribute('alt')\n",
    "    print(agency_id, agenct_name, country_name)\n",
    "    agency_data.append([agency_id, agenct_name, country_name])"
   ]
  },
  {
   "cell_type": "code",
   "execution_count": null,
   "metadata": {},
   "outputs": [],
   "source": [
    "agency_data_df = pd.DataFrame(agency_data, columns=['Agency_ID', 'Agency_Name', 'Agency_Country'])"
   ]
  },
  {
   "cell_type": "code",
   "execution_count": null,
   "metadata": {},
   "outputs": [],
   "source": [
    "agency_data_df.to_csv('agency_data.csv')"
   ]
  }
 ],
 "metadata": {
  "kernelspec": {
   "display_name": "base",
   "language": "python",
   "name": "python3"
  },
  "language_info": {
   "codemirror_mode": {
    "name": "ipython",
    "version": 3
   },
   "file_extension": ".py",
   "mimetype": "text/x-python",
   "name": "python",
   "nbconvert_exporter": "python",
   "pygments_lexer": "ipython3",
   "version": "3.12.4"
  },
  "orig_nbformat": 4
 },
 "nbformat": 4,
 "nbformat_minor": 2
}
